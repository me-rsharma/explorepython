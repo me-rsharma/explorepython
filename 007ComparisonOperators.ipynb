{
  "nbformat": 4,
  "nbformat_minor": 0,
  "metadata": {
    "colab": {
      "provenance": [],
      "authorship_tag": "ABX9TyNfJSDX3y5kq8/2jTapJNJN",
      "include_colab_link": true
    },
    "kernelspec": {
      "name": "python3",
      "display_name": "Python 3"
    },
    "language_info": {
      "name": "python"
    }
  },
  "cells": [
    {
      "cell_type": "markdown",
      "metadata": {
        "id": "view-in-github",
        "colab_type": "text"
      },
      "source": [
        "<a href=\"https://colab.research.google.com/github/me-rsharma/explorepython/blob/master/007ComparisonOperators.ipynb\" target=\"_parent\"><img src=\"https://colab.research.google.com/assets/colab-badge.svg\" alt=\"Open In Colab\"/></a>"
      ]
    },
    {
      "cell_type": "markdown",
      "source": [
        "## `Comparison Operators`\n",
        "\n",
        "`Comparison operators are nothing but the symbols that are use to compare two operands and return boolean value`\n",
        "\n",
        "`==` `used to compare the equality of two operands eg. a == b`\n",
        "\n",
        "`!=` `used to compare non equality of two operands eg. a != b`\n",
        "\n",
        "`>` `used to compare greater than eg. a > b`\n",
        "\n",
        "`<` `used to compare less than eg. a < b`\n",
        "\n",
        "`>=` `used to compare if value is greater than or equal to eg. a >= b`\n",
        "\n",
        "`<=` `used to compare if value if less than or equal to eg. a <= b`\n"
      ],
      "metadata": {
        "id": "wDKdRAPRrIYJ"
      }
    },
    {
      "cell_type": "code",
      "execution_count": 1,
      "metadata": {
        "id": "tvHF6gjfq9bg"
      },
      "outputs": [],
      "source": [
        "a = 20\n",
        "b = 30"
      ]
    },
    {
      "cell_type": "code",
      "source": [
        "a == b"
      ],
      "metadata": {
        "colab": {
          "base_uri": "https://localhost:8080/"
        },
        "id": "Ot-n9hjYs4tr",
        "outputId": "3c8651ac-df0c-40ba-da8a-10471a5a9189"
      },
      "execution_count": 2,
      "outputs": [
        {
          "output_type": "execute_result",
          "data": {
            "text/plain": [
              "False"
            ]
          },
          "metadata": {},
          "execution_count": 2
        }
      ]
    },
    {
      "cell_type": "code",
      "source": [
        "a != b"
      ],
      "metadata": {
        "colab": {
          "base_uri": "https://localhost:8080/"
        },
        "id": "1xPzz2pys5pD",
        "outputId": "7f3fc21c-3aef-476f-8894-97870932e040"
      },
      "execution_count": 3,
      "outputs": [
        {
          "output_type": "execute_result",
          "data": {
            "text/plain": [
              "True"
            ]
          },
          "metadata": {},
          "execution_count": 3
        }
      ]
    },
    {
      "cell_type": "code",
      "source": [
        "a > b"
      ],
      "metadata": {
        "colab": {
          "base_uri": "https://localhost:8080/"
        },
        "id": "udXZ7cEUs8Y7",
        "outputId": "bc68b07e-4557-4534-84ca-7c766bf177d4"
      },
      "execution_count": 4,
      "outputs": [
        {
          "output_type": "execute_result",
          "data": {
            "text/plain": [
              "False"
            ]
          },
          "metadata": {},
          "execution_count": 4
        }
      ]
    },
    {
      "cell_type": "code",
      "source": [
        "a < b"
      ],
      "metadata": {
        "colab": {
          "base_uri": "https://localhost:8080/"
        },
        "id": "ZdTxKN1Os96f",
        "outputId": "3925a975-9f38-450d-c3a2-c6bdb87c6d8e"
      },
      "execution_count": 5,
      "outputs": [
        {
          "output_type": "execute_result",
          "data": {
            "text/plain": [
              "True"
            ]
          },
          "metadata": {},
          "execution_count": 5
        }
      ]
    },
    {
      "cell_type": "code",
      "source": [
        "a >= b"
      ],
      "metadata": {
        "colab": {
          "base_uri": "https://localhost:8080/"
        },
        "id": "0QBcKTR5s_My",
        "outputId": "8fb1534d-4455-4ce1-9b5f-15d7e947fc49"
      },
      "execution_count": 6,
      "outputs": [
        {
          "output_type": "execute_result",
          "data": {
            "text/plain": [
              "False"
            ]
          },
          "metadata": {},
          "execution_count": 6
        }
      ]
    },
    {
      "cell_type": "code",
      "source": [
        "a <= b"
      ],
      "metadata": {
        "colab": {
          "base_uri": "https://localhost:8080/"
        },
        "id": "eGg0ZVdetAfc",
        "outputId": "8a0cb042-1f0d-4afa-b6f6-99254c6a9b74"
      },
      "execution_count": 7,
      "outputs": [
        {
          "output_type": "execute_result",
          "data": {
            "text/plain": [
              "True"
            ]
          },
          "metadata": {},
          "execution_count": 7
        }
      ]
    },
    {
      "cell_type": "code",
      "source": [
        "x = True"
      ],
      "metadata": {
        "id": "De6u9oeFtB9m"
      },
      "execution_count": 8,
      "outputs": []
    },
    {
      "cell_type": "code",
      "source": [
        "# NOTE: we do not have ! operator in Python"
      ],
      "metadata": {
        "id": "ql_dfBPdtGXm"
      },
      "execution_count": null,
      "outputs": []
    }
  ]
}