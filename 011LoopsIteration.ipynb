{
  "nbformat": 4,
  "nbformat_minor": 0,
  "metadata": {
    "colab": {
      "provenance": [],
      "authorship_tag": "ABX9TyNdZxRQ7q1qtIzVAUw4fLkD",
      "include_colab_link": true
    },
    "kernelspec": {
      "name": "python3",
      "display_name": "Python 3"
    },
    "language_info": {
      "name": "python"
    }
  },
  "cells": [
    {
      "cell_type": "markdown",
      "metadata": {
        "id": "view-in-github",
        "colab_type": "text"
      },
      "source": [
        "<a href=\"https://colab.research.google.com/github/me-rsharma/explorepython/blob/master/011LoopsIteration.ipynb\" target=\"_parent\"><img src=\"https://colab.research.google.com/assets/colab-badge.svg\" alt=\"Open In Colab\"/></a>"
      ]
    },
    {
      "cell_type": "markdown",
      "source": [
        "## `ITERATION / LOOPS`\n",
        "\n",
        "`Iteration means looping/traversing through`\n",
        "\n",
        "`We often heard term - iterable which means we can perform iteration operation over the same`\n",
        "\n",
        "`For ex. We can iterate over string characters, elements in the list, keys in dictionary`\n",
        "\n",
        "`In Python, there are mutliple ways we can achieve iteration or implements loop`"
      ],
      "metadata": {
        "id": "lCDpxa3rqYsQ"
      }
    },
    {
      "cell_type": "markdown",
      "source": [
        "### `for`\n",
        "`for loop can be used when we have range of data or when we know start and end`"
      ],
      "metadata": {
        "id": "CVfEz6o5rV1w"
      }
    },
    {
      "cell_type": "code",
      "execution_count": 1,
      "metadata": {
        "id": "QDimmtJZqLyi"
      },
      "outputs": [],
      "source": [
        "granthas = ['Bhagvad Gita', 'Upanisads', 'Bhagvatam', 'Vedas']"
      ]
    },
    {
      "cell_type": "code",
      "source": [
        "# It a list and hence we can iterate through\n",
        "for granth in granthas:\n",
        "  print(granth)"
      ],
      "metadata": {
        "colab": {
          "base_uri": "https://localhost:8080/"
        },
        "id": "pI1QdputrhWX",
        "outputId": "8dc4a6ab-356d-41d6-82a0-53989f18292d"
      },
      "execution_count": 2,
      "outputs": [
        {
          "output_type": "stream",
          "name": "stdout",
          "text": [
            "Bhagvad Gita\n",
            "Upanisads\n",
            "Bhagvatam\n",
            "Vedas\n"
          ]
        }
      ]
    },
    {
      "cell_type": "code",
      "source": [
        "chanting_rounds = (12,8,16,12,18,19,19) # tuple"
      ],
      "metadata": {
        "id": "8kaqii7Rrvb6"
      },
      "execution_count": 3,
      "outputs": []
    },
    {
      "cell_type": "code",
      "source": [
        "for round in chanting_rounds:\n",
        "  print(round)"
      ],
      "metadata": {
        "colab": {
          "base_uri": "https://localhost:8080/"
        },
        "id": "QsG_cz9rr6Ct",
        "outputId": "526e3985-eb63-46a5-97f8-8e5ab6c52470"
      },
      "execution_count": 4,
      "outputs": [
        {
          "output_type": "stream",
          "name": "stdout",
          "text": [
            "12\n",
            "8\n",
            "16\n",
            "12\n",
            "18\n",
            "19\n",
            "19\n"
          ]
        }
      ]
    },
    {
      "cell_type": "code",
      "source": [
        "tridevas = {\n",
        "    'Krishna': 'Maintainer',\n",
        "    'Bramha': 'Creator',\n",
        "    'Shiva': 'Destroyer'\n",
        "}"
      ],
      "metadata": {
        "id": "6pk73SUwr-C0"
      },
      "execution_count": 5,
      "outputs": []
    },
    {
      "cell_type": "code",
      "source": [
        "for key in tridevas.keys():\n",
        "  print(key)"
      ],
      "metadata": {
        "colab": {
          "base_uri": "https://localhost:8080/"
        },
        "id": "up2rHprssSZS",
        "outputId": "30239abd-a981-484d-eccd-7e426f0b7ce7"
      },
      "execution_count": 6,
      "outputs": [
        {
          "output_type": "stream",
          "name": "stdout",
          "text": [
            "Krishna\n",
            "Bramha\n",
            "Shiva\n"
          ]
        }
      ]
    },
    {
      "cell_type": "code",
      "source": [
        "for item in tridevas.items():\n",
        "  print(item)"
      ],
      "metadata": {
        "colab": {
          "base_uri": "https://localhost:8080/"
        },
        "id": "p1Yy2XXCsXKK",
        "outputId": "a7b33a1b-d745-4b46-bcb8-9779c5ee5c56"
      },
      "execution_count": 7,
      "outputs": [
        {
          "output_type": "stream",
          "name": "stdout",
          "text": [
            "('Krishna', 'Maintainer')\n",
            "('Bramha', 'Creator')\n",
            "('Shiva', 'Destroyer')\n"
          ]
        }
      ]
    },
    {
      "cell_type": "code",
      "source": [
        "vrindavan = {'Krishna', 'Balaram', 'RadhaRani', 'Yashoda'} # set"
      ],
      "metadata": {
        "id": "9sj6UFJGsb7u"
      },
      "execution_count": 8,
      "outputs": []
    },
    {
      "cell_type": "code",
      "source": [
        "for gop in vrindavan:\n",
        "  print(gop)"
      ],
      "metadata": {
        "colab": {
          "base_uri": "https://localhost:8080/"
        },
        "id": "9Ir5p4mespGe",
        "outputId": "e9f220fa-8898-4ec0-d145-92e70cada467"
      },
      "execution_count": 9,
      "outputs": [
        {
          "output_type": "stream",
          "name": "stdout",
          "text": [
            "Krishna\n",
            "RadhaRani\n",
            "Yashoda\n",
            "Balaram\n"
          ]
        }
      ]
    },
    {
      "cell_type": "code",
      "source": [
        "for i in range(2,10):\n",
        "  print(i)"
      ],
      "metadata": {
        "colab": {
          "base_uri": "https://localhost:8080/"
        },
        "id": "LUqzhmVosu3D",
        "outputId": "65bb9782-812c-49b1-db64-2c718dc6b84f"
      },
      "execution_count": 10,
      "outputs": [
        {
          "output_type": "stream",
          "name": "stdout",
          "text": [
            "2\n",
            "3\n",
            "4\n",
            "5\n",
            "6\n",
            "7\n",
            "8\n",
            "9\n"
          ]
        }
      ]
    },
    {
      "cell_type": "markdown",
      "source": [
        "### `while`\n",
        "`while loop can be used when we have to iterate through an iterable till certain condition`"
      ],
      "metadata": {
        "id": "oHD_ISeGs6SD"
      }
    },
    {
      "cell_type": "code",
      "source": [
        "rounds = 5\n",
        "while rounds < 8:\n",
        "  print('Keep chanting')\n",
        "  rounds+=1"
      ],
      "metadata": {
        "colab": {
          "base_uri": "https://localhost:8080/"
        },
        "id": "wZNyjjT6s3eu",
        "outputId": "b833e304-89a7-471f-9aa6-c5a5f4bbc498"
      },
      "execution_count": 11,
      "outputs": [
        {
          "output_type": "stream",
          "name": "stdout",
          "text": [
            "Keep chanting\n",
            "Keep chanting\n",
            "Keep chanting\n"
          ]
        }
      ]
    },
    {
      "cell_type": "code",
      "source": [
        "# We can also break loops based on ceratin condition\n",
        "for i in range(0,20):\n",
        "  if i == 10:\n",
        "    break\n",
        "  print(i)"
      ],
      "metadata": {
        "colab": {
          "base_uri": "https://localhost:8080/"
        },
        "id": "JuUxNN9-tirM",
        "outputId": "df94ddce-c03d-4b17-cbe3-c930a4395380"
      },
      "execution_count": 13,
      "outputs": [
        {
          "output_type": "stream",
          "name": "stdout",
          "text": [
            "0\n",
            "1\n",
            "2\n",
            "3\n",
            "4\n",
            "5\n",
            "6\n",
            "7\n",
            "8\n",
            "9\n"
          ]
        }
      ]
    },
    {
      "cell_type": "code",
      "source": [
        "rounds = 6\n",
        "while rounds < 16:\n",
        "  if rounds == 8:\n",
        "    break;\n",
        "  print('Keep chanting')\n",
        "  rounds+=1"
      ],
      "metadata": {
        "colab": {
          "base_uri": "https://localhost:8080/"
        },
        "id": "klb4oO48ul3f",
        "outputId": "c250f80f-c1e6-4353-dfe8-eb6344d80b8d"
      },
      "execution_count": 16,
      "outputs": [
        {
          "output_type": "stream",
          "name": "stdout",
          "text": [
            "Keep chanting\n",
            "Keep chanting\n"
          ]
        }
      ]
    },
    {
      "cell_type": "code",
      "source": [
        "# Also we can combine while statement with else\n",
        "rounds = 6\n",
        "while rounds < 8:\n",
        "  print('Keep chanting')\n",
        "  rounds+=1\n",
        "else:\n",
        "  print('Good job')"
      ],
      "metadata": {
        "colab": {
          "base_uri": "https://localhost:8080/"
        },
        "id": "75hdjkkpu7v4",
        "outputId": "45fc18fb-cd7b-4d6c-b4ff-16033c59d3aa"
      },
      "execution_count": 19,
      "outputs": [
        {
          "output_type": "stream",
          "name": "stdout",
          "text": [
            "Keep chanting\n",
            "Keep chanting\n",
            "Good job\n"
          ]
        }
      ]
    },
    {
      "cell_type": "code",
      "source": [
        "# continue - skip the current iteration\n",
        "for i in range(12):\n",
        "  if i%2 == 0:\n",
        "    continue\n",
        "  print(i)"
      ],
      "metadata": {
        "colab": {
          "base_uri": "https://localhost:8080/"
        },
        "id": "ISPUFSIG4nEv",
        "outputId": "bfbe2912-c3aa-4ab2-92cf-10ee077115c4"
      },
      "execution_count": 20,
      "outputs": [
        {
          "output_type": "stream",
          "name": "stdout",
          "text": [
            "1\n",
            "3\n",
            "5\n",
            "7\n",
            "9\n",
            "11\n"
          ]
        }
      ]
    },
    {
      "cell_type": "code",
      "source": [
        "for i in range(5):\n",
        "  pass # act as placeholder for future purpose"
      ],
      "metadata": {
        "id": "YH1jVe9B5YGc"
      },
      "execution_count": 22,
      "outputs": []
    },
    {
      "cell_type": "code",
      "source": [
        "for character in 'shri ram':\n",
        "  print(character)"
      ],
      "metadata": {
        "colab": {
          "base_uri": "https://localhost:8080/"
        },
        "id": "4l0q2AaB5ePb",
        "outputId": "8adf292e-3414-4bfa-f771-0bf316435384"
      },
      "execution_count": 24,
      "outputs": [
        {
          "output_type": "stream",
          "name": "stdout",
          "text": [
            "s\n",
            "h\n",
            "r\n",
            "i\n",
            " \n",
            "r\n",
            "a\n",
            "m\n"
          ]
        }
      ]
    },
    {
      "cell_type": "code",
      "source": [],
      "metadata": {
        "id": "SG1nbNnB6aEp"
      },
      "execution_count": null,
      "outputs": []
    }
  ]
}