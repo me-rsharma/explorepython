{
  "nbformat": 4,
  "nbformat_minor": 0,
  "metadata": {
    "colab": {
      "provenance": [],
      "authorship_tag": "ABX9TyOFIm/OxwCw2PGDkBUxsWNv",
      "include_colab_link": true
    },
    "kernelspec": {
      "name": "python3",
      "display_name": "Python 3"
    },
    "language_info": {
      "name": "python"
    }
  },
  "cells": [
    {
      "cell_type": "markdown",
      "metadata": {
        "id": "view-in-github",
        "colab_type": "text"
      },
      "source": [
        "<a href=\"https://colab.research.google.com/github/me-rsharma/explorepython/blob/master/013ListComprehensions.ipynb\" target=\"_parent\"><img src=\"https://colab.research.google.com/assets/colab-badge.svg\" alt=\"Open In Colab\"/></a>"
      ]
    },
    {
      "cell_type": "markdown",
      "source": [
        "## `LIST Comprehension`\n",
        "\n",
        "`List Comprehension is a unique way of quickly creating a Python list`\n",
        "\n",
        "`If we have a situation where we have to create list again and again using .append() then list comprehension is a good alternative`"
      ],
      "metadata": {
        "id": "0wTuXwyEB5XG"
      }
    },
    {
      "cell_type": "code",
      "execution_count": 1,
      "metadata": {
        "id": "jtfxux2oBw6m"
      },
      "outputs": [],
      "source": [
        "# Normal way of creating list\n",
        "my_list = []\n",
        "for i in range(0,6):\n",
        "  my_list.append(i)"
      ]
    },
    {
      "cell_type": "code",
      "source": [
        "my_list"
      ],
      "metadata": {
        "colab": {
          "base_uri": "https://localhost:8080/"
        },
        "id": "jOTpwhVSCpQP",
        "outputId": "c65dc627-c12b-4895-8dfd-e8af8ab3ab7a"
      },
      "execution_count": 2,
      "outputs": [
        {
          "output_type": "execute_result",
          "data": {
            "text/plain": [
              "[0, 1, 2, 3, 4, 5]"
            ]
          },
          "metadata": {},
          "execution_count": 2
        }
      ]
    },
    {
      "cell_type": "code",
      "source": [
        "# Using list comprehension\n",
        "[i for i in range(0,6)]"
      ],
      "metadata": {
        "colab": {
          "base_uri": "https://localhost:8080/"
        },
        "id": "D_4AVOiNCsp8",
        "outputId": "3cbc5c92-56bb-48ad-b0e5-b0093e67181e"
      },
      "execution_count": 4,
      "outputs": [
        {
          "output_type": "execute_result",
          "data": {
            "text/plain": [
              "[0, 1, 2, 3, 4, 5]"
            ]
          },
          "metadata": {},
          "execution_count": 4
        }
      ]
    },
    {
      "cell_type": "code",
      "source": [
        "even_numbers = []\n",
        "for i in range(1,10):\n",
        "  if i%2==0:\n",
        "    even_numbers.append(i)\n",
        "    "
      ],
      "metadata": {
        "id": "iXsIPeS_CzGJ"
      },
      "execution_count": 7,
      "outputs": []
    },
    {
      "cell_type": "code",
      "source": [
        "even_numbers"
      ],
      "metadata": {
        "colab": {
          "base_uri": "https://localhost:8080/"
        },
        "id": "DVH_ryyuDFS9",
        "outputId": "c4c93fff-0327-4f82-f115-03db7ecc26b3"
      },
      "execution_count": 8,
      "outputs": [
        {
          "output_type": "execute_result",
          "data": {
            "text/plain": [
              "[2, 4, 6, 8]"
            ]
          },
          "metadata": {},
          "execution_count": 8
        }
      ]
    },
    {
      "cell_type": "code",
      "source": [
        "# Using list comprehension\n",
        "[i for i in range(1,10) if i%2==0]"
      ],
      "metadata": {
        "colab": {
          "base_uri": "https://localhost:8080/"
        },
        "id": "JUX-NYR6DG_H",
        "outputId": "74894976-66f2-4740-b849-0cba3507d831"
      },
      "execution_count": 10,
      "outputs": [
        {
          "output_type": "execute_result",
          "data": {
            "text/plain": [
              "[2, 4, 6, 8]"
            ]
          },
          "metadata": {},
          "execution_count": 10
        }
      ]
    },
    {
      "cell_type": "code",
      "source": [
        "geet = 'Hare Krishna Hare Rama'\n",
        "geet_char = []\n",
        "for c in geet:\n",
        "  geet_char.append(c)"
      ],
      "metadata": {
        "id": "ucjtSvLWDRwd"
      },
      "execution_count": 11,
      "outputs": []
    },
    {
      "cell_type": "code",
      "source": [
        "print(geet_char)"
      ],
      "metadata": {
        "colab": {
          "base_uri": "https://localhost:8080/"
        },
        "id": "SD7rr5EkF6bT",
        "outputId": "9a982b6b-c039-4c96-eb86-64e733bc6dc4"
      },
      "execution_count": 13,
      "outputs": [
        {
          "output_type": "stream",
          "name": "stdout",
          "text": [
            "['H', 'a', 'r', 'e', ' ', 'K', 'r', 'i', 's', 'h', 'n', 'a', ' ', 'H', 'a', 'r', 'e', ' ', 'R', 'a', 'm', 'a']\n"
          ]
        }
      ]
    },
    {
      "cell_type": "code",
      "source": [
        "# using list comprehension\n",
        "geet_char = [c for c in geet]"
      ],
      "metadata": {
        "id": "ki8FEpa_F7wg"
      },
      "execution_count": 15,
      "outputs": []
    },
    {
      "cell_type": "code",
      "source": [
        "print(geet_char)"
      ],
      "metadata": {
        "colab": {
          "base_uri": "https://localhost:8080/"
        },
        "id": "gRtvTLFOGLHH",
        "outputId": "2e154f02-7f8b-422c-85d7-0778d2d3c890"
      },
      "execution_count": 17,
      "outputs": [
        {
          "output_type": "stream",
          "name": "stdout",
          "text": [
            "['H', 'a', 'r', 'e', ' ', 'K', 'r', 'i', 's', 'h', 'n', 'a', ' ', 'H', 'a', 'r', 'e', ' ', 'R', 'a', 'm', 'a']\n"
          ]
        }
      ]
    },
    {
      "cell_type": "code",
      "source": [
        "# Nested loop\n",
        "my_list = []\n",
        "for c in 'abc':\n",
        "  for i in range(1,3):\n",
        "    my_list.append(c*i)"
      ],
      "metadata": {
        "id": "o1kpkj7lGTwX"
      },
      "execution_count": 18,
      "outputs": []
    },
    {
      "cell_type": "code",
      "source": [
        "my_list"
      ],
      "metadata": {
        "colab": {
          "base_uri": "https://localhost:8080/"
        },
        "id": "rm-DCaBxGjl1",
        "outputId": "284bfbf3-63a3-474f-d748-5b26e2cf2cb7"
      },
      "execution_count": 19,
      "outputs": [
        {
          "output_type": "execute_result",
          "data": {
            "text/plain": [
              "['a', 'aa', 'b', 'bb', 'c', 'cc']"
            ]
          },
          "metadata": {},
          "execution_count": 19
        }
      ]
    },
    {
      "cell_type": "code",
      "source": [
        "# Using list comprehension\n",
        "[i*c for i in range(1,3) for c in 'abc']"
      ],
      "metadata": {
        "colab": {
          "base_uri": "https://localhost:8080/"
        },
        "id": "qkWCC0fbGk-s",
        "outputId": "a20bec01-80a4-41c9-f2e9-3ac9d876eeba"
      },
      "execution_count": 23,
      "outputs": [
        {
          "output_type": "execute_result",
          "data": {
            "text/plain": [
              "['a', 'b', 'c', 'aa', 'bb', 'cc']"
            ]
          },
          "metadata": {},
          "execution_count": 23
        }
      ]
    }
  ]
}