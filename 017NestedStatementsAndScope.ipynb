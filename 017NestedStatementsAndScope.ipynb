{
  "nbformat": 4,
  "nbformat_minor": 0,
  "metadata": {
    "colab": {
      "provenance": [],
      "authorship_tag": "ABX9TyN7CJfTlioGKH2FUiJx1vTo",
      "include_colab_link": true
    },
    "kernelspec": {
      "name": "python3",
      "display_name": "Python 3"
    },
    "language_info": {
      "name": "python"
    }
  },
  "cells": [
    {
      "cell_type": "markdown",
      "metadata": {
        "id": "view-in-github",
        "colab_type": "text"
      },
      "source": [
        "<a href=\"https://colab.research.google.com/github/me-rsharma/explorepython/blob/master/017NestedStatementsAndScope.ipynb\" target=\"_parent\"><img src=\"https://colab.research.google.com/assets/colab-badge.svg\" alt=\"Open In Colab\"/></a>"
      ]
    },
    {
      "cell_type": "markdown",
      "source": [
        "## `Nested Statements & Variable Scoping`"
      ],
      "metadata": {
        "id": "iCfsCGbIUvDU"
      }
    },
    {
      "cell_type": "code",
      "execution_count": 5,
      "metadata": {
        "id": "FXCd2cERSFsn"
      },
      "outputs": [],
      "source": [
        "name = 'Rama'\n",
        "def greet():\n",
        "  name = 'Prabhuji'\n",
        "  def hello():\n",
        "    print('Hare Krishna', name)\n",
        "  hello()"
      ]
    },
    {
      "cell_type": "code",
      "source": [
        "greet()"
      ],
      "metadata": {
        "colab": {
          "base_uri": "https://localhost:8080/"
        },
        "id": "YlOqfgoqVESa",
        "outputId": "bcaf5833-49b9-4d80-c67f-345ed859bb8c"
      },
      "execution_count": 6,
      "outputs": [
        {
          "output_type": "stream",
          "name": "stdout",
          "text": [
            "Hare Krishna Prabhuji\n"
          ]
        }
      ]
    },
    {
      "cell_type": "code",
      "source": [
        "print(name)"
      ],
      "metadata": {
        "colab": {
          "base_uri": "https://localhost:8080/"
        },
        "id": "moNR9dEoVL7u",
        "outputId": "dafdf2d3-843c-4670-9b59-e1c8197230e4"
      },
      "execution_count": 7,
      "outputs": [
        {
          "output_type": "stream",
          "name": "stdout",
          "text": [
            "Rama\n"
          ]
        }
      ]
    },
    {
      "cell_type": "code",
      "source": [
        "# how come we getting greet() Pranhuji even though we have reassigned name\n",
        "# Python follows the concept of LEGB"
      ],
      "metadata": {
        "id": "KorzCojOVTwV"
      },
      "execution_count": 9,
      "outputs": []
    },
    {
      "cell_type": "markdown",
      "source": [
        "### `LEGB Rules`\n",
        "\n",
        "- `L - Locally check for variable`\n",
        "- `E - Enclosing function locals `\n",
        "- `G - Globally check for name`\n",
        "- `B - Built In functions such as len, range etc`"
      ],
      "metadata": {
        "id": "fJMxXDUOVgY0"
      }
    },
    {
      "cell_type": "code",
      "source": [
        "# global scope\n",
        "name = 'Madhu'\n",
        "def greet():\n",
        "  # enclosing function local scope\n",
        "  name = 'Sudama'\n",
        "  def pranam():\n",
        "    # function local\n",
        "    name = 'Lalita'\n",
        "    print('Hare Krishna', name)\n",
        "  pranam()"
      ],
      "metadata": {
        "id": "eNi5qTkDVeGi"
      },
      "execution_count": 21,
      "outputs": []
    },
    {
      "cell_type": "code",
      "source": [
        "greet()"
      ],
      "metadata": {
        "colab": {
          "base_uri": "https://localhost:8080/"
        },
        "id": "dcbZwtWAWjvS",
        "outputId": "8f68fede-61e4-4bac-9c98-f9bf887f456e"
      },
      "execution_count": 22,
      "outputs": [
        {
          "output_type": "stream",
          "name": "stdout",
          "text": [
            "Hare Krishna Lalita\n"
          ]
        }
      ]
    },
    {
      "cell_type": "code",
      "source": [
        "print(name)"
      ],
      "metadata": {
        "colab": {
          "base_uri": "https://localhost:8080/"
        },
        "id": "mplpuaV0Wmiu",
        "outputId": "cbe5ecc9-3a9b-4ddf-fbe5-b33d3b3a1824"
      },
      "execution_count": 23,
      "outputs": [
        {
          "output_type": "stream",
          "name": "stdout",
          "text": [
            "Madhu\n"
          ]
        }
      ]
    },
    {
      "cell_type": "code",
      "source": [
        "# if we want to change the global variable within fucntion local scope\n",
        "name = 'Radha'\n",
        "def greet():\n",
        "  # enclosing function local scope\n",
        "  global name\n",
        "  name = 'Sudama'\n",
        "  def pranam():\n",
        "    # function local\n",
        "    global name\n",
        "    name = 'Lalita'\n",
        "    print('Hare Krishna', name)\n",
        "  pranam()"
      ],
      "metadata": {
        "id": "uGnOzGPqWsPT"
      },
      "execution_count": 27,
      "outputs": []
    },
    {
      "cell_type": "code",
      "source": [
        "greet()"
      ],
      "metadata": {
        "colab": {
          "base_uri": "https://localhost:8080/"
        },
        "id": "-Ps4tmtNXKUD",
        "outputId": "3b6d8797-ec9f-4615-8516-020fd549e019"
      },
      "execution_count": 28,
      "outputs": [
        {
          "output_type": "stream",
          "name": "stdout",
          "text": [
            "Hare Krishna Lalita\n"
          ]
        }
      ]
    },
    {
      "cell_type": "code",
      "source": [
        "print(name)"
      ],
      "metadata": {
        "colab": {
          "base_uri": "https://localhost:8080/"
        },
        "id": "VTzW3izsXLg7",
        "outputId": "dbd8013c-943d-4518-ddb1-e12541f71924"
      },
      "execution_count": 29,
      "outputs": [
        {
          "output_type": "stream",
          "name": "stdout",
          "text": [
            "Lalita\n"
          ]
        }
      ]
    },
    {
      "cell_type": "code",
      "source": [
        "# But try to avoid using global \n",
        "# If we still want to reassign global scope variable we can return \n",
        "name = 'Radha'\n",
        "def greet():\n",
        "  name = 'Sudama'\n",
        "  def pranam():\n",
        "    return name\n",
        "  return pranam()"
      ],
      "metadata": {
        "id": "_dNBX-pAXOPc"
      },
      "execution_count": 30,
      "outputs": []
    },
    {
      "cell_type": "code",
      "source": [
        "name = greet()"
      ],
      "metadata": {
        "id": "Q7xCVypMX3JZ"
      },
      "execution_count": 31,
      "outputs": []
    },
    {
      "cell_type": "code",
      "source": [
        "print(name)"
      ],
      "metadata": {
        "colab": {
          "base_uri": "https://localhost:8080/"
        },
        "id": "_vtUyFu3X5zk",
        "outputId": "58687580-0d8d-4179-d4ae-9ad3a8cbe8be"
      },
      "execution_count": 32,
      "outputs": [
        {
          "output_type": "stream",
          "name": "stdout",
          "text": [
            "Sudama\n"
          ]
        }
      ]
    },
    {
      "cell_type": "code",
      "source": [],
      "metadata": {
        "id": "otUrnNfpX7P_"
      },
      "execution_count": null,
      "outputs": []
    }
  ]
}