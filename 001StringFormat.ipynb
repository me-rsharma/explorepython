{
  "nbformat": 4,
  "nbformat_minor": 0,
  "metadata": {
    "colab": {
      "provenance": [],
      "authorship_tag": "ABX9TyMek2hU9kJDREwbDn89RlmA",
      "include_colab_link": true
    },
    "kernelspec": {
      "name": "python3",
      "display_name": "Python 3"
    },
    "language_info": {
      "name": "python"
    }
  },
  "cells": [
    {
      "cell_type": "markdown",
      "metadata": {
        "id": "view-in-github",
        "colab_type": "text"
      },
      "source": [
        "<a href=\"https://colab.research.google.com/github/me-rsharma/explorepython/blob/master/001StringFormat.ipynb\" target=\"_parent\"><img src=\"https://colab.research.google.com/assets/colab-badge.svg\" alt=\"Open In Colab\"/></a>"
      ]
    },
    {
      "cell_type": "markdown",
      "source": [
        "#### STRING FORMATTING\n",
        "\n",
        "String formatting is used to inject variable into string - Fancy way `String Interpolation`\n",
        "\n",
        "```python\n",
        "name = 'Krishna'\n",
        "print('Hare' + name)\n",
        "```\n",
        "There are multiple ways we can format string in Python. One of the simplest way is to use + operator as shown above\n",
        "\n",
        "Another ways are:\n",
        "`.format` & `f-string`\n"
      ],
      "metadata": {
        "id": "XFUd5W71iddE"
      }
    },
    {
      "cell_type": "code",
      "execution_count": 2,
      "metadata": {
        "colab": {
          "base_uri": "https://localhost:8080/",
          "height": 35
        },
        "id": "Ywn_cJbfiHih",
        "outputId": "51c94a89-c8b2-4ce7-f2eb-fd6c66ea7ad3"
      },
      "outputs": [
        {
          "output_type": "execute_result",
          "data": {
            "text/plain": [
              "'Hare Krishna'"
            ],
            "application/vnd.google.colaboratory.intrinsic+json": {
              "type": "string"
            }
          },
          "metadata": {},
          "execution_count": 2
        }
      ],
      "source": [
        "# Using .format\n",
        "name = 'Krishna'\n",
        "'Hare {}'.format(name)"
      ]
    },
    {
      "cell_type": "code",
      "source": [
        "'Hare {0}'.format(name)"
      ],
      "metadata": {
        "colab": {
          "base_uri": "https://localhost:8080/",
          "height": 35
        },
        "id": "PHu5fJlniagr",
        "outputId": "d09d8079-a489-406f-d9de-0226beb08eab"
      },
      "execution_count": 3,
      "outputs": [
        {
          "output_type": "execute_result",
          "data": {
            "text/plain": [
              "'Hare Krishna'"
            ],
            "application/vnd.google.colaboratory.intrinsic+json": {
              "type": "string"
            }
          },
          "metadata": {},
          "execution_count": 3
        }
      ]
    },
    {
      "cell_type": "code",
      "source": [
        "age=20\n",
        "'{} has {} age'.format(name,age)"
      ],
      "metadata": {
        "colab": {
          "base_uri": "https://localhost:8080/",
          "height": 35
        },
        "id": "T4SRMCmEo7sK",
        "outputId": "dc8c5b42-e018-48b3-9e28-78ba6053992a"
      },
      "execution_count": 4,
      "outputs": [
        {
          "output_type": "execute_result",
          "data": {
            "text/plain": [
              "'Krishna has 20 age'"
            ],
            "application/vnd.google.colaboratory.intrinsic+json": {
              "type": "string"
            }
          },
          "metadata": {},
          "execution_count": 4
        }
      ]
    },
    {
      "cell_type": "code",
      "source": [
        "'{0} is {1} years old'.format(name, age)"
      ],
      "metadata": {
        "colab": {
          "base_uri": "https://localhost:8080/",
          "height": 35
        },
        "id": "lbtsaT-ppGln",
        "outputId": "912cb060-0907-4e1a-a3be-ce4153e1a755"
      },
      "execution_count": 6,
      "outputs": [
        {
          "output_type": "execute_result",
          "data": {
            "text/plain": [
              "'Krishna is 20 years old'"
            ],
            "application/vnd.google.colaboratory.intrinsic+json": {
              "type": "string"
            }
          },
          "metadata": {},
          "execution_count": 6
        }
      ]
    },
    {
      "cell_type": "code",
      "source": [
        "'{name} is {age} years old'.format(name=name, age=age)"
      ],
      "metadata": {
        "colab": {
          "base_uri": "https://localhost:8080/",
          "height": 35
        },
        "id": "SY6BIsoCpNhv",
        "outputId": "aaab137b-7d4c-467e-8df6-fc08eedf7874"
      },
      "execution_count": 9,
      "outputs": [
        {
          "output_type": "execute_result",
          "data": {
            "text/plain": [
              "'Krishna is 20 years old'"
            ],
            "application/vnd.google.colaboratory.intrinsic+json": {
              "type": "string"
            }
          },
          "metadata": {},
          "execution_count": 9
        }
      ]
    },
    {
      "cell_type": "code",
      "source": [
        "'The {} {} {} {}'.format('supreme', 'personality', 'godhead', 'Krishna')"
      ],
      "metadata": {
        "colab": {
          "base_uri": "https://localhost:8080/",
          "height": 35
        },
        "id": "ozuwySu0qfUF",
        "outputId": "25131362-3fc3-487d-8588-219ad9a07f2b"
      },
      "execution_count": 11,
      "outputs": [
        {
          "output_type": "execute_result",
          "data": {
            "text/plain": [
              "'The supreme personality godhead Krishna'"
            ],
            "application/vnd.google.colaboratory.intrinsic+json": {
              "type": "string"
            }
          },
          "metadata": {},
          "execution_count": 11
        }
      ]
    },
    {
      "cell_type": "code",
      "source": [
        "'The {3} {0} {1} {2}'.format('supreme', 'personality', 'godhead', 'Krishna')"
      ],
      "metadata": {
        "colab": {
          "base_uri": "https://localhost:8080/",
          "height": 35
        },
        "id": "-5UEAefqsbW3",
        "outputId": "430e1f47-43c0-44ce-9523-f511130172f7"
      },
      "execution_count": 12,
      "outputs": [
        {
          "output_type": "execute_result",
          "data": {
            "text/plain": [
              "'The Krishna supreme personality godhead'"
            ],
            "application/vnd.google.colaboratory.intrinsic+json": {
              "type": "string"
            }
          },
          "metadata": {},
          "execution_count": 12
        }
      ]
    },
    {
      "cell_type": "code",
      "source": [
        "'The {k} {s} {p} {g}'.format(s='supreme', p='personality', g='godhead', k='Krishna')"
      ],
      "metadata": {
        "colab": {
          "base_uri": "https://localhost:8080/",
          "height": 35
        },
        "id": "unfoEj4xst4_",
        "outputId": "f1a6450a-559e-457a-b9dc-f72bf7e3089a"
      },
      "execution_count": 13,
      "outputs": [
        {
          "output_type": "execute_result",
          "data": {
            "text/plain": [
              "'The Krishna supreme personality godhead'"
            ],
            "application/vnd.google.colaboratory.intrinsic+json": {
              "type": "string"
            }
          },
          "metadata": {},
          "execution_count": 13
        }
      ]
    },
    {
      "cell_type": "code",
      "source": [
        "#'Overpass Mono','SF Mono','DM Mono',Inconsolata\n",
        "'The {k} {k} {k} {g}'.format(s='supreme', p='personality', g='godhead', k='Krishna')"
      ],
      "metadata": {
        "colab": {
          "base_uri": "https://localhost:8080/",
          "height": 35
        },
        "id": "sw8IAMD6s_pe",
        "outputId": "492c713b-e36a-42e8-e02e-22cb63569310"
      },
      "execution_count": 14,
      "outputs": [
        {
          "output_type": "execute_result",
          "data": {
            "text/plain": [
              "'The Krishna Krishna Krishna godhead'"
            ],
            "application/vnd.google.colaboratory.intrinsic+json": {
              "type": "string"
            }
          },
          "metadata": {},
          "execution_count": 14
        }
      ]
    },
    {
      "cell_type": "markdown",
      "source": [
        "#### FLOAT FORMATTING\n",
        "\n",
        "Float formatting follows: `{value:width.precision f}`"
      ],
      "metadata": {
        "id": "sApPnWPjuLse"
      }
    },
    {
      "cell_type": "code",
      "source": [
        "result = 100000/777\n",
        "result"
      ],
      "metadata": {
        "colab": {
          "base_uri": "https://localhost:8080/"
        },
        "id": "_S3zn2YAu-Jv",
        "outputId": "60039540-3b2f-4822-ec9a-0121cbb54b35"
      },
      "execution_count": 24,
      "outputs": [
        {
          "output_type": "execute_result",
          "data": {
            "text/plain": [
              "128.7001287001287"
            ]
          },
          "metadata": {},
          "execution_count": 24
        }
      ]
    },
    {
      "cell_type": "code",
      "source": [
        "'{r} float format'.format(r = result)"
      ],
      "metadata": {
        "colab": {
          "base_uri": "https://localhost:8080/",
          "height": 35
        },
        "id": "kwFvYSu3uJ7I",
        "outputId": "02694737-2978-4cd0-c014-edb28db40c28"
      },
      "execution_count": 25,
      "outputs": [
        {
          "output_type": "execute_result",
          "data": {
            "text/plain": [
              "'128.7001287001287 float format'"
            ],
            "application/vnd.google.colaboratory.intrinsic+json": {
              "type": "string"
            }
          },
          "metadata": {},
          "execution_count": 25
        }
      ]
    },
    {
      "cell_type": "code",
      "source": [
        "# To restrict the precision value\n",
        "'{r:.3f} float format'.format(r=result)"
      ],
      "metadata": {
        "colab": {
          "base_uri": "https://localhost:8080/",
          "height": 35
        },
        "id": "nJcbxG7QuXyJ",
        "outputId": "2b05e93f-4bc2-4cf5-e565-d61758a08d78"
      },
      "execution_count": 27,
      "outputs": [
        {
          "output_type": "execute_result",
          "data": {
            "text/plain": [
              "'128.700 float format'"
            ],
            "application/vnd.google.colaboratory.intrinsic+json": {
              "type": "string"
            }
          },
          "metadata": {},
          "execution_count": 27
        }
      ]
    },
    {
      "cell_type": "code",
      "source": [
        "'{r:2.4f} format float'.format(r=result)"
      ],
      "metadata": {
        "colab": {
          "base_uri": "https://localhost:8080/",
          "height": 35
        },
        "id": "AI6rKoNYvTqC",
        "outputId": "be147b8d-d1a3-4846-9d7b-1ffc11c187ff"
      },
      "execution_count": 28,
      "outputs": [
        {
          "output_type": "execute_result",
          "data": {
            "text/plain": [
              "'128.7001 format float'"
            ],
            "application/vnd.google.colaboratory.intrinsic+json": {
              "type": "string"
            }
          },
          "metadata": {},
          "execution_count": 28
        }
      ]
    },
    {
      "cell_type": "code",
      "source": [
        "'{r:5.4f} format float'.format(r=result)"
      ],
      "metadata": {
        "colab": {
          "base_uri": "https://localhost:8080/",
          "height": 35
        },
        "id": "-omYwCpLvrJ7",
        "outputId": "7030cb07-67a7-4f59-b66b-bc2ff496ab54"
      },
      "execution_count": 29,
      "outputs": [
        {
          "output_type": "execute_result",
          "data": {
            "text/plain": [
              "'128.7001 format float'"
            ],
            "application/vnd.google.colaboratory.intrinsic+json": {
              "type": "string"
            }
          },
          "metadata": {},
          "execution_count": 29
        }
      ]
    },
    {
      "cell_type": "markdown",
      "source": [
        "##### STRING LITERALS"
      ],
      "metadata": {
        "id": "IhvQawITx7qz"
      }
    },
    {
      "cell_type": "code",
      "source": [
        "name = 'Radha'\n",
        "print(f'Her name is {name}')"
      ],
      "metadata": {
        "colab": {
          "base_uri": "https://localhost:8080/"
        },
        "id": "yBBMFS07x343",
        "outputId": "74328311-daf8-4fd2-e72b-f8eb96ad4b1b"
      },
      "execution_count": 30,
      "outputs": [
        {
          "output_type": "stream",
          "name": "stdout",
          "text": [
            "Her name is Radha\n"
          ]
        }
      ]
    },
    {
      "cell_type": "code",
      "source": [
        "age = 16\n",
        "print(f'{name} is {age} yrs old')"
      ],
      "metadata": {
        "colab": {
          "base_uri": "https://localhost:8080/"
        },
        "id": "GK7JxCRUyQhD",
        "outputId": "5bea1dbf-37bd-41c9-88c7-d5effe7e1ab1"
      },
      "execution_count": 31,
      "outputs": [
        {
          "output_type": "stream",
          "name": "stdout",
          "text": [
            "Radha is 16 yrs old\n"
          ]
        }
      ]
    },
    {
      "cell_type": "code",
      "source": [],
      "metadata": {
        "id": "JCZpnu5eydNd"
      },
      "execution_count": null,
      "outputs": []
    }
  ]
}