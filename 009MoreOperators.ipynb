{
  "nbformat": 4,
  "nbformat_minor": 0,
  "metadata": {
    "colab": {
      "provenance": [],
      "authorship_tag": "ABX9TyP8Srs6xSsX3iduSnuJEYiS",
      "include_colab_link": true
    },
    "kernelspec": {
      "name": "python3",
      "display_name": "Python 3"
    },
    "language_info": {
      "name": "python"
    }
  },
  "cells": [
    {
      "cell_type": "markdown",
      "metadata": {
        "id": "view-in-github",
        "colab_type": "text"
      },
      "source": [
        "<a href=\"https://colab.research.google.com/github/me-rsharma/explorepython/blob/master/009MoreOperators.ipynb\" target=\"_parent\"><img src=\"https://colab.research.google.com/assets/colab-badge.svg\" alt=\"Open In Colab\"/></a>"
      ]
    },
    {
      "cell_type": "markdown",
      "source": [
        "## `Other Operators in Python`"
      ],
      "metadata": {
        "id": "3yDFguVElLKr"
      }
    },
    {
      "cell_type": "markdown",
      "source": [
        "### `Identity Operators`\n",
        "\n",
        "`Identity operator is used to compare whether the objects are same (not equal) and share the same memory location/address`\n",
        "\n",
        "- `is`\n",
        "- `is not`"
      ],
      "metadata": {
        "id": "4u-hI24ClRve"
      }
    },
    {
      "cell_type": "code",
      "execution_count": 1,
      "metadata": {
        "id": "lMy5ssQ3k1rc"
      },
      "outputs": [],
      "source": [
        "greet = 'Hare Krishna'\n",
        "wish = greet"
      ]
    },
    {
      "cell_type": "code",
      "source": [
        "id(wish)"
      ],
      "metadata": {
        "colab": {
          "base_uri": "https://localhost:8080/"
        },
        "id": "z_gFYVcZlqEY",
        "outputId": "509a4ffc-b859-4c17-a62b-2632498be408"
      },
      "execution_count": 2,
      "outputs": [
        {
          "output_type": "execute_result",
          "data": {
            "text/plain": [
              "139877319439280"
            ]
          },
          "metadata": {},
          "execution_count": 2
        }
      ]
    },
    {
      "cell_type": "code",
      "source": [
        "id(greet)"
      ],
      "metadata": {
        "colab": {
          "base_uri": "https://localhost:8080/"
        },
        "id": "LjKvXf8HluoH",
        "outputId": "2faa1b84-99ba-455a-b284-3e88242c6b46"
      },
      "execution_count": 3,
      "outputs": [
        {
          "output_type": "execute_result",
          "data": {
            "text/plain": [
              "139877319439280"
            ]
          },
          "metadata": {},
          "execution_count": 3
        }
      ]
    },
    {
      "cell_type": "code",
      "source": [
        "# so if we say \n",
        "wish is greet"
      ],
      "metadata": {
        "colab": {
          "base_uri": "https://localhost:8080/"
        },
        "id": "E3a-BNTjlwFL",
        "outputId": "0c94473c-8ac7-4947-b78f-11fe0bacdd08"
      },
      "execution_count": 4,
      "outputs": [
        {
          "output_type": "execute_result",
          "data": {
            "text/plain": [
              "True"
            ]
          },
          "metadata": {},
          "execution_count": 4
        }
      ]
    },
    {
      "cell_type": "code",
      "source": [
        "name = 'Krishna'\n",
        "god = 'Krishna'\n",
        "\n",
        "# Though both name and god has same value\n",
        "id(name)"
      ],
      "metadata": {
        "colab": {
          "base_uri": "https://localhost:8080/"
        },
        "id": "FfzcFEqfl0Hw",
        "outputId": "45dc7bf3-b71f-4ccc-9f42-7ef920523a57"
      },
      "execution_count": 7,
      "outputs": [
        {
          "output_type": "execute_result",
          "data": {
            "text/plain": [
              "139877238204080"
            ]
          },
          "metadata": {},
          "execution_count": 7
        }
      ]
    },
    {
      "cell_type": "code",
      "source": [
        "id(god)"
      ],
      "metadata": {
        "colab": {
          "base_uri": "https://localhost:8080/"
        },
        "id": "MQiigs0ul_qt",
        "outputId": "5f8f47b9-ae81-41f3-aef0-3ce4cc22bda2"
      },
      "execution_count": 8,
      "outputs": [
        {
          "output_type": "execute_result",
          "data": {
            "text/plain": [
              "139877238204080"
            ]
          },
          "metadata": {},
          "execution_count": 8
        }
      ]
    },
    {
      "cell_type": "code",
      "source": [
        "even = 20\n",
        "noteven = 20"
      ],
      "metadata": {
        "id": "OEx77NlVmCy8"
      },
      "execution_count": 9,
      "outputs": []
    },
    {
      "cell_type": "code",
      "source": [
        "id(even)"
      ],
      "metadata": {
        "colab": {
          "base_uri": "https://localhost:8080/"
        },
        "id": "xxdO1qFPmY5g",
        "outputId": "c2e41764-5f21-4254-f892-4f747b1db811"
      },
      "execution_count": 10,
      "outputs": [
        {
          "output_type": "execute_result",
          "data": {
            "text/plain": [
              "11123200"
            ]
          },
          "metadata": {},
          "execution_count": 10
        }
      ]
    },
    {
      "cell_type": "code",
      "source": [
        "id(noteven)"
      ],
      "metadata": {
        "colab": {
          "base_uri": "https://localhost:8080/"
        },
        "id": "o8ibpP5KmaZq",
        "outputId": "3e6bc57f-bc4d-4c10-8756-4e614e2d5eae"
      },
      "execution_count": 11,
      "outputs": [
        {
          "output_type": "execute_result",
          "data": {
            "text/plain": [
              "11123200"
            ]
          },
          "metadata": {},
          "execution_count": 11
        }
      ]
    },
    {
      "cell_type": "markdown",
      "source": [
        "### `Membership Oeprators`\n",
        "\n",
        "`Membership Operator is used to compare a sequence present in an object or a part of object or not`\n",
        "\n",
        "- `in`\n",
        "- `not in`"
      ],
      "metadata": {
        "id": "ZtRDQzVPm3Ye"
      }
    },
    {
      "cell_type": "code",
      "source": [
        "vedas = ['Yajurveda', 'Rigveda', 'Saamveda', 'Athrvaveda']"
      ],
      "metadata": {
        "id": "-PWs4e_3mb_k"
      },
      "execution_count": 12,
      "outputs": []
    },
    {
      "cell_type": "code",
      "source": [
        "'Rigveda' in vedas"
      ],
      "metadata": {
        "colab": {
          "base_uri": "https://localhost:8080/"
        },
        "id": "R5f2mutfnZf8",
        "outputId": "a5bc8827-585d-48f1-c00d-286e8049dd9e"
      },
      "execution_count": 13,
      "outputs": [
        {
          "output_type": "execute_result",
          "data": {
            "text/plain": [
              "True"
            ]
          },
          "metadata": {},
          "execution_count": 13
        }
      ]
    },
    {
      "cell_type": "code",
      "source": [
        "'Rigveda' not in vedas"
      ],
      "metadata": {
        "colab": {
          "base_uri": "https://localhost:8080/"
        },
        "id": "4R-6VWOjncUV",
        "outputId": "a955cd8e-14df-4113-9d1f-5b197664a0a0"
      },
      "execution_count": 14,
      "outputs": [
        {
          "output_type": "execute_result",
          "data": {
            "text/plain": [
              "False"
            ]
          },
          "metadata": {},
          "execution_count": 14
        }
      ]
    },
    {
      "cell_type": "code",
      "source": [],
      "metadata": {
        "id": "3fj63LK1ne_E"
      },
      "execution_count": null,
      "outputs": []
    }
  ]
}