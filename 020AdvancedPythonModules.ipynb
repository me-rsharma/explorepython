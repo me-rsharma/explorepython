{
  "nbformat": 4,
  "nbformat_minor": 0,
  "metadata": {
    "colab": {
      "provenance": [],
      "mount_file_id": "1SXzjokjdy9pPQ3xwhJgyqExfs5j2P3XE",
      "authorship_tag": "ABX9TyPvB3BtsSQ2dAhUG7MHKpVI",
      "include_colab_link": true
    },
    "kernelspec": {
      "name": "python3",
      "display_name": "Python 3"
    },
    "language_info": {
      "name": "python"
    }
  },
  "cells": [
    {
      "cell_type": "markdown",
      "metadata": {
        "id": "view-in-github",
        "colab_type": "text"
      },
      "source": [
        "<a href=\"https://colab.research.google.com/github/me-rsharma/explorepython/blob/master/020AdvancedPythonModules.ipynb\" target=\"_parent\"><img src=\"https://colab.research.google.com/assets/colab-badge.svg\" alt=\"Open In Colab\"/></a>"
      ]
    },
    {
      "cell_type": "markdown",
      "source": [
        "## `Advanced Python Modules`\n",
        "\n",
        "- `Collections Module`\n",
        "- `OS Module`\n",
        "- `Datetime Module`\n",
        "- `Math & Random Module`\n",
        "- `Python Debugger`\n",
        "- `Regular Expressions`\n",
        "- `Zipping & Unzipping files`"
      ],
      "metadata": {
        "id": "hYsLPEFsGy2D"
      }
    },
    {
      "cell_type": "markdown",
      "source": [
        "### `Collections Module in Python`\n",
        "\n",
        "`The collection modules has builtin specialized containers such as specialized dictionary`"
      ],
      "metadata": {
        "id": "YoyobnmPHXps"
      }
    },
    {
      "cell_type": "code",
      "execution_count": 137,
      "metadata": {
        "id": "-H7YWjNxGqYA"
      },
      "outputs": [],
      "source": [
        "from collections import Counter"
      ]
    },
    {
      "cell_type": "code",
      "source": [
        "my_list = [1,2,1,1,1,1,3,3,3,3,2,2,2,2,4,4,4,4]"
      ],
      "metadata": {
        "id": "CyGWk8ltH1tW"
      },
      "execution_count": 138,
      "outputs": []
    },
    {
      "cell_type": "code",
      "source": [
        "Counter(my_list)"
      ],
      "metadata": {
        "colab": {
          "base_uri": "https://localhost:8080/"
        },
        "id": "67HwWByAH8BV",
        "outputId": "38cddaf1-3db0-4463-dff3-3a7221d114ab"
      },
      "execution_count": 139,
      "outputs": [
        {
          "output_type": "execute_result",
          "data": {
            "text/plain": [
              "Counter({1: 5, 2: 5, 3: 4, 4: 4})"
            ]
          },
          "metadata": {},
          "execution_count": 139
        }
      ]
    },
    {
      "cell_type": "code",
      "source": [
        "my_list = ['a','a', 10, 10,10]"
      ],
      "metadata": {
        "id": "E6ybhJ-eH_Ds"
      },
      "execution_count": 140,
      "outputs": []
    },
    {
      "cell_type": "code",
      "source": [
        "Counter(my_list)"
      ],
      "metadata": {
        "colab": {
          "base_uri": "https://localhost:8080/"
        },
        "id": "htKsYvDQBR0z",
        "outputId": "59d0bdb3-f72e-41a7-e4b5-d1f02a6ce013"
      },
      "execution_count": 141,
      "outputs": [
        {
          "output_type": "execute_result",
          "data": {
            "text/plain": [
              "Counter({'a': 2, 10: 3})"
            ]
          },
          "metadata": {},
          "execution_count": 141
        }
      ]
    },
    {
      "cell_type": "code",
      "source": [
        "Counter('aaaadgdgdggdgfsfsf')"
      ],
      "metadata": {
        "colab": {
          "base_uri": "https://localhost:8080/"
        },
        "id": "RuWdNx9ZBTmn",
        "outputId": "7c8e0e90-f6cd-4793-e08b-b978d93a3c13"
      },
      "execution_count": 142,
      "outputs": [
        {
          "output_type": "execute_result",
          "data": {
            "text/plain": [
              "Counter({'a': 4, 'd': 4, 'g': 5, 'f': 3, 's': 2})"
            ]
          },
          "metadata": {},
          "execution_count": 142
        }
      ]
    },
    {
      "cell_type": "code",
      "source": [
        "sentence = \"How many times each word shown in this sencence word and word\""
      ],
      "metadata": {
        "id": "Y6O59mcqBdvb"
      },
      "execution_count": 143,
      "outputs": []
    },
    {
      "cell_type": "code",
      "source": [
        "Counter(sentence.split(' '))"
      ],
      "metadata": {
        "colab": {
          "base_uri": "https://localhost:8080/"
        },
        "id": "x9FZhjZBBsOM",
        "outputId": "77a02ec6-513f-4e35-cf2e-af0fd3a78ad3"
      },
      "execution_count": 144,
      "outputs": [
        {
          "output_type": "execute_result",
          "data": {
            "text/plain": [
              "Counter({'How': 1,\n",
              "         'many': 1,\n",
              "         'times': 1,\n",
              "         'each': 1,\n",
              "         'word': 3,\n",
              "         'shown': 1,\n",
              "         'in': 1,\n",
              "         'this': 1,\n",
              "         'sencence': 1,\n",
              "         'and': 1})"
            ]
          },
          "metadata": {},
          "execution_count": 144
        }
      ]
    },
    {
      "cell_type": "code",
      "source": [
        "letters = 'aaacccbdbdbdb'"
      ],
      "metadata": {
        "id": "JZAFcE6NBxhf"
      },
      "execution_count": 145,
      "outputs": []
    },
    {
      "cell_type": "code",
      "source": [
        "Counter(letters)"
      ],
      "metadata": {
        "id": "ct__8cpXB8_l",
        "outputId": "9acef041-46ad-4011-ea76-088985b2526b",
        "colab": {
          "base_uri": "https://localhost:8080/"
        }
      },
      "execution_count": 146,
      "outputs": [
        {
          "output_type": "execute_result",
          "data": {
            "text/plain": [
              "Counter({'a': 3, 'c': 3, 'b': 4, 'd': 3})"
            ]
          },
          "metadata": {},
          "execution_count": 146
        }
      ]
    },
    {
      "cell_type": "code",
      "source": [
        "c = Counter(letters)"
      ],
      "metadata": {
        "id": "aK8wzAwgB_ro"
      },
      "execution_count": 147,
      "outputs": []
    },
    {
      "cell_type": "code",
      "source": [
        "c.most_common()"
      ],
      "metadata": {
        "colab": {
          "base_uri": "https://localhost:8080/"
        },
        "id": "YIsYkLnEZlKO",
        "outputId": "ab38693b-5b8c-45ce-a216-99b550613574"
      },
      "execution_count": 148,
      "outputs": [
        {
          "output_type": "execute_result",
          "data": {
            "text/plain": [
              "[('b', 4), ('a', 3), ('c', 3), ('d', 3)]"
            ]
          },
          "metadata": {},
          "execution_count": 148
        }
      ]
    },
    {
      "cell_type": "code",
      "source": [
        "c.most_common(n=2)"
      ],
      "metadata": {
        "colab": {
          "base_uri": "https://localhost:8080/"
        },
        "id": "EqyfFxOgZnEK",
        "outputId": "a1fa7f7b-202c-4b3c-b39b-ea306f63b014"
      },
      "execution_count": 149,
      "outputs": [
        {
          "output_type": "execute_result",
          "data": {
            "text/plain": [
              "[('b', 4), ('a', 3)]"
            ]
          },
          "metadata": {},
          "execution_count": 149
        }
      ]
    },
    {
      "cell_type": "code",
      "source": [
        "list(c)"
      ],
      "metadata": {
        "colab": {
          "base_uri": "https://localhost:8080/"
        },
        "id": "TKRAV0i-Zptx",
        "outputId": "472c8c57-219d-49cc-b162-2896ea853ee9"
      },
      "execution_count": 150,
      "outputs": [
        {
          "output_type": "execute_result",
          "data": {
            "text/plain": [
              "['a', 'c', 'b', 'd']"
            ]
          },
          "metadata": {},
          "execution_count": 150
        }
      ]
    },
    {
      "cell_type": "code",
      "source": [
        "from collections import defaultdict"
      ],
      "metadata": {
        "id": "Onvi1tFWZtQJ"
      },
      "execution_count": 151,
      "outputs": []
    },
    {
      "cell_type": "code",
      "source": [
        "# normal dict\n",
        "d = {'a': 10, 'b': 20}"
      ],
      "metadata": {
        "id": "pqJOKWeeZzYd"
      },
      "execution_count": 152,
      "outputs": []
    },
    {
      "cell_type": "code",
      "source": [
        "d['a']"
      ],
      "metadata": {
        "colab": {
          "base_uri": "https://localhost:8080/"
        },
        "id": "p2fyIZ0pZ_bo",
        "outputId": "ccae9ef4-7616-4cf2-b1bb-a5b1fdf64e95"
      },
      "execution_count": 153,
      "outputs": [
        {
          "output_type": "execute_result",
          "data": {
            "text/plain": [
              "10"
            ]
          },
          "metadata": {},
          "execution_count": 153
        }
      ]
    },
    {
      "cell_type": "code",
      "source": [
        "d['A']"
      ],
      "metadata": {
        "colab": {
          "base_uri": "https://localhost:8080/",
          "height": 164
        },
        "id": "Kt3GcyiWaAv5",
        "outputId": "5f0656f6-0b3d-4040-8472-9f9c36739648"
      },
      "execution_count": 155,
      "outputs": [
        {
          "output_type": "error",
          "ename": "KeyError",
          "evalue": "ignored",
          "traceback": [
            "\u001b[0;31m---------------------------------------------------------------------------\u001b[0m",
            "\u001b[0;31mKeyError\u001b[0m                                  Traceback (most recent call last)",
            "\u001b[0;32m<ipython-input-155-f7b5663222e2>\u001b[0m in \u001b[0;36m<module>\u001b[0;34m\u001b[0m\n\u001b[0;32m----> 1\u001b[0;31m \u001b[0md\u001b[0m\u001b[0;34m[\u001b[0m\u001b[0;34m'A'\u001b[0m\u001b[0;34m]\u001b[0m\u001b[0;34m\u001b[0m\u001b[0;34m\u001b[0m\u001b[0m\n\u001b[0m",
            "\u001b[0;31mKeyError\u001b[0m: 'A'"
          ]
        }
      ]
    },
    {
      "cell_type": "code",
      "source": [
        "default_dict = defaultdict()"
      ],
      "metadata": {
        "id": "ztOf2j3naEUt"
      },
      "execution_count": 156,
      "outputs": []
    },
    {
      "cell_type": "code",
      "source": [
        "default_dict['a'] = 10"
      ],
      "metadata": {
        "id": "Z4HNJTfsaSAW"
      },
      "execution_count": 157,
      "outputs": []
    },
    {
      "cell_type": "code",
      "source": [
        "default_dict['b'] = 20"
      ],
      "metadata": {
        "id": "UtgLsoaDaVcF"
      },
      "execution_count": 158,
      "outputs": []
    },
    {
      "cell_type": "code",
      "source": [
        "default_dict['b']"
      ],
      "metadata": {
        "colab": {
          "base_uri": "https://localhost:8080/"
        },
        "id": "UTk7_Y1oaZmV",
        "outputId": "b34be35b-82bc-45f4-97ee-e6c16d40f434"
      },
      "execution_count": 159,
      "outputs": [
        {
          "output_type": "execute_result",
          "data": {
            "text/plain": [
              "20"
            ]
          },
          "metadata": {},
          "execution_count": 159
        }
      ]
    },
    {
      "cell_type": "code",
      "source": [
        "default_dict['B']"
      ],
      "metadata": {
        "colab": {
          "base_uri": "https://localhost:8080/",
          "height": 164
        },
        "id": "ZjLCfQrQaeLq",
        "outputId": "554d5c40-291e-4f11-eb81-d2b0cd1bf139"
      },
      "execution_count": 207,
      "outputs": [
        {
          "output_type": "error",
          "ename": "KeyError",
          "evalue": "ignored",
          "traceback": [
            "\u001b[0;31m---------------------------------------------------------------------------\u001b[0m",
            "\u001b[0;31mKeyError\u001b[0m                                  Traceback (most recent call last)",
            "\u001b[0;32m<ipython-input-207-504f58ea0570>\u001b[0m in \u001b[0;36m<module>\u001b[0;34m\u001b[0m\n\u001b[0;32m----> 1\u001b[0;31m \u001b[0mdefault_dict\u001b[0m\u001b[0;34m[\u001b[0m\u001b[0;34m'B'\u001b[0m\u001b[0;34m]\u001b[0m\u001b[0;34m\u001b[0m\u001b[0;34m\u001b[0m\u001b[0m\n\u001b[0m",
            "\u001b[0;31mKeyError\u001b[0m: 'B'"
          ]
        }
      ]
    },
    {
      "cell_type": "code",
      "source": [
        "default_dict = defaultdict(lambda: 0)"
      ],
      "metadata": {
        "id": "BniNEYVtafyj"
      },
      "execution_count": 208,
      "outputs": []
    },
    {
      "cell_type": "code",
      "source": [
        "default_dict['b'] = 20"
      ],
      "metadata": {
        "id": "FNz2rDoSam6L"
      },
      "execution_count": 209,
      "outputs": []
    },
    {
      "cell_type": "code",
      "source": [
        "default_dict['B'] "
      ],
      "metadata": {
        "id": "QSgarYLGaoh1",
        "outputId": "756bd6b2-1f08-47a1-a40a-ace7bfb068b9",
        "colab": {
          "base_uri": "https://localhost:8080/"
        }
      },
      "execution_count": 210,
      "outputs": [
        {
          "output_type": "execute_result",
          "data": {
            "text/plain": [
              "0"
            ]
          },
          "metadata": {},
          "execution_count": 210
        }
      ]
    },
    {
      "cell_type": "markdown",
      "source": [
        "## `shutil & os module`\n",
        "\n",
        "`Opening and reading files and folders on local system`\n",
        "\n",
        "`Python's `os` & `shutil` allow us to easily navigate to the files and folders on the computer and perform actions on them such as moving or deleting them`"
      ],
      "metadata": {
        "id": "9YZfwBHnt6jl"
      }
    },
    {
      "cell_type": "code",
      "source": [
        "pwd"
      ],
      "metadata": {
        "id": "89Bb-9LEaqrL",
        "colab": {
          "base_uri": "https://localhost:8080/",
          "height": 35
        },
        "outputId": "129750e3-7558-449a-c8c9-3d5629ffaa1a"
      },
      "execution_count": 211,
      "outputs": [
        {
          "output_type": "execute_result",
          "data": {
            "text/plain": [
              "'/content'"
            ],
            "application/vnd.google.colaboratory.intrinsic+json": {
              "type": "string"
            }
          },
          "metadata": {},
          "execution_count": 211
        }
      ]
    },
    {
      "cell_type": "code",
      "source": [
        "f = open('/content/drive/MyDrive/data/practice.txt', 'w+')"
      ],
      "metadata": {
        "id": "D3mQCaXaw09S"
      },
      "execution_count": 212,
      "outputs": []
    },
    {
      "cell_type": "code",
      "source": [
        "f.write('lets start practicing os and shutil module...')"
      ],
      "metadata": {
        "colab": {
          "base_uri": "https://localhost:8080/"
        },
        "id": "L6QUi7t7zWZh",
        "outputId": "579f32f3-f794-4742-d754-af523acb68e0"
      },
      "execution_count": 213,
      "outputs": [
        {
          "output_type": "execute_result",
          "data": {
            "text/plain": [
              "45"
            ]
          },
          "metadata": {},
          "execution_count": 213
        }
      ]
    },
    {
      "cell_type": "code",
      "source": [
        "f.close()"
      ],
      "metadata": {
        "id": "RGivRdfCzgJ7"
      },
      "execution_count": 214,
      "outputs": []
    },
    {
      "cell_type": "code",
      "source": [
        "import os"
      ],
      "metadata": {
        "id": "2D7zYPfMzhc9"
      },
      "execution_count": 215,
      "outputs": []
    },
    {
      "cell_type": "code",
      "source": [
        "os.getcwd()"
      ],
      "metadata": {
        "colab": {
          "base_uri": "https://localhost:8080/",
          "height": 35
        },
        "id": "zBKlgqsFzoQv",
        "outputId": "57ecbfca-0ef8-4a5b-b0cf-429616463e37"
      },
      "execution_count": 216,
      "outputs": [
        {
          "output_type": "execute_result",
          "data": {
            "text/plain": [
              "'/content'"
            ],
            "application/vnd.google.colaboratory.intrinsic+json": {
              "type": "string"
            }
          },
          "metadata": {},
          "execution_count": 216
        }
      ]
    },
    {
      "cell_type": "code",
      "source": [
        "os.listdir('/content/drive/MyDrive/data')"
      ],
      "metadata": {
        "colab": {
          "base_uri": "https://localhost:8080/"
        },
        "id": "kIjqa-Dfzp98",
        "outputId": "14fddd0b-9f8a-4def-99a8-028f4a6a739d"
      },
      "execution_count": 217,
      "outputs": [
        {
          "output_type": "execute_result",
          "data": {
            "text/plain": [
              "['google_stocks.csv',\n",
              " 'pokemon.csv',\n",
              " 'revolutionary_war.csv',\n",
              " 'movies.csv',\n",
              " 'nba.csv',\n",
              " 'murderbeneaththeice.txt',\n",
              " 'data.json',\n",
              " 'nfl.csv',\n",
              " 'netflix.csv',\n",
              " 'customers.csv',\n",
              " 'neighborhoods.csv',\n",
              " 'sales_by_employee.csv',\n",
              " 'video_game_sales.csv',\n",
              " 'recipes.csv',\n",
              " 'used_cars.csv',\n",
              " 'minimum_wage.csv',\n",
              " 'fortune1000.csv',\n",
              " 'employees.csv',\n",
              " 'chicago_food_inspections.csv',\n",
              " 'investments.csv',\n",
              " 'cereals.csv',\n",
              " 'chapter_09_the_groupby_object.ipynb',\n",
              " 'survey_results_schema.csv',\n",
              " 'survey_results_public.csv',\n",
              " 'state_abbrevs.csv',\n",
              " 'bonus.csv',\n",
              " 'title.csv',\n",
              " 'nfl_combine.csv',\n",
              " 'worker.csv',\n",
              " 'titanic.csv',\n",
              " 'state_population.csv',\n",
              " 'state_areas.csv',\n",
              " 'restaurant',\n",
              " 'meetup',\n",
              " 'bookofparis.txt',\n",
              " 'my_new_file.txt',\n",
              " 'create_file.txt',\n",
              " 'practice.txt']"
            ]
          },
          "metadata": {},
          "execution_count": 217
        }
      ]
    },
    {
      "cell_type": "code",
      "source": [
        "import shutil"
      ],
      "metadata": {
        "id": "5-KBsjey0z0L"
      },
      "execution_count": 218,
      "outputs": []
    },
    {
      "cell_type": "code",
      "source": [
        "shutil.move('/content/drive/MyDrive/data/practice.txt', '/content/drive/MyDrive/')"
      ],
      "metadata": {
        "colab": {
          "base_uri": "https://localhost:8080/",
          "height": 35
        },
        "id": "uVp2ls4j04hm",
        "outputId": "82c8be7f-b2f0-4772-f50c-e9cdba4f77bf"
      },
      "execution_count": 219,
      "outputs": [
        {
          "output_type": "execute_result",
          "data": {
            "text/plain": [
              "'/content/drive/MyDrive/practice.txt'"
            ],
            "application/vnd.google.colaboratory.intrinsic+json": {
              "type": "string"
            }
          },
          "metadata": {},
          "execution_count": 219
        }
      ]
    },
    {
      "cell_type": "code",
      "source": [
        "os.listdir('/content/drive/MyDrive/')"
      ],
      "metadata": {
        "colab": {
          "base_uri": "https://localhost:8080/"
        },
        "id": "F6pih3ng1JPQ",
        "outputId": "31acab28-be25-4a1d-e221-5809c4842f5f"
      },
      "execution_count": 220,
      "outputs": [
        {
          "output_type": "execute_result",
          "data": {
            "text/plain": [
              "['How to get started with Drive.pdf',\n",
              " 'EXP.pdf',\n",
              " 'Application Form.pdf',\n",
              " 'URLs.gsheet',\n",
              " 'Screen Shot 2018-03-05 at 11.57.35 AM.jpg',\n",
              " 'customcal (2).pdf',\n",
              " 'customcal (3).pdf',\n",
              " 'Ramesh Kumar Third I Resume.docx',\n",
              " 'Monica Mathkari Third I Resume.docx',\n",
              " 'M Salmon Raju Third I Resume.docx',\n",
              " 'Rohan Akotiya Third I Resume.gdoc',\n",
              " 'letsgit',\n",
              " 'robotframework-jsonlibrary-master',\n",
              " 'ts04_caw_api_professionals.robot',\n",
              " 'ts04_caw_ui_professionals.robot',\n",
              " 'robotframework-jsonlibrary-master.zip',\n",
              " 'PycharmProjects',\n",
              " 'PycharmProjects.zip',\n",
              " 'DSC_0520.JPG',\n",
              " 'DSC_0521.JPG',\n",
              " 'DSC_0519.JPG',\n",
              " 'DSC_0522.JPG',\n",
              " 'DSC_0523.JPG',\n",
              " 'DSC_0526.JPG',\n",
              " 'DSC_0524.JPG',\n",
              " 'DSC_0525.JPG',\n",
              " 'DSC_0518.JPG',\n",
              " 'My Expenses.gsheet',\n",
              " '19042499900456.pdf',\n",
              " '64457853_1562489412328.pdf',\n",
              " 'PaySlip_1082 (2).pdf',\n",
              " 'PaySlip_1082 (1).pdf',\n",
              " 'PaySlip_1082.pdf',\n",
              " 'LT E-Bill rajeshwar.pdf',\n",
              " 'Form-MBP-1 RAJESHWAR.doc',\n",
              " 'Form-MBP-1 RAJESHWAR.gdoc',\n",
              " 'explorechoice',\n",
              " 'FORM 9 RAJESHWAR.docx',\n",
              " 'FORM 9 RAJESHWAR.gdoc',\n",
              " 'NAME APPROVAL LATTER.PDF',\n",
              " '2019-08-28-10-50-50-391_1566969650391_XXXPS3440X_Acknowledgement.zip',\n",
              " \"Sept'19 Expenses.gsheet\",\n",
              " 'Untitled presentation (2).gslides',\n",
              " 'Introduction to HTML.gdoc',\n",
              " 'HTML Document Standards.gdoc',\n",
              " 'Tables in HTML.gdoc',\n",
              " 'Introduction to HTML Forms.gdoc',\n",
              " 'Learn HTML: FORM Validation.gdoc',\n",
              " 'Introduction to JAVA.gdoc',\n",
              " 'duckett.pdf',\n",
              " 'FreeTutorialsUS.com-Udemy-Typescript-The-Complete-Developers-Guide.torrent',\n",
              " 'HTMLIntro.pdf',\n",
              " 'LLP AGREEMENT.docx',\n",
              " 'Sign It.gdoc',\n",
              " 'LLP AGREEMENT.gdoc',\n",
              " 'Archive.zip',\n",
              " 'LLP Agreement Sign.zip',\n",
              " 'SignLLP.zip',\n",
              " 'llpagreementsign 14.png',\n",
              " 'llpagreementsign.png',\n",
              " 'URLs.gdoc',\n",
              " 'XLRI',\n",
              " 'Colab Notebooks',\n",
              " 'data',\n",
              " 'Candidate Application Form.docx-signed-converted.docx',\n",
              " 'Candidate Application Form.docx',\n",
              " 'signaturenew (3).png',\n",
              " 'Untitled document (2).gdoc',\n",
              " 'pythonlogo.png',\n",
              " 'Note Saver_20200122_210622.pdf',\n",
              " 'Note Saver_20200122_210638.pdf',\n",
              " 'Note Saver_20200122_210820.pdf',\n",
              " 'Note Saver_20200122_210959.pdf',\n",
              " 'Note Saver_20200122_211013.pdf',\n",
              " 'Note Saver_20200122_211023.pdf',\n",
              " 'Note Saver_20200122_213222.pdf',\n",
              " 'file.png',\n",
              " 'readfile.png',\n",
              " 'Note Saver_20200122_215241.pdf',\n",
              " '20200122220428 (1).png',\n",
              " '20200122220428.png',\n",
              " 'Notes 1 20200122233351.png',\n",
              " '20200122210813.png',\n",
              " '20200122210916.png',\n",
              " 'Notes 2 20200122233934.png',\n",
              " 'Notes 3 20200122234250.png',\n",
              " '20200121003532.png',\n",
              " 'Notes 4 20200122235050.png',\n",
              " '20200123004502.png',\n",
              " 'Note Saver_20200123_004525.pdf',\n",
              " 'Note Saver_20200123_004534.pdf',\n",
              " 'Day-13 working25thJan2020.pptx',\n",
              " 'Day-13 working25thJan2020.gslides',\n",
              " '54183789_ticket.pdf',\n",
              " '54183788_ticket.pdf',\n",
              " 'DSC_0034 (1).jpg',\n",
              " 'Confidential Information Acknowledgement.pdf',\n",
              " 'Shilpa QA.docx',\n",
              " 'Usama Danish Sr. Associate Resume (002).gdoc',\n",
              " 'Shilpa QA.gdoc',\n",
              " 'Shilpa Resume.gdoc',\n",
              " 'Copy of Shilpa Resume.gdoc',\n",
              " 'Neha Resume.gdoc',\n",
              " 'Sunny Kumar Resume.gdoc',\n",
              " 'Copy of Usama Danish Sr. Associate Resume (002).gdoc',\n",
              " 'Naveen BK Resume.docx',\n",
              " 'PySeBootcamp.zip',\n",
              " 'A Professsional Yoga with Python & Selenium 2020-04-19-15-16-11.mp4.zip',\n",
              " 'PySeBootcamp.gsheet',\n",
              " 'A Professsional Yoga with Python & Selenium 2020-05-24-15-11-47.mp4',\n",
              " 'A Professsional Yoga with Python & Selenium 2020-05-23-15-14-28.mp4',\n",
              " 'FDB - A Professional Yoga with Selenium & Python.gform',\n",
              " 'EPF Form 2 -India_Nomination_Form-converted.docx',\n",
              " 'New Hire - India Monthly.xls',\n",
              " 'Untitled document (1).gdoc',\n",
              " 'Untitled document.gdoc',\n",
              " '2. Senior Engineer_Viken Patel.pdf',\n",
              " 'Hema Sundar Resume.docx',\n",
              " '2. Senior Engineer_Viken Patel.gdoc',\n",
              " 'Nikhil Chaurasia Resume.docx',\n",
              " 'Jaimin Belani- Resume-AArete.docx',\n",
              " 'Archana Pal Resume AArete.docx',\n",
              " 'Satheesh Kumar Resume.docx',\n",
              " 'Arcana-Paddhati.pdf',\n",
              " 'Disclosure.docx',\n",
              " 'Emailing kamleshwar.pdf',\n",
              " 'DS6 ASSIGNMENT INTRODUCTION.gdoc',\n",
              " 'Untitled presentation (1).gslides',\n",
              " 'Untitled presentation.gslides',\n",
              " 'Partners Report.gdoc',\n",
              " 'Disclosure.gdoc',\n",
              " 'FINANCIAL STATEMENTS FY 19-20.gsheet',\n",
              " 'Anna Resume AArete.docx',\n",
              " 'Pushpa - Android Developer.pdf',\n",
              " 'Pushpa - Android Developer.gdoc',\n",
              " '9I_0514_20201208_boardingPass.pdf',\n",
              " 'Sushil Resume AArete.docx',\n",
              " 'RITU Resume AArete.docx',\n",
              " 'Nikita Resume AArete.docx',\n",
              " 'Dhananjay AArete.docx',\n",
              " 'radhakrishna.jpg',\n",
              " 'wp4727248-radhakrishn-wallpapers.jpg',\n",
              " 'lord krishna krishna wallpapersshri krishna High Resolution Images.jpg',\n",
              " 'Globant_Rajeshwar Sharma _Senior  Test Automation Engineer_11 December 2019.pdf',\n",
              " '10179066&domainId=1.jpg',\n",
              " '7835917&domainId=1.jpg',\n",
              " 'exterior-home-design-01.jpg',\n",
              " 'featured-image-of-indian-modern-house-front-view-at-night.jpg',\n",
              " 'download.jpg',\n",
              " 'download (1).jpg',\n",
              " 'front-porch-pergola-exterior-traditional-with-brick-birdhouses.jpg',\n",
              " 'Extened-renovated-seventies-home-Brown-01-1002x668.jpg',\n",
              " '1435774956655.jpeg',\n",
              " 'stucco-siding.jpg',\n",
              " 'Shingle-Exterior-House-Representing-Natural-Color-Combined-with-Wood-and-Stone.jpg',\n",
              " 'ranch-house-exterior-design-ideas-4.jpg',\n",
              " 'optimus-exterior-bluered.jpg',\n",
              " 'small-front-porch-modular-home.jpg',\n",
              " 'download (2).jpg',\n",
              " '60-Most-Popular-Modern-Dream-House-Exterior-Design-Ideas-28.jpg',\n",
              " 'front with rockwork.JPG',\n",
              " 'Paint-Color-Selection-For-Modern-House.jpg',\n",
              " '009-Krishna_-_2560x1600.jpg',\n",
              " '026-Radha_Krishna_-_2560x1600.jpg',\n",
              " '003-Jagannath_Baladeva_Subhadra_-_2560x1600.jpg',\n",
              " '010-Sri_Narasimha_Deva_-_2560x1600.jpg',\n",
              " '009-Sri_Narasimha_Deva_Close_up_-_2560x1600.jpg',\n",
              " '84a19b3235c29e21901db6ab03a55f94.jpg',\n",
              " 'letsprint',\n",
              " 'PANCARDPUSPA.pdf',\n",
              " 'babuticket.pdf',\n",
              " '1131-Form11LLP.pdf',\n",
              " '1131-Form11LLP.gdoc',\n",
              " 'SAVE_20210104_155214.jpg',\n",
              " 'SAVE_20210104_155205.jpg',\n",
              " 'IMG_20190325_021316.jpg',\n",
              " 'IMG_20190325_021257.jpg',\n",
              " 'IMG_20190325_021212.jpg',\n",
              " 'IMG_20210827_163741.jpg',\n",
              " 'STATEMENT OF ACCOUNT FINAL.docx',\n",
              " 'Authorization.docx',\n",
              " 'Partners Consent.docx',\n",
              " 'AFFIDAVIT-KAMLESHWAR.pdf',\n",
              " 'AFFIDAVIT-RAJESHWAR.pdf',\n",
              " 'IDENMITY-RAJESHWAR.pdf',\n",
              " 'IDENMITY-KAMLESHWAR.pdf',\n",
              " 'Ring ceremony invite (6).pdf',\n",
              " 'parivar-register 3.pdf',\n",
              " 'Aadhaar.pdf',\n",
              " '8810562426227802022-03-14_04_27_16.2716_signed-unlocked.pdf',\n",
              " 'Amit Shankar Amale Third I Resume.gdoc',\n",
              " 'bmi.pdf',\n",
              " 'Wedding Invitation.pdf',\n",
              " 'XYCUZH-p6G16XUknPBaSgLWZXb9Zg95qCgOP7iW.pdf',\n",
              " 'Aadhaar-meena.pdf',\n",
              " 'Aadhaar-rajeshwar.pdf',\n",
              " 'bcy-ker.pdf',\n",
              " 'practice.txt']"
            ]
          },
          "metadata": {},
          "execution_count": 220
        }
      ]
    },
    {
      "cell_type": "markdown",
      "source": [
        "### `Deleting file`\n",
        "\n",
        "`There are 3 ways, we can delete files`\n",
        "- `os.unlink(path) - delete a file at the path you provide`\n",
        "- `os.rmdir(path) - deletes a folder(folder must be empty)`\n",
        "- `shutil.rmtree(path) - deletes all the files and folders contained in that path - most dangerous command`\n",
        "- `And hence we will be using safer way to delete files/folder that helps to revert the changes - send2trash `"
      ],
      "metadata": {
        "id": "j3jMPoY8_o2i"
      }
    },
    {
      "cell_type": "code",
      "source": [
        "!pip install send2trash"
      ],
      "metadata": {
        "colab": {
          "base_uri": "https://localhost:8080/"
        },
        "id": "LfFVPbZn1lnB",
        "outputId": "a34e0864-67d7-407c-d6e2-4d5a4399983c"
      },
      "execution_count": 221,
      "outputs": [
        {
          "output_type": "stream",
          "name": "stdout",
          "text": [
            "Looking in indexes: https://pypi.org/simple, https://us-python.pkg.dev/colab-wheels/public/simple/\n",
            "Requirement already satisfied: send2trash in /usr/local/lib/python3.7/dist-packages (1.8.0)\n"
          ]
        }
      ]
    },
    {
      "cell_type": "code",
      "source": [
        "import send2trash"
      ],
      "metadata": {
        "id": "qnXYSPUA_nhR"
      },
      "execution_count": 222,
      "outputs": []
    },
    {
      "cell_type": "code",
      "source": [
        "os.listdir(path='/content/drive/MyDrive/')\n",
        "shutil.move(src='/content/drive/MyDrive/practice.txt', dst='/content/drive/MyDrive/data')"
      ],
      "metadata": {
        "colab": {
          "base_uri": "https://localhost:8080/",
          "height": 35
        },
        "id": "pjuTfvamB5cy",
        "outputId": "5d223c04-b144-429a-b0f4-a802c55c046b"
      },
      "execution_count": 223,
      "outputs": [
        {
          "output_type": "execute_result",
          "data": {
            "text/plain": [
              "'/content/drive/MyDrive/data/practice.txt'"
            ],
            "application/vnd.google.colaboratory.intrinsic+json": {
              "type": "string"
            }
          },
          "metadata": {},
          "execution_count": 223
        }
      ]
    },
    {
      "cell_type": "code",
      "source": [
        "os.listdir(path='/content/drive/MyDrive/data/')"
      ],
      "metadata": {
        "colab": {
          "base_uri": "https://localhost:8080/"
        },
        "id": "agJVJMLpCgov",
        "outputId": "d97b5185-628c-4e23-d254-423ae737ffa8"
      },
      "execution_count": 224,
      "outputs": [
        {
          "output_type": "execute_result",
          "data": {
            "text/plain": [
              "['google_stocks.csv',\n",
              " 'pokemon.csv',\n",
              " 'revolutionary_war.csv',\n",
              " 'movies.csv',\n",
              " 'nba.csv',\n",
              " 'murderbeneaththeice.txt',\n",
              " 'data.json',\n",
              " 'nfl.csv',\n",
              " 'netflix.csv',\n",
              " 'customers.csv',\n",
              " 'neighborhoods.csv',\n",
              " 'sales_by_employee.csv',\n",
              " 'video_game_sales.csv',\n",
              " 'recipes.csv',\n",
              " 'used_cars.csv',\n",
              " 'minimum_wage.csv',\n",
              " 'fortune1000.csv',\n",
              " 'employees.csv',\n",
              " 'chicago_food_inspections.csv',\n",
              " 'investments.csv',\n",
              " 'cereals.csv',\n",
              " 'chapter_09_the_groupby_object.ipynb',\n",
              " 'survey_results_schema.csv',\n",
              " 'survey_results_public.csv',\n",
              " 'state_abbrevs.csv',\n",
              " 'bonus.csv',\n",
              " 'title.csv',\n",
              " 'nfl_combine.csv',\n",
              " 'worker.csv',\n",
              " 'titanic.csv',\n",
              " 'state_population.csv',\n",
              " 'state_areas.csv',\n",
              " 'restaurant',\n",
              " 'meetup',\n",
              " 'bookofparis.txt',\n",
              " 'my_new_file.txt',\n",
              " 'create_file.txt',\n",
              " 'practice.txt']"
            ]
          },
          "metadata": {},
          "execution_count": 224
        }
      ]
    },
    {
      "cell_type": "code",
      "source": [
        "send2trash.send2trash(paths='/content/drive/MyDrive/data/practice.txt')"
      ],
      "metadata": {
        "id": "-BeJA104CmyQ"
      },
      "execution_count": 225,
      "outputs": []
    },
    {
      "cell_type": "code",
      "source": [
        "os.listdir(path='/content/drive/MyDrive/data')"
      ],
      "metadata": {
        "colab": {
          "base_uri": "https://localhost:8080/"
        },
        "id": "ifK7xM3LDBcl",
        "outputId": "2b6a4fb7-e581-4b6c-c10c-a89319a6524d"
      },
      "execution_count": 226,
      "outputs": [
        {
          "output_type": "execute_result",
          "data": {
            "text/plain": [
              "['google_stocks.csv',\n",
              " 'pokemon.csv',\n",
              " 'revolutionary_war.csv',\n",
              " 'movies.csv',\n",
              " 'nba.csv',\n",
              " 'murderbeneaththeice.txt',\n",
              " 'data.json',\n",
              " 'nfl.csv',\n",
              " 'netflix.csv',\n",
              " 'customers.csv',\n",
              " 'neighborhoods.csv',\n",
              " 'sales_by_employee.csv',\n",
              " 'video_game_sales.csv',\n",
              " 'recipes.csv',\n",
              " 'used_cars.csv',\n",
              " 'minimum_wage.csv',\n",
              " 'fortune1000.csv',\n",
              " 'employees.csv',\n",
              " 'chicago_food_inspections.csv',\n",
              " 'investments.csv',\n",
              " 'cereals.csv',\n",
              " 'chapter_09_the_groupby_object.ipynb',\n",
              " 'survey_results_schema.csv',\n",
              " 'survey_results_public.csv',\n",
              " 'state_abbrevs.csv',\n",
              " 'bonus.csv',\n",
              " 'title.csv',\n",
              " 'nfl_combine.csv',\n",
              " 'worker.csv',\n",
              " 'titanic.csv',\n",
              " 'state_population.csv',\n",
              " 'state_areas.csv',\n",
              " 'restaurant',\n",
              " 'meetup',\n",
              " 'bookofparis.txt',\n",
              " 'my_new_file.txt',\n",
              " 'create_file.txt']"
            ]
          },
          "metadata": {},
          "execution_count": 226
        }
      ]
    },
    {
      "cell_type": "code",
      "source": [
        "## To read files and sunfolders from folders\n",
        "gen = os.walk('/content/drive/MyDrive/data')"
      ],
      "metadata": {
        "id": "4e8Esy_QDHWR"
      },
      "execution_count": 227,
      "outputs": []
    },
    {
      "cell_type": "code",
      "source": [
        "for folder, subfolder, files in gen:\n",
        "  for sf in subfolder:\n",
        "    print(sf)\n",
        "  for f in files:\n",
        "    print(f)"
      ],
      "metadata": {
        "colab": {
          "base_uri": "https://localhost:8080/"
        },
        "id": "cu7Z2W-mFq_I",
        "outputId": "562aedfe-b8cf-498f-c7c2-25c00ac07e99"
      },
      "execution_count": 228,
      "outputs": [
        {
          "output_type": "stream",
          "name": "stdout",
          "text": [
            "restaurant\n",
            "meetup\n",
            "google_stocks.csv\n",
            "pokemon.csv\n",
            "revolutionary_war.csv\n",
            "movies.csv\n",
            "nba.csv\n",
            "murderbeneaththeice.txt\n",
            "data.json\n",
            "nfl.csv\n",
            "netflix.csv\n",
            "customers.csv\n",
            "neighborhoods.csv\n",
            "sales_by_employee.csv\n",
            "video_game_sales.csv\n",
            "recipes.csv\n",
            "used_cars.csv\n",
            "minimum_wage.csv\n",
            "fortune1000.csv\n",
            "employees.csv\n",
            "chicago_food_inspections.csv\n",
            "investments.csv\n",
            "cereals.csv\n",
            "chapter_09_the_groupby_object.ipynb\n",
            "survey_results_schema.csv\n",
            "survey_results_public.csv\n",
            "state_abbrevs.csv\n",
            "bonus.csv\n",
            "title.csv\n",
            "nfl_combine.csv\n",
            "worker.csv\n",
            "titanic.csv\n",
            "state_population.csv\n",
            "state_areas.csv\n",
            "bookofparis.txt\n",
            "my_new_file.txt\n",
            "create_file.txt\n",
            "customers.csv\n",
            "week_2_sales.csv\n",
            "foods.csv\n",
            "week_1_satisfaction.csv\n",
            "week_1_sales.csv\n",
            "categories.csv\n",
            ".DS_Store\n",
            "cities.csv\n",
            "groups1.csv\n",
            "groups2.csv\n"
          ]
        }
      ]
    },
    {
      "cell_type": "markdown",
      "source": [
        "## `Datetime Module`"
      ],
      "metadata": {
        "id": "xF372JUbovp9"
      }
    },
    {
      "cell_type": "code",
      "source": [
        "import datetime"
      ],
      "metadata": {
        "id": "sqCgNZMdFwHN"
      },
      "execution_count": 229,
      "outputs": []
    },
    {
      "cell_type": "code",
      "source": [
        "datetime.time()"
      ],
      "metadata": {
        "colab": {
          "base_uri": "https://localhost:8080/"
        },
        "id": "i9M8bGlMo1oh",
        "outputId": "515b11cb-dea7-40c1-a18c-37dfeb7683d2"
      },
      "execution_count": 230,
      "outputs": [
        {
          "output_type": "execute_result",
          "data": {
            "text/plain": [
              "datetime.time(0, 0)"
            ]
          },
          "metadata": {},
          "execution_count": 230
        }
      ]
    },
    {
      "cell_type": "code",
      "source": [
        "datetime.time(hour=10, minute=24, second=45, microsecond=10)"
      ],
      "metadata": {
        "colab": {
          "base_uri": "https://localhost:8080/"
        },
        "id": "fAIdxi61o3Jv",
        "outputId": "e2d04194-0312-48e0-fa32-c588f759f4b4"
      },
      "execution_count": 231,
      "outputs": [
        {
          "output_type": "execute_result",
          "data": {
            "text/plain": [
              "datetime.time(10, 24, 45, 10)"
            ]
          },
          "metadata": {},
          "execution_count": 231
        }
      ]
    },
    {
      "cell_type": "code",
      "source": [
        "dt = datetime.time(hour=10, minute=24, second=45, microsecond=10)"
      ],
      "metadata": {
        "id": "eqIX2A1lpCO8"
      },
      "execution_count": 232,
      "outputs": []
    },
    {
      "cell_type": "code",
      "source": [
        "dt.hour"
      ],
      "metadata": {
        "colab": {
          "base_uri": "https://localhost:8080/"
        },
        "id": "xquXI56hpF3r",
        "outputId": "64086e48-1aaf-485e-e262-e270a4dce8f5"
      },
      "execution_count": 233,
      "outputs": [
        {
          "output_type": "execute_result",
          "data": {
            "text/plain": [
              "10"
            ]
          },
          "metadata": {},
          "execution_count": 233
        }
      ]
    },
    {
      "cell_type": "code",
      "source": [
        "dt.second"
      ],
      "metadata": {
        "colab": {
          "base_uri": "https://localhost:8080/"
        },
        "id": "_WoPrhG9pNHO",
        "outputId": "6f955074-ed8c-4503-97db-423613dbee20"
      },
      "execution_count": 234,
      "outputs": [
        {
          "output_type": "execute_result",
          "data": {
            "text/plain": [
              "45"
            ]
          },
          "metadata": {},
          "execution_count": 234
        }
      ]
    },
    {
      "cell_type": "code",
      "source": [
        "d = datetime.date(2020, 10, 23)"
      ],
      "metadata": {
        "id": "t5brjkYspO6W"
      },
      "execution_count": 235,
      "outputs": []
    },
    {
      "cell_type": "code",
      "source": [
        "d.day"
      ],
      "metadata": {
        "colab": {
          "base_uri": "https://localhost:8080/"
        },
        "id": "PG8GA18JpS1b",
        "outputId": "bf7380eb-8b02-4e0f-8e60-96a3832844b0"
      },
      "execution_count": 236,
      "outputs": [
        {
          "output_type": "execute_result",
          "data": {
            "text/plain": [
              "23"
            ]
          },
          "metadata": {},
          "execution_count": 236
        }
      ]
    },
    {
      "cell_type": "code",
      "source": [
        "d.year"
      ],
      "metadata": {
        "colab": {
          "base_uri": "https://localhost:8080/"
        },
        "id": "2km7ghW7pfAz",
        "outputId": "a3d58bdb-5172-4533-b623-f44ac08f350c"
      },
      "execution_count": 237,
      "outputs": [
        {
          "output_type": "execute_result",
          "data": {
            "text/plain": [
              "2020"
            ]
          },
          "metadata": {},
          "execution_count": 237
        }
      ]
    },
    {
      "cell_type": "code",
      "source": [
        "d.month"
      ],
      "metadata": {
        "colab": {
          "base_uri": "https://localhost:8080/"
        },
        "id": "3P1_t05ypgRj",
        "outputId": "a75be56a-6633-45d1-c31a-d7757526f354"
      },
      "execution_count": 238,
      "outputs": [
        {
          "output_type": "execute_result",
          "data": {
            "text/plain": [
              "10"
            ]
          },
          "metadata": {},
          "execution_count": 238
        }
      ]
    },
    {
      "cell_type": "code",
      "source": [
        "today = datetime.date.today()"
      ],
      "metadata": {
        "id": "0d8QXyA0phxl"
      },
      "execution_count": 239,
      "outputs": []
    },
    {
      "cell_type": "code",
      "source": [
        "today"
      ],
      "metadata": {
        "colab": {
          "base_uri": "https://localhost:8080/"
        },
        "id": "XmqNo-mapnGq",
        "outputId": "004853eb-9ce3-4673-ba24-5e194aa220ac"
      },
      "execution_count": 240,
      "outputs": [
        {
          "output_type": "execute_result",
          "data": {
            "text/plain": [
              "datetime.date(2022, 10, 16)"
            ]
          },
          "metadata": {},
          "execution_count": 240
        }
      ]
    },
    {
      "cell_type": "code",
      "source": [
        "print(today)"
      ],
      "metadata": {
        "colab": {
          "base_uri": "https://localhost:8080/"
        },
        "id": "U26UzrCGpo2a",
        "outputId": "6f1079b8-034c-493b-bdfd-b9a4c809b532"
      },
      "execution_count": 241,
      "outputs": [
        {
          "output_type": "stream",
          "name": "stdout",
          "text": [
            "2022-10-16\n"
          ]
        }
      ]
    },
    {
      "cell_type": "code",
      "source": [
        "today.month"
      ],
      "metadata": {
        "colab": {
          "base_uri": "https://localhost:8080/"
        },
        "id": "RDgoLUzN4KFm",
        "outputId": "7a7a5079-8989-416e-b4a1-052cea1a292b"
      },
      "execution_count": 242,
      "outputs": [
        {
          "output_type": "execute_result",
          "data": {
            "text/plain": [
              "10"
            ]
          },
          "metadata": {},
          "execution_count": 242
        }
      ]
    },
    {
      "cell_type": "code",
      "source": [
        "today.ctime()"
      ],
      "metadata": {
        "colab": {
          "base_uri": "https://localhost:8080/",
          "height": 35
        },
        "id": "7xFZYbnq4dIx",
        "outputId": "edaa6e11-8bc9-4037-8dfb-4dea892ca728"
      },
      "execution_count": 243,
      "outputs": [
        {
          "output_type": "execute_result",
          "data": {
            "text/plain": [
              "'Sun Oct 16 00:00:00 2022'"
            ],
            "application/vnd.google.colaboratory.intrinsic+json": {
              "type": "string"
            }
          },
          "metadata": {},
          "execution_count": 243
        }
      ]
    },
    {
      "cell_type": "code",
      "source": [
        "from datetime import datetime"
      ],
      "metadata": {
        "id": "HK2DUBCz4h7R"
      },
      "execution_count": 244,
      "outputs": []
    },
    {
      "cell_type": "code",
      "source": [
        "dt = datetime(year=2022,month=8, day=12, hour=14, minute=36, second=58)"
      ],
      "metadata": {
        "id": "RDOUvHDq4nx4"
      },
      "execution_count": 245,
      "outputs": []
    },
    {
      "cell_type": "code",
      "source": [
        "dt"
      ],
      "metadata": {
        "colab": {
          "base_uri": "https://localhost:8080/"
        },
        "id": "kcw-uvKk6opo",
        "outputId": "f37ede63-3c5e-4904-9d60-095026dcde70"
      },
      "execution_count": 246,
      "outputs": [
        {
          "output_type": "execute_result",
          "data": {
            "text/plain": [
              "datetime.datetime(2022, 8, 12, 14, 36, 58)"
            ]
          },
          "metadata": {},
          "execution_count": 246
        }
      ]
    },
    {
      "cell_type": "code",
      "source": [
        "print(dt)"
      ],
      "metadata": {
        "colab": {
          "base_uri": "https://localhost:8080/"
        },
        "id": "wCmNtRK76ul5",
        "outputId": "fdec7024-3736-423d-e42d-d193272cd157"
      },
      "execution_count": 247,
      "outputs": [
        {
          "output_type": "stream",
          "name": "stdout",
          "text": [
            "2022-08-12 14:36:58\n"
          ]
        }
      ]
    },
    {
      "cell_type": "code",
      "source": [
        "datetime.time(dt)"
      ],
      "metadata": {
        "colab": {
          "base_uri": "https://localhost:8080/"
        },
        "id": "RSQuJbUi6w-5",
        "outputId": "3f7f2ac6-9d28-4449-9baf-3fbfb5bcd16c"
      },
      "execution_count": 248,
      "outputs": [
        {
          "output_type": "execute_result",
          "data": {
            "text/plain": [
              "datetime.time(14, 36, 58)"
            ]
          },
          "metadata": {},
          "execution_count": 248
        }
      ]
    },
    {
      "cell_type": "code",
      "source": [
        "datetime.date(dt)"
      ],
      "metadata": {
        "colab": {
          "base_uri": "https://localhost:8080/"
        },
        "id": "ESyUN6Ir9P7R",
        "outputId": "a5367230-3e00-411d-e788-5f7611d6d9c0"
      },
      "execution_count": 249,
      "outputs": [
        {
          "output_type": "execute_result",
          "data": {
            "text/plain": [
              "datetime.date(2022, 8, 12)"
            ]
          },
          "metadata": {},
          "execution_count": 249
        }
      ]
    },
    {
      "cell_type": "markdown",
      "source": [
        "## `Math Module`"
      ],
      "metadata": {
        "id": "y8J8WqV097kT"
      }
    },
    {
      "cell_type": "code",
      "source": [
        "import math"
      ],
      "metadata": {
        "id": "zYYBE1WJ94xL"
      },
      "execution_count": 250,
      "outputs": []
    },
    {
      "cell_type": "code",
      "source": [
        "math.pi"
      ],
      "metadata": {
        "colab": {
          "base_uri": "https://localhost:8080/"
        },
        "id": "Vs8OCU8U9_hi",
        "outputId": "efe6a35c-91a2-4c85-841e-4b8a00dab952"
      },
      "execution_count": 251,
      "outputs": [
        {
          "output_type": "execute_result",
          "data": {
            "text/plain": [
              "3.141592653589793"
            ]
          },
          "metadata": {},
          "execution_count": 251
        }
      ]
    },
    {
      "cell_type": "code",
      "source": [
        "math.e"
      ],
      "metadata": {
        "colab": {
          "base_uri": "https://localhost:8080/"
        },
        "id": "PUJ1rZML-AeE",
        "outputId": "1c5c4ea2-1895-4922-dc44-263c700d0c07"
      },
      "execution_count": 252,
      "outputs": [
        {
          "output_type": "execute_result",
          "data": {
            "text/plain": [
              "2.718281828459045"
            ]
          },
          "metadata": {},
          "execution_count": 252
        }
      ]
    },
    {
      "cell_type": "code",
      "source": [
        "math.inf"
      ],
      "metadata": {
        "colab": {
          "base_uri": "https://localhost:8080/"
        },
        "id": "MZH7Thh--B3B",
        "outputId": "6a00b798-909b-4cd9-bb1a-49378fd571a7"
      },
      "execution_count": 253,
      "outputs": [
        {
          "output_type": "execute_result",
          "data": {
            "text/plain": [
              "inf"
            ]
          },
          "metadata": {},
          "execution_count": 253
        }
      ]
    },
    {
      "cell_type": "code",
      "source": [
        "math.nan"
      ],
      "metadata": {
        "colab": {
          "base_uri": "https://localhost:8080/"
        },
        "id": "jk_w39lD-DMS",
        "outputId": "cbcd53d2-9841-44c6-e89e-c42e1d9bb1a9"
      },
      "execution_count": 254,
      "outputs": [
        {
          "output_type": "execute_result",
          "data": {
            "text/plain": [
              "nan"
            ]
          },
          "metadata": {},
          "execution_count": 254
        }
      ]
    },
    {
      "cell_type": "code",
      "source": [
        "math.floor(3.4)"
      ],
      "metadata": {
        "colab": {
          "base_uri": "https://localhost:8080/"
        },
        "id": "8OsaxR9F-EhT",
        "outputId": "cfb95cb5-5b99-4001-dfc6-26cd9ed383db"
      },
      "execution_count": 255,
      "outputs": [
        {
          "output_type": "execute_result",
          "data": {
            "text/plain": [
              "3"
            ]
          },
          "metadata": {},
          "execution_count": 255
        }
      ]
    },
    {
      "cell_type": "code",
      "source": [
        "math.floor(4.8)"
      ],
      "metadata": {
        "colab": {
          "base_uri": "https://localhost:8080/"
        },
        "id": "mioFFKfU-HHk",
        "outputId": "ef7d7a43-4dd2-472f-c4da-860a74a812c7"
      },
      "execution_count": 256,
      "outputs": [
        {
          "output_type": "execute_result",
          "data": {
            "text/plain": [
              "4"
            ]
          },
          "metadata": {},
          "execution_count": 256
        }
      ]
    },
    {
      "cell_type": "code",
      "source": [
        "math.ceil(4.7)"
      ],
      "metadata": {
        "colab": {
          "base_uri": "https://localhost:8080/"
        },
        "id": "C0qMyU8c-QEO",
        "outputId": "fc8df8ac-b002-4950-af4c-24778ce7bd2a"
      },
      "execution_count": 257,
      "outputs": [
        {
          "output_type": "execute_result",
          "data": {
            "text/plain": [
              "5"
            ]
          },
          "metadata": {},
          "execution_count": 257
        }
      ]
    },
    {
      "cell_type": "code",
      "source": [
        "math.ceil(4.3)"
      ],
      "metadata": {
        "colab": {
          "base_uri": "https://localhost:8080/"
        },
        "id": "thuCbsyb-SNc",
        "outputId": "8b149387-420a-4e42-b141-f302b1c5cf2e"
      },
      "execution_count": 258,
      "outputs": [
        {
          "output_type": "execute_result",
          "data": {
            "text/plain": [
              "5"
            ]
          },
          "metadata": {},
          "execution_count": 258
        }
      ]
    },
    {
      "cell_type": "code",
      "source": [
        "math.log(10)"
      ],
      "metadata": {
        "colab": {
          "base_uri": "https://localhost:8080/"
        },
        "id": "ziARQvpF-UTy",
        "outputId": "3fb26a49-32da-47c1-f5e1-ed4a01526326"
      },
      "execution_count": 259,
      "outputs": [
        {
          "output_type": "execute_result",
          "data": {
            "text/plain": [
              "2.302585092994046"
            ]
          },
          "metadata": {},
          "execution_count": 259
        }
      ]
    },
    {
      "cell_type": "code",
      "source": [
        "import random"
      ],
      "metadata": {
        "id": "cbV-V11h-5o6"
      },
      "execution_count": 260,
      "outputs": []
    },
    {
      "cell_type": "code",
      "source": [
        "random.randint(1,10)"
      ],
      "metadata": {
        "colab": {
          "base_uri": "https://localhost:8080/"
        },
        "id": "Mg6gMPy3_H6w",
        "outputId": "053fe68a-515c-4c26-fe0a-99d0822748cd"
      },
      "execution_count": 261,
      "outputs": [
        {
          "output_type": "execute_result",
          "data": {
            "text/plain": [
              "10"
            ]
          },
          "metadata": {},
          "execution_count": 261
        }
      ]
    },
    {
      "cell_type": "code",
      "source": [
        "random.seed(101)\n",
        "random.randint(0,100)"
      ],
      "metadata": {
        "colab": {
          "base_uri": "https://localhost:8080/"
        },
        "id": "7Bq8KZyV_RyC",
        "outputId": "330a9140-58f9-419b-f0d9-a7c8c26cedd5"
      },
      "execution_count": 262,
      "outputs": [
        {
          "output_type": "execute_result",
          "data": {
            "text/plain": [
              "74"
            ]
          },
          "metadata": {},
          "execution_count": 262
        }
      ]
    },
    {
      "cell_type": "code",
      "source": [
        "random.randint(0,100)"
      ],
      "metadata": {
        "colab": {
          "base_uri": "https://localhost:8080/"
        },
        "id": "RYuiY_0p_hXB",
        "outputId": "a014418f-6feb-485a-ce9f-b54d0b80438f"
      },
      "execution_count": 263,
      "outputs": [
        {
          "output_type": "execute_result",
          "data": {
            "text/plain": [
              "24"
            ]
          },
          "metadata": {},
          "execution_count": 263
        }
      ]
    },
    {
      "cell_type": "code",
      "source": [
        "mylist = list(range(16))"
      ],
      "metadata": {
        "id": "fIBC3Jd7_lXg"
      },
      "execution_count": 264,
      "outputs": []
    },
    {
      "cell_type": "code",
      "source": [
        "mylist"
      ],
      "metadata": {
        "colab": {
          "base_uri": "https://localhost:8080/"
        },
        "id": "wmbi9EX2AAXq",
        "outputId": "03c7268d-c65a-4f38-db17-134276b682dc"
      },
      "execution_count": 265,
      "outputs": [
        {
          "output_type": "execute_result",
          "data": {
            "text/plain": [
              "[0, 1, 2, 3, 4, 5, 6, 7, 8, 9, 10, 11, 12, 13, 14, 15]"
            ]
          },
          "metadata": {},
          "execution_count": 265
        }
      ]
    },
    {
      "cell_type": "code",
      "source": [
        "# to choose random ele from list\n",
        "random.choice(mylist)"
      ],
      "metadata": {
        "colab": {
          "base_uri": "https://localhost:8080/"
        },
        "id": "U3qZc2xfABaj",
        "outputId": "5a487312-e0ca-4fe7-d85d-8ac3d4db566a"
      },
      "execution_count": 266,
      "outputs": [
        {
          "output_type": "execute_result",
          "data": {
            "text/plain": [
              "11"
            ]
          },
          "metadata": {},
          "execution_count": 266
        }
      ]
    },
    {
      "cell_type": "code",
      "source": [
        "random.choices(population=mylist, k=8)"
      ],
      "metadata": {
        "colab": {
          "base_uri": "https://localhost:8080/"
        },
        "id": "tAWHhYCLAI7E",
        "outputId": "c1d6c3d1-484a-41a4-c153-07169b144009"
      },
      "execution_count": 267,
      "outputs": [
        {
          "output_type": "execute_result",
          "data": {
            "text/plain": [
              "[7, 10, 3, 3, 4, 11, 3, 15]"
            ]
          },
          "metadata": {},
          "execution_count": 267
        }
      ]
    },
    {
      "cell_type": "code",
      "source": [
        "random.sample(population=mylist,k=8)"
      ],
      "metadata": {
        "colab": {
          "base_uri": "https://localhost:8080/"
        },
        "id": "Hh4UG_HeA0Cm",
        "outputId": "8ccc4544-5edb-4e06-f3df-5f5054bb7456"
      },
      "execution_count": 268,
      "outputs": [
        {
          "output_type": "execute_result",
          "data": {
            "text/plain": [
              "[2, 4, 3, 15, 1, 7, 8, 5]"
            ]
          },
          "metadata": {},
          "execution_count": 268
        }
      ]
    },
    {
      "cell_type": "code",
      "source": [
        "random.shuffle(mylist)"
      ],
      "metadata": {
        "id": "9jHSbr1wA9GX"
      },
      "execution_count": 269,
      "outputs": []
    },
    {
      "cell_type": "code",
      "source": [
        "mylist"
      ],
      "metadata": {
        "colab": {
          "base_uri": "https://localhost:8080/"
        },
        "id": "PRQtPPVeBE5N",
        "outputId": "738d81a1-8ca2-40d6-cd5f-c9803f7be06e"
      },
      "execution_count": 270,
      "outputs": [
        {
          "output_type": "execute_result",
          "data": {
            "text/plain": [
              "[1, 4, 8, 2, 13, 14, 0, 11, 9, 15, 10, 3, 5, 12, 7, 6]"
            ]
          },
          "metadata": {},
          "execution_count": 270
        }
      ]
    },
    {
      "cell_type": "code",
      "source": [
        "random.guess(mylist)"
      ],
      "metadata": {
        "colab": {
          "base_uri": "https://localhost:8080/",
          "height": 164
        },
        "id": "zqrXq_zABJkd",
        "outputId": "281888ad-a9b5-41fb-9e0a-4d86b2d52936"
      },
      "execution_count": 272,
      "outputs": [
        {
          "output_type": "error",
          "ename": "AttributeError",
          "evalue": "ignored",
          "traceback": [
            "\u001b[0;31m---------------------------------------------------------------------------\u001b[0m",
            "\u001b[0;31mAttributeError\u001b[0m                            Traceback (most recent call last)",
            "\u001b[0;32m<ipython-input-272-13ac45f09535>\u001b[0m in \u001b[0;36m<module>\u001b[0;34m\u001b[0m\n\u001b[0;32m----> 1\u001b[0;31m \u001b[0mrandom\u001b[0m\u001b[0;34m.\u001b[0m\u001b[0mguess\u001b[0m\u001b[0;34m(\u001b[0m\u001b[0mmylist\u001b[0m\u001b[0;34m)\u001b[0m\u001b[0;34m\u001b[0m\u001b[0;34m\u001b[0m\u001b[0m\n\u001b[0m",
            "\u001b[0;31mAttributeError\u001b[0m: module 'random' has no attribute 'guess'"
          ]
        }
      ]
    },
    {
      "cell_type": "markdown",
      "source": [
        "## `Python Debugger`"
      ],
      "metadata": {
        "id": "ehxGhM7MEPE7"
      }
    },
    {
      "cell_type": "code",
      "source": [
        "import pdb"
      ],
      "metadata": {
        "id": "4TszgfOQBQgD"
      },
      "execution_count": 273,
      "outputs": []
    },
    {
      "cell_type": "code",
      "source": [
        "x = [1,2,4]\n",
        "y = 5,\n",
        "z = 8\n",
        "\n",
        "pdb.set_trace()\n",
        "res_one = x+y\n",
        "res_two = z+y"
      ],
      "metadata": {
        "colab": {
          "base_uri": "https://localhost:8080/",
          "height": 449
        },
        "id": "-uFPpxZBETey",
        "outputId": "c54cdcbc-d4cd-4107-89ed-6ef83007a116"
      },
      "execution_count": 274,
      "outputs": [
        {
          "name": "stdout",
          "output_type": "stream",
          "text": [
            "--Return--\n",
            "> <ipython-input-274-8afc4add12c5>(5)<module>()->None\n",
            "-> pdb.set_trace()\n",
            "(Pdb) q\n"
          ]
        },
        {
          "output_type": "error",
          "ename": "BdbQuit",
          "evalue": "ignored",
          "traceback": [
            "\u001b[0;31m---------------------------------------------------------------------------\u001b[0m",
            "\u001b[0;31mBdbQuit\u001b[0m                                   Traceback (most recent call last)",
            "\u001b[0;32m<ipython-input-274-8afc4add12c5>\u001b[0m in \u001b[0;36m<module>\u001b[0;34m\u001b[0m\n\u001b[1;32m      3\u001b[0m \u001b[0mz\u001b[0m \u001b[0;34m=\u001b[0m \u001b[0;36m8\u001b[0m\u001b[0;34m\u001b[0m\u001b[0;34m\u001b[0m\u001b[0m\n\u001b[1;32m      4\u001b[0m \u001b[0;34m\u001b[0m\u001b[0m\n\u001b[0;32m----> 5\u001b[0;31m \u001b[0mpdb\u001b[0m\u001b[0;34m.\u001b[0m\u001b[0mset_trace\u001b[0m\u001b[0;34m(\u001b[0m\u001b[0;34m)\u001b[0m\u001b[0;34m\u001b[0m\u001b[0;34m\u001b[0m\u001b[0m\n\u001b[0m\u001b[1;32m      6\u001b[0m \u001b[0mres_one\u001b[0m \u001b[0;34m=\u001b[0m \u001b[0mx\u001b[0m\u001b[0;34m+\u001b[0m\u001b[0my\u001b[0m\u001b[0;34m\u001b[0m\u001b[0;34m\u001b[0m\u001b[0m\n\u001b[1;32m      7\u001b[0m \u001b[0mres_two\u001b[0m \u001b[0;34m=\u001b[0m \u001b[0mz\u001b[0m\u001b[0;34m+\u001b[0m\u001b[0my\u001b[0m\u001b[0;34m\u001b[0m\u001b[0;34m\u001b[0m\u001b[0m\n",
            "\u001b[0;32m/usr/lib/python3.7/bdb.py\u001b[0m in \u001b[0;36mtrace_dispatch\u001b[0;34m(self, frame, event, arg)\u001b[0m\n\u001b[1;32m     90\u001b[0m             \u001b[0;32mreturn\u001b[0m \u001b[0mself\u001b[0m\u001b[0;34m.\u001b[0m\u001b[0mdispatch_call\u001b[0m\u001b[0;34m(\u001b[0m\u001b[0mframe\u001b[0m\u001b[0;34m,\u001b[0m \u001b[0marg\u001b[0m\u001b[0;34m)\u001b[0m\u001b[0;34m\u001b[0m\u001b[0;34m\u001b[0m\u001b[0m\n\u001b[1;32m     91\u001b[0m         \u001b[0;32mif\u001b[0m \u001b[0mevent\u001b[0m \u001b[0;34m==\u001b[0m \u001b[0;34m'return'\u001b[0m\u001b[0;34m:\u001b[0m\u001b[0;34m\u001b[0m\u001b[0;34m\u001b[0m\u001b[0m\n\u001b[0;32m---> 92\u001b[0;31m             \u001b[0;32mreturn\u001b[0m \u001b[0mself\u001b[0m\u001b[0;34m.\u001b[0m\u001b[0mdispatch_return\u001b[0m\u001b[0;34m(\u001b[0m\u001b[0mframe\u001b[0m\u001b[0;34m,\u001b[0m \u001b[0marg\u001b[0m\u001b[0;34m)\u001b[0m\u001b[0;34m\u001b[0m\u001b[0;34m\u001b[0m\u001b[0m\n\u001b[0m\u001b[1;32m     93\u001b[0m         \u001b[0;32mif\u001b[0m \u001b[0mevent\u001b[0m \u001b[0;34m==\u001b[0m \u001b[0;34m'exception'\u001b[0m\u001b[0;34m:\u001b[0m\u001b[0;34m\u001b[0m\u001b[0;34m\u001b[0m\u001b[0m\n\u001b[1;32m     94\u001b[0m             \u001b[0;32mreturn\u001b[0m \u001b[0mself\u001b[0m\u001b[0;34m.\u001b[0m\u001b[0mdispatch_exception\u001b[0m\u001b[0;34m(\u001b[0m\u001b[0mframe\u001b[0m\u001b[0;34m,\u001b[0m \u001b[0marg\u001b[0m\u001b[0;34m)\u001b[0m\u001b[0;34m\u001b[0m\u001b[0;34m\u001b[0m\u001b[0m\n",
            "\u001b[0;32m/usr/lib/python3.7/bdb.py\u001b[0m in \u001b[0;36mdispatch_return\u001b[0;34m(self, frame, arg)\u001b[0m\n\u001b[1;32m    152\u001b[0m             \u001b[0;32mfinally\u001b[0m\u001b[0;34m:\u001b[0m\u001b[0;34m\u001b[0m\u001b[0;34m\u001b[0m\u001b[0m\n\u001b[1;32m    153\u001b[0m                 \u001b[0mself\u001b[0m\u001b[0;34m.\u001b[0m\u001b[0mframe_returning\u001b[0m \u001b[0;34m=\u001b[0m \u001b[0;32mNone\u001b[0m\u001b[0;34m\u001b[0m\u001b[0;34m\u001b[0m\u001b[0m\n\u001b[0;32m--> 154\u001b[0;31m             \u001b[0;32mif\u001b[0m \u001b[0mself\u001b[0m\u001b[0;34m.\u001b[0m\u001b[0mquitting\u001b[0m\u001b[0;34m:\u001b[0m \u001b[0;32mraise\u001b[0m \u001b[0mBdbQuit\u001b[0m\u001b[0;34m\u001b[0m\u001b[0;34m\u001b[0m\u001b[0m\n\u001b[0m\u001b[1;32m    155\u001b[0m             \u001b[0;31m# The user issued a 'next' or 'until' command.\u001b[0m\u001b[0;34m\u001b[0m\u001b[0;34m\u001b[0m\u001b[0;34m\u001b[0m\u001b[0m\n\u001b[1;32m    156\u001b[0m             \u001b[0;32mif\u001b[0m \u001b[0mself\u001b[0m\u001b[0;34m.\u001b[0m\u001b[0mstopframe\u001b[0m \u001b[0;32mis\u001b[0m \u001b[0mframe\u001b[0m \u001b[0;32mand\u001b[0m \u001b[0mself\u001b[0m\u001b[0;34m.\u001b[0m\u001b[0mstoplineno\u001b[0m \u001b[0;34m!=\u001b[0m \u001b[0;34m-\u001b[0m\u001b[0;36m1\u001b[0m\u001b[0;34m:\u001b[0m\u001b[0;34m\u001b[0m\u001b[0;34m\u001b[0m\u001b[0m\n",
            "\u001b[0;31mBdbQuit\u001b[0m: "
          ]
        }
      ]
    },
    {
      "cell_type": "markdown",
      "source": [
        "## `Regular Expression`"
      ],
      "metadata": {
        "id": "lHH7wzABE8Bi"
      }
    },
    {
      "cell_type": "code",
      "source": [
        "import re"
      ],
      "metadata": {
        "id": "fkXdxS2PEZjl"
      },
      "execution_count": 275,
      "outputs": []
    },
    {
      "cell_type": "code",
      "source": [
        "sen = 'Here is the phone to phone somene'"
      ],
      "metadata": {
        "id": "p3RAWnsaFD4K"
      },
      "execution_count": 276,
      "outputs": []
    },
    {
      "cell_type": "code",
      "source": [
        "'phone' in sen"
      ],
      "metadata": {
        "colab": {
          "base_uri": "https://localhost:8080/"
        },
        "id": "81qWA2E-FKwo",
        "outputId": "8ad82234-c8a0-4bb0-ecc1-0ca57dacd839"
      },
      "execution_count": 277,
      "outputs": [
        {
          "output_type": "execute_result",
          "data": {
            "text/plain": [
              "True"
            ]
          },
          "metadata": {},
          "execution_count": 277
        }
      ]
    },
    {
      "cell_type": "code",
      "source": [
        "# sam think we can do using re\n",
        "pattern = 'phone' # pattern to search"
      ],
      "metadata": {
        "id": "DfFsOtlXFNjy"
      },
      "execution_count": 278,
      "outputs": []
    },
    {
      "cell_type": "code",
      "source": [
        "re.search(pattern=pattern, string=sen)"
      ],
      "metadata": {
        "colab": {
          "base_uri": "https://localhost:8080/"
        },
        "id": "bKIKVFDQFdq1",
        "outputId": "4ff6660f-13a8-47e2-cc2e-3ae3fc389014"
      },
      "execution_count": 279,
      "outputs": [
        {
          "output_type": "execute_result",
          "data": {
            "text/plain": [
              "<re.Match object; span=(12, 17), match='phone'>"
            ]
          },
          "metadata": {},
          "execution_count": 279
        }
      ]
    },
    {
      "cell_type": "code",
      "source": [
        "match = re.search(pattern=pattern, string=sen)"
      ],
      "metadata": {
        "id": "uicv4xYoF21u"
      },
      "execution_count": 280,
      "outputs": []
    },
    {
      "cell_type": "code",
      "source": [
        "match.span()"
      ],
      "metadata": {
        "colab": {
          "base_uri": "https://localhost:8080/"
        },
        "id": "RpHVpbPAGAPr",
        "outputId": "98e33dc2-5fe9-4cb5-acaf-e751c42f3744"
      },
      "execution_count": 281,
      "outputs": [
        {
          "output_type": "execute_result",
          "data": {
            "text/plain": [
              "(12, 17)"
            ]
          },
          "metadata": {},
          "execution_count": 281
        }
      ]
    },
    {
      "cell_type": "code",
      "source": [
        "re.findall(pattern=pattern, string=sen)"
      ],
      "metadata": {
        "colab": {
          "base_uri": "https://localhost:8080/"
        },
        "id": "EHxmNHfoGBQK",
        "outputId": "8f55ad3d-850d-4449-dd06-6eb5de9d8645"
      },
      "execution_count": 282,
      "outputs": [
        {
          "output_type": "execute_result",
          "data": {
            "text/plain": [
              "['phone', 'phone']"
            ]
          },
          "metadata": {},
          "execution_count": 282
        }
      ]
    },
    {
      "cell_type": "code",
      "source": [
        "matches = re.findall(pattern=pattern, string=sen)"
      ],
      "metadata": {
        "id": "Xt25nzfFHeTH"
      },
      "execution_count": 283,
      "outputs": []
    },
    {
      "cell_type": "code",
      "source": [
        "matches"
      ],
      "metadata": {
        "colab": {
          "base_uri": "https://localhost:8080/"
        },
        "id": "rEM8E2RnHuoI",
        "outputId": "aa7bdc82-dfbc-4ed6-c675-22aa663fbff6"
      },
      "execution_count": 284,
      "outputs": [
        {
          "output_type": "execute_result",
          "data": {
            "text/plain": [
              "['phone', 'phone']"
            ]
          },
          "metadata": {},
          "execution_count": 284
        }
      ]
    },
    {
      "cell_type": "code",
      "source": [
        "len(matches)"
      ],
      "metadata": {
        "colab": {
          "base_uri": "https://localhost:8080/"
        },
        "id": "nuPBR8pVHvi6",
        "outputId": "5e9ab849-e4cf-4e70-dfc1-d29cf1627478"
      },
      "execution_count": 285,
      "outputs": [
        {
          "output_type": "execute_result",
          "data": {
            "text/plain": [
              "2"
            ]
          },
          "metadata": {},
          "execution_count": 285
        }
      ]
    },
    {
      "cell_type": "code",
      "source": [
        "for match in re.finditer(pattern='phone', string=sen):\n",
        "  print(match)"
      ],
      "metadata": {
        "colab": {
          "base_uri": "https://localhost:8080/"
        },
        "id": "256XY_qDHxvY",
        "outputId": "975f6614-ed59-4df4-db67-926abb67e9cd"
      },
      "execution_count": 286,
      "outputs": [
        {
          "output_type": "stream",
          "name": "stdout",
          "text": [
            "<re.Match object; span=(12, 17), match='phone'>\n",
            "<re.Match object; span=(21, 26), match='phone'>\n"
          ]
        }
      ]
    },
    {
      "cell_type": "code",
      "source": [
        "for match in re.finditer(pattern='phone', string=sen):\n",
        "  print(match.span())"
      ],
      "metadata": {
        "colab": {
          "base_uri": "https://localhost:8080/"
        },
        "id": "vZPE70IHH9fW",
        "outputId": "3d2d48ba-30aa-40f6-a321-863a166b3777"
      },
      "execution_count": 287,
      "outputs": [
        {
          "output_type": "stream",
          "name": "stdout",
          "text": [
            "(12, 17)\n",
            "(21, 26)\n"
          ]
        }
      ]
    },
    {
      "cell_type": "code",
      "source": [
        "sen = 'Here is the phone +91-997464536 to phone somene'"
      ],
      "metadata": {
        "id": "weDlXsDfIAlS"
      },
      "execution_count": 288,
      "outputs": []
    },
    {
      "cell_type": "code",
      "source": [
        "re.search(pattern=r'\\+\\d\\d-\\d\\d\\d\\d\\d\\d\\d\\d\\d', string=sen)"
      ],
      "metadata": {
        "colab": {
          "base_uri": "https://localhost:8080/"
        },
        "id": "zaUjct0UJFAa",
        "outputId": "903ff204-d401-4482-d222-3cf917348803"
      },
      "execution_count": 289,
      "outputs": [
        {
          "output_type": "execute_result",
          "data": {
            "text/plain": [
              "<re.Match object; span=(18, 31), match='+91-997464536'>"
            ]
          },
          "metadata": {},
          "execution_count": 289
        }
      ]
    },
    {
      "cell_type": "markdown",
      "source": [
        "### `Quantifiers`\n",
        "- `+ Occurs one or more times`\n",
        "- `{3} Occurs exactly 3 times`\n",
        "- `{2,4} Occurs 2 or 4 times`\n",
        "- `{3,} Occurs 3 or more`\n",
        "- `* Occurs zero or more times`\n",
        "- `? Once or none` "
      ],
      "metadata": {
        "id": "Ud3RxWrZJnqt"
      }
    },
    {
      "cell_type": "code",
      "source": [
        "re.search(pattern=r'\\+\\d{2}-\\d{9}', string=sen)"
      ],
      "metadata": {
        "colab": {
          "base_uri": "https://localhost:8080/"
        },
        "id": "ebYgxfoUJVS1",
        "outputId": "6797926b-d4c0-414f-c592-e1ea921d060c"
      },
      "execution_count": 290,
      "outputs": [
        {
          "output_type": "execute_result",
          "data": {
            "text/plain": [
              "<re.Match object; span=(18, 31), match='+91-997464536'>"
            ]
          },
          "metadata": {},
          "execution_count": 290
        }
      ]
    },
    {
      "cell_type": "code",
      "source": [
        "re.search(pattern=r'\\+\\d+-\\d+', string=sen)"
      ],
      "metadata": {
        "colab": {
          "base_uri": "https://localhost:8080/"
        },
        "id": "8Gp9DCa7KkdN",
        "outputId": "6840fd31-8b48-4065-e37f-98b0fbe1d428"
      },
      "execution_count": 291,
      "outputs": [
        {
          "output_type": "execute_result",
          "data": {
            "text/plain": [
              "<re.Match object; span=(18, 31), match='+91-997464536'>"
            ]
          },
          "metadata": {},
          "execution_count": 291
        }
      ]
    },
    {
      "cell_type": "code",
      "source": [
        "# There is another way to search pattern which is more robust and have additional feature\n",
        "pattern = re.compile(pattern=r'(\\+\\d{2})-(\\d{9})')"
      ],
      "metadata": {
        "id": "3UVO6LdTK7ZU"
      },
      "execution_count": 293,
      "outputs": []
    },
    {
      "cell_type": "code",
      "source": [
        "pattern"
      ],
      "metadata": {
        "colab": {
          "base_uri": "https://localhost:8080/"
        },
        "id": "nS3xovzHm9Hn",
        "outputId": "79402586-7e25-4c8a-f703-0ff0f299aba2"
      },
      "execution_count": 294,
      "outputs": [
        {
          "output_type": "execute_result",
          "data": {
            "text/plain": [
              "re.compile(r'(\\+\\d{2})-(\\d{9})', re.UNICODE)"
            ]
          },
          "metadata": {},
          "execution_count": 294
        }
      ]
    },
    {
      "cell_type": "code",
      "source": [
        "match = re.search(pattern=pattern, string=sen)"
      ],
      "metadata": {
        "id": "7WB9znAJm-p7"
      },
      "execution_count": 296,
      "outputs": []
    },
    {
      "cell_type": "code",
      "source": [
        "match.group()"
      ],
      "metadata": {
        "colab": {
          "base_uri": "https://localhost:8080/",
          "height": 35
        },
        "id": "af_godhSnPOf",
        "outputId": "3a10d5e4-13ca-4c25-b388-78cfc60b90d8"
      },
      "execution_count": 297,
      "outputs": [
        {
          "output_type": "execute_result",
          "data": {
            "text/plain": [
              "'+91-997464536'"
            ],
            "application/vnd.google.colaboratory.intrinsic+json": {
              "type": "string"
            }
          },
          "metadata": {},
          "execution_count": 297
        }
      ]
    },
    {
      "cell_type": "code",
      "source": [
        "match.group(1)"
      ],
      "metadata": {
        "colab": {
          "base_uri": "https://localhost:8080/",
          "height": 35
        },
        "id": "zn9YSLxGnU98",
        "outputId": "f7029426-4e8d-4c74-c7f1-6e450e8f7be5"
      },
      "execution_count": 298,
      "outputs": [
        {
          "output_type": "execute_result",
          "data": {
            "text/plain": [
              "'+91'"
            ],
            "application/vnd.google.colaboratory.intrinsic+json": {
              "type": "string"
            }
          },
          "metadata": {},
          "execution_count": 298
        }
      ]
    },
    {
      "cell_type": "code",
      "source": [
        "match.group(2)"
      ],
      "metadata": {
        "colab": {
          "base_uri": "https://localhost:8080/",
          "height": 35
        },
        "id": "mQ0Aj1QGnZl3",
        "outputId": "61236ff6-0245-4022-ead4-ad5a6b55e090"
      },
      "execution_count": 299,
      "outputs": [
        {
          "output_type": "execute_result",
          "data": {
            "text/plain": [
              "'997464536'"
            ],
            "application/vnd.google.colaboratory.intrinsic+json": {
              "type": "string"
            }
          },
          "metadata": {},
          "execution_count": 299
        }
      ]
    },
    {
      "cell_type": "code",
      "source": [
        "# Sometime we need to search for multiple values in same expression\n",
        "# we can use or operator\n",
        "re.search(r'Hare|Hari', string='Hare Krishna, Prabhuji')"
      ],
      "metadata": {
        "colab": {
          "base_uri": "https://localhost:8080/"
        },
        "id": "3zI1YaVcnbYp",
        "outputId": "489c7ff1-58b8-42f3-c705-b054c8c78ded"
      },
      "execution_count": 301,
      "outputs": [
        {
          "output_type": "execute_result",
          "data": {
            "text/plain": [
              "<re.Match object; span=(0, 4), match='Hare'>"
            ]
          },
          "metadata": {},
          "execution_count": 301
        }
      ]
    },
    {
      "cell_type": "code",
      "source": [
        "re.search(r'Hare|Hari', string='Hari Hari, Prabhuji')"
      ],
      "metadata": {
        "colab": {
          "base_uri": "https://localhost:8080/"
        },
        "id": "wcrttaffs7i0",
        "outputId": "1ff3da3f-14df-47c1-c8e5-edd3f46d0016"
      },
      "execution_count": 302,
      "outputs": [
        {
          "output_type": "execute_result",
          "data": {
            "text/plain": [
              "<re.Match object; span=(0, 4), match='Hari'>"
            ]
          },
          "metadata": {},
          "execution_count": 302
        }
      ]
    },
    {
      "cell_type": "code",
      "source": [
        "re.findall(r'at', 'I sat on a wall to listen katha held at temple')"
      ],
      "metadata": {
        "colab": {
          "base_uri": "https://localhost:8080/"
        },
        "id": "gIUVMU22tFNu",
        "outputId": "e453b46a-2e9d-466b-cdaf-3fb3101848d5"
      },
      "execution_count": 303,
      "outputs": [
        {
          "output_type": "execute_result",
          "data": {
            "text/plain": [
              "['at', 'at', 'at']"
            ]
          },
          "metadata": {},
          "execution_count": 303
        }
      ]
    },
    {
      "cell_type": "code",
      "source": [
        "# to find at having 1 letters before\n",
        "re.findall(r'.at', 'I sat on a wall to listen katha held at temple')"
      ],
      "metadata": {
        "colab": {
          "base_uri": "https://localhost:8080/"
        },
        "id": "ihRb9zDbtlwK",
        "outputId": "cd493f4b-4d9f-4e89-fd30-a2bcea016419"
      },
      "execution_count": 304,
      "outputs": [
        {
          "output_type": "execute_result",
          "data": {
            "text/plain": [
              "['sat', 'kat', ' at']"
            ]
          },
          "metadata": {},
          "execution_count": 304
        }
      ]
    },
    {
      "cell_type": "code",
      "source": [
        "# start with \n",
        "re.findall(r'^\\d', string='16 rounds of japa is compulsory')"
      ],
      "metadata": {
        "colab": {
          "base_uri": "https://localhost:8080/"
        },
        "id": "tXN_z-1itxlI",
        "outputId": "80f3f2c0-f8bb-4693-b12c-5d761b77fdb8"
      },
      "execution_count": 305,
      "outputs": [
        {
          "output_type": "execute_result",
          "data": {
            "text/plain": [
              "['1']"
            ]
          },
          "metadata": {},
          "execution_count": 305
        }
      ]
    },
    {
      "cell_type": "code",
      "source": [
        "#ends with\n",
        "re.findall(r'\\d$', string='16 rounds of japa is compulsory')"
      ],
      "metadata": {
        "colab": {
          "base_uri": "https://localhost:8080/"
        },
        "id": "edvfPXJtuGPv",
        "outputId": "107151f7-6c73-4219-cfe9-9ec0f2475d90"
      },
      "execution_count": 306,
      "outputs": [
        {
          "output_type": "execute_result",
          "data": {
            "text/plain": [
              "[]"
            ]
          },
          "metadata": {},
          "execution_count": 306
        }
      ]
    },
    {
      "cell_type": "code",
      "source": [
        "re.findall(r'\\d$', string='The daily rounds of japa is 16')"
      ],
      "metadata": {
        "colab": {
          "base_uri": "https://localhost:8080/"
        },
        "id": "RpbI9hRuuSnc",
        "outputId": "d0392640-39c4-464f-e1d6-858c7a4cd734"
      },
      "execution_count": 307,
      "outputs": [
        {
          "output_type": "execute_result",
          "data": {
            "text/plain": [
              "['6']"
            ]
          },
          "metadata": {},
          "execution_count": 307
        }
      ]
    },
    {
      "cell_type": "code",
      "source": [
        "# exclude\n",
        "# to exclude we have to [^]\n",
        "phrase = 'There are 16 rounds to chant but its always good to complete atleast 8 daily'"
      ],
      "metadata": {
        "id": "mYiEHQ3WuXtM"
      },
      "execution_count": 308,
      "outputs": []
    },
    {
      "cell_type": "code",
      "source": [
        "# lets create a pattern to exclude digits\n",
        "pattern_exclude_digit = r'[^\\d]'"
      ],
      "metadata": {
        "id": "xIW-fd6nvn7B"
      },
      "execution_count": 313,
      "outputs": []
    },
    {
      "cell_type": "code",
      "source": [
        "re.search(pattern=pattern_exclude_digit, string=phrase)"
      ],
      "metadata": {
        "colab": {
          "base_uri": "https://localhost:8080/"
        },
        "id": "6hG_zPhlv1FE",
        "outputId": "794fc9ae-19b0-4a42-bdf7-bb11a4a80068"
      },
      "execution_count": 314,
      "outputs": [
        {
          "output_type": "execute_result",
          "data": {
            "text/plain": [
              "<re.Match object; span=(0, 1), match='T'>"
            ]
          },
          "metadata": {},
          "execution_count": 314
        }
      ]
    },
    {
      "cell_type": "code",
      "source": [
        "re.findall(pattern=pattern_exclude_digit, string=phrase)"
      ],
      "metadata": {
        "id": "hsbLAPmFv9lO"
      },
      "execution_count": null,
      "outputs": []
    },
    {
      "cell_type": "code",
      "source": [
        "pattern_exclude_digit = r'[^\\d]+'"
      ],
      "metadata": {
        "id": "HmDELgae_okM"
      },
      "execution_count": 317,
      "outputs": []
    },
    {
      "cell_type": "code",
      "source": [
        "re.search(pattern=pattern_exclude_digit, string=phrase)"
      ],
      "metadata": {
        "colab": {
          "base_uri": "https://localhost:8080/"
        },
        "id": "WjN6fsqz_imi",
        "outputId": "cd948532-7317-4df5-bcf9-eca9cc209b65"
      },
      "execution_count": 319,
      "outputs": [
        {
          "output_type": "execute_result",
          "data": {
            "text/plain": [
              "<re.Match object; span=(0, 10), match='There are '>"
            ]
          },
          "metadata": {},
          "execution_count": 319
        }
      ]
    },
    {
      "cell_type": "code",
      "source": [
        "re.findall(pattern=pattern_exclude_digit, string=phrase)"
      ],
      "metadata": {
        "colab": {
          "base_uri": "https://localhost:8080/"
        },
        "id": "TwNPCGha_3J1",
        "outputId": "f5eb2fb7-4764-434f-d6a0-827faa319b8d"
      },
      "execution_count": 321,
      "outputs": [
        {
          "output_type": "execute_result",
          "data": {
            "text/plain": [
              "['There are ',\n",
              " ' rounds to chant but its always good to complete atleast ',\n",
              " ' daily']"
            ]
          },
          "metadata": {},
          "execution_count": 321
        }
      ]
    },
    {
      "cell_type": "code",
      "source": [
        "phrase = 'Hari bol!! We have 16 rounds to chant. I\\'ve completd 8 daily'"
      ],
      "metadata": {
        "id": "N3jbOteM_-bg"
      },
      "execution_count": 322,
      "outputs": []
    },
    {
      "cell_type": "code",
      "source": [
        "pattern_to_exclude = r'[^!.\\']+'"
      ],
      "metadata": {
        "id": "5wTZ-1V7AVAj"
      },
      "execution_count": 325,
      "outputs": []
    },
    {
      "cell_type": "code",
      "source": [
        "re.findall(pattern=pattern_to_exclude, string=phrase)"
      ],
      "metadata": {
        "colab": {
          "base_uri": "https://localhost:8080/"
        },
        "id": "Ie0loPBnAdQx",
        "outputId": "e8f0a25f-2c8c-4f4a-9341-6c2a7d9d5c5b"
      },
      "execution_count": 326,
      "outputs": [
        {
          "output_type": "execute_result",
          "data": {
            "text/plain": [
              "['Hari bol', ' We have 16 rounds to chant', ' I', 've completd 8 daily']"
            ]
          },
          "metadata": {},
          "execution_count": 326
        }
      ]
    },
    {
      "cell_type": "code",
      "source": [
        "''.join(re.findall(pattern=pattern_to_exclude, string=phrase))"
      ],
      "metadata": {
        "colab": {
          "base_uri": "https://localhost:8080/",
          "height": 35
        },
        "id": "t92gvSxcAjwH",
        "outputId": "2f9b43e3-d78e-4f57-9818-4bc6fb353b7b"
      },
      "execution_count": 327,
      "outputs": [
        {
          "output_type": "execute_result",
          "data": {
            "text/plain": [
              "'Hari bol We have 16 rounds to chant Ive completd 8 daily'"
            ],
            "application/vnd.google.colaboratory.intrinsic+json": {
              "type": "string"
            }
          },
          "metadata": {},
          "execution_count": 327
        }
      ]
    },
    {
      "cell_type": "code",
      "source": [
        "phrase = 'We are like-minded person since we have joined well-maintained society'"
      ],
      "metadata": {
        "id": "5fVAwVVaBlLV"
      },
      "execution_count": 330,
      "outputs": []
    },
    {
      "cell_type": "code",
      "source": [
        "# search for words\n",
        "word_pattern = r'\\w+' # alphanumeric"
      ],
      "metadata": {
        "id": "dPcQFFaHA6a7"
      },
      "execution_count": 331,
      "outputs": []
    },
    {
      "cell_type": "code",
      "source": [
        "re.search(pattern=word_pattern, string=phrase)"
      ],
      "metadata": {
        "colab": {
          "base_uri": "https://localhost:8080/"
        },
        "id": "dQjs3-pJBY_Z",
        "outputId": "c05a5362-3def-4c7a-abbe-89d99fa27fbf"
      },
      "execution_count": 332,
      "outputs": [
        {
          "output_type": "execute_result",
          "data": {
            "text/plain": [
              "<re.Match object; span=(0, 2), match='We'>"
            ]
          },
          "metadata": {},
          "execution_count": 332
        }
      ]
    },
    {
      "cell_type": "code",
      "source": [
        "re.findall(pattern=pattern_to_exclude, string=phrase)"
      ],
      "metadata": {
        "colab": {
          "base_uri": "https://localhost:8080/"
        },
        "id": "fsCLyhsqBgKz",
        "outputId": "89a0900c-b0fb-4d22-beb9-20c0ae092280"
      },
      "execution_count": 333,
      "outputs": [
        {
          "output_type": "execute_result",
          "data": {
            "text/plain": [
              "['We are like-minded person since we have joined well-maintained society']"
            ]
          },
          "metadata": {},
          "execution_count": 333
        }
      ]
    },
    {
      "cell_type": "code",
      "source": [
        "pattern = r'\\w+-\\w+'"
      ],
      "metadata": {
        "id": "u6gPn4efB2oM"
      },
      "execution_count": 334,
      "outputs": []
    },
    {
      "cell_type": "code",
      "source": [
        "re.findall(pattern=pattern, string=phrase)"
      ],
      "metadata": {
        "colab": {
          "base_uri": "https://localhost:8080/"
        },
        "id": "5fHqhpL4CAjJ",
        "outputId": "7577ea6b-fb8f-4eb0-8a4d-bdc25ca80277"
      },
      "execution_count": 335,
      "outputs": [
        {
          "output_type": "execute_result",
          "data": {
            "text/plain": [
              "['like-minded', 'well-maintained']"
            ]
          },
          "metadata": {},
          "execution_count": 335
        }
      ]
    },
    {
      "cell_type": "code",
      "source": [
        "pattern = r'[\\w]+-[\\w]+'"
      ],
      "metadata": {
        "id": "RXXCJlpFCFIu"
      },
      "execution_count": 336,
      "outputs": []
    },
    {
      "cell_type": "code",
      "source": [
        "re.findall(pattern=pattern, string=phrase)"
      ],
      "metadata": {
        "colab": {
          "base_uri": "https://localhost:8080/"
        },
        "id": "P_SfaCSWCK7D",
        "outputId": "d7bfc1c7-b7c1-4aa1-f069-e4dc3284de36"
      },
      "execution_count": 337,
      "outputs": [
        {
          "output_type": "execute_result",
          "data": {
            "text/plain": [
              "['like-minded', 'well-maintained']"
            ]
          },
          "metadata": {},
          "execution_count": 337
        }
      ]
    },
    {
      "cell_type": "code",
      "source": [
        "pattern = r'[^[[\\w]+-[\\w]+]]'"
      ],
      "metadata": {
        "id": "mZJAM-NSCMU9"
      },
      "execution_count": 356,
      "outputs": []
    },
    {
      "cell_type": "code",
      "source": [
        "re.findall(pattern=pattern, string=phrase)"
      ],
      "metadata": {
        "colab": {
          "base_uri": "https://localhost:8080/"
        },
        "id": "SZjVpcOnCUG2",
        "outputId": "a136649b-7bc6-438a-930f-c7c8fd8be6b3"
      },
      "execution_count": 357,
      "outputs": [
        {
          "output_type": "execute_result",
          "data": {
            "text/plain": [
              "[]"
            ]
          },
          "metadata": {},
          "execution_count": 357
        }
      ]
    },
    {
      "cell_type": "code",
      "source": [
        "text = 'Its a holy granth srimad-bhagvadgita'\n",
        "text_two = 'Its a greatest granth of all srimad-bhagvatam'"
      ],
      "metadata": {
        "id": "_uwYXytaCaQp"
      },
      "execution_count": 380,
      "outputs": []
    },
    {
      "cell_type": "code",
      "source": [
        "pattern = r'srimad-(bhagvadgita|bhagvatam)'"
      ],
      "metadata": {
        "id": "_aaO39_eEc19"
      },
      "execution_count": 381,
      "outputs": []
    },
    {
      "cell_type": "code",
      "source": [
        "re.search(pattern=pattern, string=text_two)"
      ],
      "metadata": {
        "colab": {
          "base_uri": "https://localhost:8080/"
        },
        "id": "I0RR2ak5EqII",
        "outputId": "d250a671-50c3-422e-a7ed-28a7182a0897"
      },
      "execution_count": 382,
      "outputs": [
        {
          "output_type": "execute_result",
          "data": {
            "text/plain": [
              "<re.Match object; span=(29, 45), match='srimad-bhagvatam'>"
            ]
          },
          "metadata": {},
          "execution_count": 382
        }
      ]
    },
    {
      "cell_type": "code",
      "source": [
        "re.search(pattern=pattern, string=text)"
      ],
      "metadata": {
        "colab": {
          "base_uri": "https://localhost:8080/"
        },
        "id": "s5AWrSRjEu4k",
        "outputId": "3037c7a3-6e6a-4c9a-dd40-6fa5c6daa4df"
      },
      "execution_count": 383,
      "outputs": [
        {
          "output_type": "execute_result",
          "data": {
            "text/plain": [
              "<re.Match object; span=(18, 36), match='srimad-bhagvadgita'>"
            ]
          },
          "metadata": {},
          "execution_count": 383
        }
      ]
    },
    {
      "cell_type": "markdown",
      "source": [
        "## `Timing Python Code`"
      ],
      "metadata": {
        "id": "nvHb4oAIFvzc"
      }
    },
    {
      "cell_type": "code",
      "source": [
        "def func_one(n):\n",
        "  return [str(num) for num in range(n)]"
      ],
      "metadata": {
        "id": "sjUH9adnFRLb"
      },
      "execution_count": 387,
      "outputs": []
    },
    {
      "cell_type": "code",
      "source": [
        "func_one(10)"
      ],
      "metadata": {
        "colab": {
          "base_uri": "https://localhost:8080/"
        },
        "id": "NCZjgLzKGDOY",
        "outputId": "29709a04-d3dd-43e8-e031-228a0058687a"
      },
      "execution_count": 389,
      "outputs": [
        {
          "output_type": "execute_result",
          "data": {
            "text/plain": [
              "['0', '1', '2', '3', '4', '5', '6', '7', '8', '9']"
            ]
          },
          "metadata": {},
          "execution_count": 389
        }
      ]
    },
    {
      "cell_type": "code",
      "source": [
        "# another approach\n",
        "def func_two(n):\n",
        "  return list(map(str,range(n)))"
      ],
      "metadata": {
        "id": "VVOcO9gJGEpU"
      },
      "execution_count": 394,
      "outputs": []
    },
    {
      "cell_type": "code",
      "source": [
        "func_two(10)"
      ],
      "metadata": {
        "colab": {
          "base_uri": "https://localhost:8080/"
        },
        "id": "6YL_Rnp1GU3s",
        "outputId": "ec930293-1a6a-4bf4-c6cf-2d011fceffab"
      },
      "execution_count": 395,
      "outputs": [
        {
          "output_type": "execute_result",
          "data": {
            "text/plain": [
              "['0', '1', '2', '3', '4', '5', '6', '7', '8', '9']"
            ]
          },
          "metadata": {},
          "execution_count": 395
        }
      ]
    },
    {
      "cell_type": "code",
      "source": [
        "import time"
      ],
      "metadata": {
        "id": "QeND_FB2GXa_"
      },
      "execution_count": 396,
      "outputs": []
    },
    {
      "cell_type": "code",
      "source": [
        "start_time = time.time()\n",
        "result = func_one(1000000)\n",
        "end_time = time.time()\n",
        "elapsed_time = end_time - start_time"
      ],
      "metadata": {
        "id": "P2W35kleG2Rq"
      },
      "execution_count": 398,
      "outputs": []
    },
    {
      "cell_type": "code",
      "source": [
        "elapsed_time"
      ],
      "metadata": {
        "colab": {
          "base_uri": "https://localhost:8080/"
        },
        "id": "PWGTrmWaG5R6",
        "outputId": "ef72a836-7637-46e5-9124-45cb01b99b2d"
      },
      "execution_count": 399,
      "outputs": [
        {
          "output_type": "execute_result",
          "data": {
            "text/plain": [
              "0.28899264335632324"
            ]
          },
          "metadata": {},
          "execution_count": 399
        }
      ]
    },
    {
      "cell_type": "code",
      "source": [
        "start_time = time.time()\n",
        "result = func_two(1000000)\n",
        "end_time = time.time()\n",
        "elapsed_time = end_time - start_time"
      ],
      "metadata": {
        "id": "LI7bOoByHJ-i"
      },
      "execution_count": 400,
      "outputs": []
    },
    {
      "cell_type": "code",
      "source": [
        "elapsed_time"
      ],
      "metadata": {
        "colab": {
          "base_uri": "https://localhost:8080/"
        },
        "id": "j83ramJ5HOQH",
        "outputId": "60ae77ad-ff4d-4284-ddb5-b1f061639f35"
      },
      "execution_count": 401,
      "outputs": [
        {
          "output_type": "execute_result",
          "data": {
            "text/plain": [
              "0.2268047332763672"
            ]
          },
          "metadata": {},
          "execution_count": 401
        }
      ]
    },
    {
      "cell_type": "code",
      "source": [
        "import timeit"
      ],
      "metadata": {
        "id": "GuaxIkyHHQli"
      },
      "execution_count": 402,
      "outputs": []
    },
    {
      "cell_type": "code",
      "source": [
        "timeit.timeit"
      ],
      "metadata": {
        "colab": {
          "base_uri": "https://localhost:8080/"
        },
        "id": "KG_z6S1-Hjbn",
        "outputId": "d6f6585d-0d7e-4ac1-9906-dc60ac8cc68a"
      },
      "execution_count": 403,
      "outputs": [
        {
          "output_type": "execute_result",
          "data": {
            "text/plain": [
              "<function timeit.timeit(stmt='pass', setup='pass', timer=<built-in function perf_counter>, number=1000000, globals=None)>"
            ]
          },
          "metadata": {},
          "execution_count": 403
        }
      ]
    },
    {
      "cell_type": "code",
      "source": [
        "stmt = 'func_one(10)'\n",
        "setup = '''\n",
        "def func_one(n):\n",
        "  return [str(num) for num in range(n)]\n",
        "'''"
      ],
      "metadata": {
        "id": "GRRydAztHlhv"
      },
      "execution_count": 406,
      "outputs": []
    },
    {
      "cell_type": "code",
      "source": [
        "timeit.timeit(stmt=stmt, setup=setup, number=1000000)"
      ],
      "metadata": {
        "colab": {
          "base_uri": "https://localhost:8080/"
        },
        "id": "-BLK4uTJIsAv",
        "outputId": "54851138-9a85-49ee-ee8d-735aed16dda6"
      },
      "execution_count": 410,
      "outputs": [
        {
          "output_type": "execute_result",
          "data": {
            "text/plain": [
              "2.5757683200026804"
            ]
          },
          "metadata": {},
          "execution_count": 410
        }
      ]
    },
    {
      "cell_type": "code",
      "source": [
        "stmt2 = 'func_two(10)'\n",
        "setup2 = '''\n",
        "def func_two(n):\n",
        "  return list(map(str, range(n)))\n",
        "'''"
      ],
      "metadata": {
        "id": "R6_RTcq5IxxV"
      },
      "execution_count": 408,
      "outputs": []
    },
    {
      "cell_type": "code",
      "source": [
        "timeit.timeit(stmt=stmt2, setup=setup2, number=1000000)"
      ],
      "metadata": {
        "colab": {
          "base_uri": "https://localhost:8080/"
        },
        "id": "iMYfeRoTJPr2",
        "outputId": "80e8eb6f-2cd2-4155-9d65-94bba88b1266"
      },
      "execution_count": 411,
      "outputs": [
        {
          "output_type": "execute_result",
          "data": {
            "text/plain": [
              "3.977004873999249"
            ]
          },
          "metadata": {},
          "execution_count": 411
        }
      ]
    },
    {
      "cell_type": "code",
      "source": [
        "%%timeit\n",
        "func_one(100)"
      ],
      "metadata": {
        "colab": {
          "base_uri": "https://localhost:8080/"
        },
        "id": "1yiC2wEKJUmb",
        "outputId": "a403ffb1-ec3d-4f36-aeca-fa51d18c287d"
      },
      "execution_count": 412,
      "outputs": [
        {
          "output_type": "stream",
          "name": "stdout",
          "text": [
            "22 µs ± 2.15 µs per loop (mean ± std. dev. of 7 runs, 10000 loops each)\n"
          ]
        }
      ]
    },
    {
      "cell_type": "code",
      "source": [
        "%%timeit\n",
        "func_two(100)"
      ],
      "metadata": {
        "colab": {
          "base_uri": "https://localhost:8080/"
        },
        "id": "UU1_TaFeJoiU",
        "outputId": "47507608-3ea6-4217-9fa3-0d24a0caa765"
      },
      "execution_count": 413,
      "outputs": [
        {
          "output_type": "stream",
          "name": "stdout",
          "text": [
            "14.1 µs ± 119 ns per loop (mean ± std. dev. of 7 runs, 100000 loops each)\n"
          ]
        }
      ]
    },
    {
      "cell_type": "markdown",
      "source": [
        "## `Zipping & Unzipping`"
      ],
      "metadata": {
        "id": "xcIuTqbNJ5t_"
      }
    },
    {
      "cell_type": "code",
      "source": [
        "f = open(file='/content/drive/MyDrive/data/practice.txt', mode='w+')"
      ],
      "metadata": {
        "id": "x9CjHQGgJvWN"
      },
      "execution_count": 415,
      "outputs": []
    },
    {
      "cell_type": "code",
      "source": [
        "f.write('This is first file to compress')"
      ],
      "metadata": {
        "colab": {
          "base_uri": "https://localhost:8080/"
        },
        "id": "2dZsxV5YKY8u",
        "outputId": "74427134-46c3-42c2-accb-6f238cc4af67"
      },
      "execution_count": 416,
      "outputs": [
        {
          "output_type": "execute_result",
          "data": {
            "text/plain": [
              "30"
            ]
          },
          "metadata": {},
          "execution_count": 416
        }
      ]
    },
    {
      "cell_type": "code",
      "source": [
        "f.close()"
      ],
      "metadata": {
        "id": "p_ko1lRoKgT0"
      },
      "execution_count": 417,
      "outputs": []
    },
    {
      "cell_type": "code",
      "source": [
        "f = open(file='/content/drive/MyDrive/data/practice2.txt', mode='w+')\n",
        "f.write('This is second file to compress')\n",
        "f.close()"
      ],
      "metadata": {
        "id": "MUYjM1h1KjOm"
      },
      "execution_count": 418,
      "outputs": []
    },
    {
      "cell_type": "code",
      "source": [
        "import zipfile"
      ],
      "metadata": {
        "id": "oPnD4jHAKysn"
      },
      "execution_count": 419,
      "outputs": []
    },
    {
      "cell_type": "code",
      "source": [
        "comp_file = zipfile.ZipFile(file='/content/drive/MyDrive/data/comp_file.zip', mode='w')"
      ],
      "metadata": {
        "id": "z0AOJ8w4K8BK"
      },
      "execution_count": 428,
      "outputs": []
    },
    {
      "cell_type": "code",
      "source": [
        "comp_file.write('/content/drive/MyDrive/data/practice2.txt', compress_type=zipfile.ZIP_DEFLATED)"
      ],
      "metadata": {
        "id": "gRB1tDblLLqW"
      },
      "execution_count": 429,
      "outputs": []
    },
    {
      "cell_type": "code",
      "source": [
        "comp_file.write('/content/drive/MyDrive/data/practice.txt', compress_type=zipfile.ZIP_DEFLATED)"
      ],
      "metadata": {
        "id": "9sJ3mxx3LnOb"
      },
      "execution_count": 430,
      "outputs": []
    },
    {
      "cell_type": "code",
      "source": [
        "comp_file.close()"
      ],
      "metadata": {
        "id": "-JJ991-1Lu2h"
      },
      "execution_count": 431,
      "outputs": []
    },
    {
      "cell_type": "code",
      "source": [
        "# lets read zip file\n",
        "zip_obj = zipfile.ZipFile(file='/content/drive/MyDrive/data/comp_file.zip', mode='r')"
      ],
      "metadata": {
        "id": "PiXv4HVGL-Pz"
      },
      "execution_count": 432,
      "outputs": []
    },
    {
      "cell_type": "code",
      "source": [
        "zip_obj.extractall(path='/content/drive/MyDrive/data/extract_comp_file')"
      ],
      "metadata": {
        "id": "ZaLq_FVOMZoU"
      },
      "execution_count": 433,
      "outputs": []
    },
    {
      "cell_type": "code",
      "source": [
        "shutil.rmtree(path='/content/drive/MyDrive/data/extract_comp')"
      ],
      "metadata": {
        "id": "WboedVD6Mswc"
      },
      "execution_count": 441,
      "outputs": []
    },
    {
      "cell_type": "code",
      "source": [
        "shutil.make_archive(base_name='/content/drive/MyDrive/data/extract_comp_file', format='zip', root_dir='/content/drive/MyDrive/data/practice')"
      ],
      "metadata": {
        "colab": {
          "base_uri": "https://localhost:8080/",
          "height": 35
        },
        "id": "rK7ZJctCNuer",
        "outputId": "43f59d9e-2d5f-43f7-d357-0d950acde61c"
      },
      "execution_count": 438,
      "outputs": [
        {
          "output_type": "execute_result",
          "data": {
            "text/plain": [
              "'/content/drive/MyDrive/data/extract_comp_file.zip'"
            ],
            "application/vnd.google.colaboratory.intrinsic+json": {
              "type": "string"
            }
          },
          "metadata": {},
          "execution_count": 438
        }
      ]
    },
    {
      "cell_type": "code",
      "source": [
        "# to extract\n",
        "shutil.unpack_archive(filename='/content/drive/MyDrive/data/extract_comp_file.zip', extract_dir='/content/drive/MyDrive/data/extract_comp', format='zip')"
      ],
      "metadata": {
        "id": "YfeJpqG4OwOZ"
      },
      "execution_count": 442,
      "outputs": []
    },
    {
      "cell_type": "code",
      "source": [],
      "metadata": {
        "id": "HEjYhydbPo-R"
      },
      "execution_count": null,
      "outputs": []
    }
  ]
}