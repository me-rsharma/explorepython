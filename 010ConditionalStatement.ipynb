{
  "nbformat": 4,
  "nbformat_minor": 0,
  "metadata": {
    "colab": {
      "provenance": [],
      "authorship_tag": "ABX9TyO462Kc45Kz6akRrTvwQcMM",
      "include_colab_link": true
    },
    "kernelspec": {
      "name": "python3",
      "display_name": "Python 3"
    },
    "language_info": {
      "name": "python"
    }
  },
  "cells": [
    {
      "cell_type": "markdown",
      "metadata": {
        "id": "view-in-github",
        "colab_type": "text"
      },
      "source": [
        "<a href=\"https://colab.research.google.com/github/me-rsharma/explorepython/blob/master/010ConditionalStatement.ipynb\" target=\"_parent\"><img src=\"https://colab.research.google.com/assets/colab-badge.svg\" alt=\"Open In Colab\"/></a>"
      ]
    },
    {
      "cell_type": "markdown",
      "source": [
        "## `IF ELSE ELIF Statements`\n",
        "\n",
        "```python\n",
        "if some_condition:\n",
        "  # execute something\n",
        "elif some_condition:\n",
        "  # execute someting\n",
        "else:\n",
        "  # execute something\n",
        "```"
      ],
      "metadata": {
        "id": "xjvP2aEeoBRs"
      }
    },
    {
      "cell_type": "code",
      "execution_count": 2,
      "metadata": {
        "colab": {
          "base_uri": "https://localhost:8080/"
        },
        "id": "k94Arthrnq1J",
        "outputId": "e2eec615-48c3-4631-8316-bbe356a48b33"
      },
      "outputs": [
        {
          "output_type": "stream",
          "name": "stdout",
          "text": [
            "Chant rounds\n"
          ]
        }
      ],
      "source": [
        "time = 'dawn'\n",
        "if time=='dawn':\n",
        "  print('Chant rounds')\n",
        "elif time=='noon':\n",
        "  print('Honour prasad')\n",
        "else:\n",
        "  print('Do sadhana')"
      ]
    },
    {
      "cell_type": "code",
      "source": [
        "time = 'dusk'\n",
        "if time=='dawn':\n",
        "  print('Chant rounds')\n",
        "elif time=='noon':\n",
        "  print('Honour prasad')\n",
        "else:\n",
        "  print('Do sadhana')"
      ],
      "metadata": {
        "colab": {
          "base_uri": "https://localhost:8080/"
        },
        "id": "SloFvTLEpLUz",
        "outputId": "c88dd850-5480-4332-dbba-4d18e7d71b5e"
      },
      "execution_count": 3,
      "outputs": [
        {
          "output_type": "stream",
          "name": "stdout",
          "text": [
            "Do sadhana\n"
          ]
        }
      ]
    },
    {
      "cell_type": "code",
      "source": [
        "num = 12\n",
        "if num < 8:\n",
        "  print('Chant more rounds')\n",
        "else:\n",
        "  print(f'Good job. Try to complete {16-num} more')"
      ],
      "metadata": {
        "colab": {
          "base_uri": "https://localhost:8080/"
        },
        "id": "IOO7E9a1pUqN",
        "outputId": "32ca2e69-edbd-4728-eeee-834082f074ff"
      },
      "execution_count": 10,
      "outputs": [
        {
          "output_type": "stream",
          "name": "stdout",
          "text": [
            "Good job. Try to complete 4 more\n"
          ]
        }
      ]
    },
    {
      "cell_type": "code",
      "source": [],
      "metadata": {
        "id": "WOXZG7OGpjLr"
      },
      "execution_count": null,
      "outputs": []
    }
  ]
}