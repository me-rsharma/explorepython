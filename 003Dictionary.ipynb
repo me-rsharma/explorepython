{
  "nbformat": 4,
  "nbformat_minor": 0,
  "metadata": {
    "colab": {
      "provenance": [],
      "authorship_tag": "ABX9TyOOhQHtohZs9CK6QYhFyrGs",
      "include_colab_link": true
    },
    "kernelspec": {
      "name": "python3",
      "display_name": "Python 3"
    },
    "language_info": {
      "name": "python"
    }
  },
  "cells": [
    {
      "cell_type": "markdown",
      "metadata": {
        "id": "view-in-github",
        "colab_type": "text"
      },
      "source": [
        "<a href=\"https://colab.research.google.com/github/me-rsharma/explorepython/blob/master/003Dictionary.ipynb\" target=\"_parent\"><img src=\"https://colab.research.google.com/assets/colab-badge.svg\" alt=\"Open In Colab\"/></a>"
      ]
    },
    {
      "cell_type": "markdown",
      "source": [
        "## `DICTIONARY`\n",
        "\n",
        "`Python dictionary is unorderd mapping used to stored object based on key-value pair`\n",
        "\n",
        "`Dictionary is represented by curly braces {}`\n",
        "\n",
        "`Dictionary is unordered and hence cannot be used with index and cannot be sorted like list`"
      ],
      "metadata": {
        "id": "4zM1x_wG543J"
      }
    },
    {
      "cell_type": "code",
      "execution_count": 2,
      "metadata": {
        "id": "Gv476Qw1D6Yb"
      },
      "outputs": [],
      "source": [
        "# Create empty dict\n",
        "dict = {}"
      ]
    },
    {
      "cell_type": "code",
      "source": [
        "dict"
      ],
      "metadata": {
        "colab": {
          "base_uri": "https://localhost:8080/"
        },
        "id": "BdAtVKlp7IMX",
        "outputId": "93958547-d332-44ef-b25e-ec024e4095bf"
      },
      "execution_count": 4,
      "outputs": [
        {
          "output_type": "execute_result",
          "data": {
            "text/plain": [
              "{}"
            ]
          },
          "metadata": {},
          "execution_count": 4
        }
      ]
    },
    {
      "cell_type": "code",
      "source": [
        "groceries_lookup = {\n",
        "    'liril': 23.9,\n",
        "    'lizol': 150,\n",
        "    'maggie': 90,\n",
        "    'colgate': 98\n",
        "}\n",
        "groceries_lookup"
      ],
      "metadata": {
        "colab": {
          "base_uri": "https://localhost:8080/"
        },
        "id": "Cfzh6tpS7I5E",
        "outputId": "794344d1-e463-4101-88ca-c457ed8faa53"
      },
      "execution_count": 5,
      "outputs": [
        {
          "output_type": "execute_result",
          "data": {
            "text/plain": [
              "{'liril': 23.9, 'lizol': 150, 'maggie': 90, 'colgate': 98}"
            ]
          },
          "metadata": {},
          "execution_count": 5
        }
      ]
    },
    {
      "cell_type": "code",
      "source": [
        "# To access elements from dict\n",
        "groceries_lookup['maggie']"
      ],
      "metadata": {
        "colab": {
          "base_uri": "https://localhost:8080/"
        },
        "id": "JspZLiTt7hIW",
        "outputId": "6f20f986-9bb9-4aff-eb01-c6305ec57870"
      },
      "execution_count": 6,
      "outputs": [
        {
          "output_type": "execute_result",
          "data": {
            "text/plain": [
              "90"
            ]
          },
          "metadata": {},
          "execution_count": 6
        }
      ]
    },
    {
      "cell_type": "code",
      "source": [
        "groceries_lookup.get('maggie')"
      ],
      "metadata": {
        "colab": {
          "base_uri": "https://localhost:8080/"
        },
        "id": "6fx4SHtt7qPR",
        "outputId": "54508e5d-7919-4fdd-c609-70ae565a6dfc"
      },
      "execution_count": 7,
      "outputs": [
        {
          "output_type": "execute_result",
          "data": {
            "text/plain": [
              "90"
            ]
          },
          "metadata": {},
          "execution_count": 7
        }
      ]
    },
    {
      "cell_type": "code",
      "source": [
        "# differnce between both methods\n",
        "groceries_lookup['abc']"
      ],
      "metadata": {
        "colab": {
          "base_uri": "https://localhost:8080/",
          "height": 182
        },
        "id": "8ng-UajV7wLg",
        "outputId": "70f559c5-650e-491f-8c51-d463bd07df36"
      },
      "execution_count": 8,
      "outputs": [
        {
          "output_type": "error",
          "ename": "KeyError",
          "evalue": "ignored",
          "traceback": [
            "\u001b[0;31m---------------------------------------------------------------------------\u001b[0m",
            "\u001b[0;31mKeyError\u001b[0m                                  Traceback (most recent call last)",
            "\u001b[0;32m<ipython-input-8-a6259e71514f>\u001b[0m in \u001b[0;36m<module>\u001b[0;34m\u001b[0m\n\u001b[1;32m      1\u001b[0m \u001b[0;31m# differnce between both methods\u001b[0m\u001b[0;34m\u001b[0m\u001b[0;34m\u001b[0m\u001b[0;34m\u001b[0m\u001b[0m\n\u001b[0;32m----> 2\u001b[0;31m \u001b[0mgroceries_lookup\u001b[0m\u001b[0;34m[\u001b[0m\u001b[0;34m'abc'\u001b[0m\u001b[0;34m]\u001b[0m\u001b[0;34m\u001b[0m\u001b[0;34m\u001b[0m\u001b[0m\n\u001b[0m",
            "\u001b[0;31mKeyError\u001b[0m: 'abc'"
          ]
        }
      ]
    },
    {
      "cell_type": "code",
      "source": [
        "groceries_lookup.get('abc')"
      ],
      "metadata": {
        "id": "U8hTJrYG77if"
      },
      "execution_count": 9,
      "outputs": []
    },
    {
      "cell_type": "code",
      "source": [
        "# To remove data from dict\n",
        "groceries_lookup.pop('liril') # since dict do not use the concept of index we need to pass key explicitly"
      ],
      "metadata": {
        "colab": {
          "base_uri": "https://localhost:8080/"
        },
        "id": "Gs-m8fl77_X-",
        "outputId": "1d6e81b5-f1ca-4339-bf69-058aa4e0e1a6"
      },
      "execution_count": 10,
      "outputs": [
        {
          "output_type": "execute_result",
          "data": {
            "text/plain": [
              "23.9"
            ]
          },
          "metadata": {},
          "execution_count": 10
        }
      ]
    },
    {
      "cell_type": "code",
      "source": [
        "groceries_lookup"
      ],
      "metadata": {
        "colab": {
          "base_uri": "https://localhost:8080/"
        },
        "id": "iG7UFWBD8Qie",
        "outputId": "b2902de5-6b34-4748-e112-0b90ce4cc49d"
      },
      "execution_count": 11,
      "outputs": [
        {
          "output_type": "execute_result",
          "data": {
            "text/plain": [
              "{'lizol': 150, 'maggie': 90, 'colgate': 98}"
            ]
          },
          "metadata": {},
          "execution_count": 11
        }
      ]
    },
    {
      "cell_type": "code",
      "source": [
        "groceries_lookup.update({'lizol':189,'liril': 45})"
      ],
      "metadata": {
        "id": "TbUmfvgB8S6s"
      },
      "execution_count": 13,
      "outputs": []
    },
    {
      "cell_type": "code",
      "source": [
        "groceries_lookup"
      ],
      "metadata": {
        "colab": {
          "base_uri": "https://localhost:8080/"
        },
        "id": "IsFrC5HT-Eyl",
        "outputId": "8d71cdb3-64d4-4dbc-c7d4-ecf78896e722"
      },
      "execution_count": 14,
      "outputs": [
        {
          "output_type": "execute_result",
          "data": {
            "text/plain": [
              "{'lizol': 189, 'maggie': 90, 'colgate': 98, 'liril': 45}"
            ]
          },
          "metadata": {},
          "execution_count": 14
        }
      ]
    },
    {
      "cell_type": "code",
      "source": [
        "groceries_lookup.clear()"
      ],
      "metadata": {
        "id": "j4-ocCZS-M8t"
      },
      "execution_count": 15,
      "outputs": []
    },
    {
      "cell_type": "code",
      "source": [
        "groceries_lookup"
      ],
      "metadata": {
        "colab": {
          "base_uri": "https://localhost:8080/"
        },
        "id": "HhqP7kgK-VMM",
        "outputId": "c075048e-5dbe-4a3c-997a-515c2d8d63cf"
      },
      "execution_count": 16,
      "outputs": [
        {
          "output_type": "execute_result",
          "data": {
            "text/plain": [
              "{}"
            ]
          },
          "metadata": {},
          "execution_count": 16
        }
      ]
    },
    {
      "cell_type": "code",
      "source": [
        "groceries_lookup.update(\n",
        "    {'lizol': 189, 'maggie': 90, 'colgate': 98, 'liril': 45}\n",
        ")"
      ],
      "metadata": {
        "id": "L6IcPC8Z-W7z"
      },
      "execution_count": 18,
      "outputs": []
    },
    {
      "cell_type": "code",
      "source": [
        "groceries_lookup.keys()"
      ],
      "metadata": {
        "colab": {
          "base_uri": "https://localhost:8080/"
        },
        "id": "jpOra9ez-gow",
        "outputId": "56e5275b-b9b0-443c-ddc1-be75f464b793"
      },
      "execution_count": 19,
      "outputs": [
        {
          "output_type": "execute_result",
          "data": {
            "text/plain": [
              "dict_keys(['lizol', 'maggie', 'colgate', 'liril'])"
            ]
          },
          "metadata": {},
          "execution_count": 19
        }
      ]
    },
    {
      "cell_type": "code",
      "source": [
        "groceries_lookup.items()"
      ],
      "metadata": {
        "colab": {
          "base_uri": "https://localhost:8080/"
        },
        "id": "qdHoqLm0-jCB",
        "outputId": "10e755cb-0108-4ae0-fb11-59c528aad847"
      },
      "execution_count": 20,
      "outputs": [
        {
          "output_type": "execute_result",
          "data": {
            "text/plain": [
              "dict_items([('lizol', 189), ('maggie', 90), ('colgate', 98), ('liril', 45)])"
            ]
          },
          "metadata": {},
          "execution_count": 20
        }
      ]
    },
    {
      "cell_type": "code",
      "source": [
        "groceries_lookup.values()"
      ],
      "metadata": {
        "colab": {
          "base_uri": "https://localhost:8080/"
        },
        "id": "clo23tB--mWK",
        "outputId": "84b44a09-7a47-440d-b6aa-776650caeef5"
      },
      "execution_count": 21,
      "outputs": [
        {
          "output_type": "execute_result",
          "data": {
            "text/plain": [
              "dict_values([189, 90, 98, 45])"
            ]
          },
          "metadata": {},
          "execution_count": 21
        }
      ]
    },
    {
      "cell_type": "code",
      "source": [
        "# to get all the date from dict\n",
        "for items in groceries_lookup.items():\n",
        "  print(items)"
      ],
      "metadata": {
        "colab": {
          "base_uri": "https://localhost:8080/"
        },
        "id": "J67d53Zy-qC-",
        "outputId": "94568d4d-f78a-40fd-a5bb-dea0e2ef0dea"
      },
      "execution_count": 23,
      "outputs": [
        {
          "output_type": "stream",
          "name": "stdout",
          "text": [
            "('lizol', 189)\n",
            "('maggie', 90)\n",
            "('colgate', 98)\n",
            "('liril', 45)\n"
          ]
        }
      ]
    },
    {
      "cell_type": "code",
      "source": [
        "for key, value in groceries_lookup.items(): # unpacking tuples getting from items\n",
        "  print(key)\n",
        "  print(value)"
      ],
      "metadata": {
        "colab": {
          "base_uri": "https://localhost:8080/"
        },
        "id": "fbgVwvzA-9Pu",
        "outputId": "b93a066e-6699-485b-9f31-f63a763d9744"
      },
      "execution_count": 24,
      "outputs": [
        {
          "output_type": "stream",
          "name": "stdout",
          "text": [
            "lizol\n",
            "189\n",
            "maggie\n",
            "90\n",
            "colgate\n",
            "98\n",
            "liril\n",
            "45\n"
          ]
        }
      ]
    },
    {
      "cell_type": "code",
      "source": [],
      "metadata": {
        "id": "cTBJoNQ2_Jnn"
      },
      "execution_count": null,
      "outputs": []
    }
  ]
}