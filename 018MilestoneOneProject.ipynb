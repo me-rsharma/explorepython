{
  "nbformat": 4,
  "nbformat_minor": 0,
  "metadata": {
    "colab": {
      "provenance": [],
      "authorship_tag": "ABX9TyOJ2YE8jn4Bp5FnKykemJSp",
      "include_colab_link": true
    },
    "kernelspec": {
      "name": "python3",
      "display_name": "Python 3"
    },
    "language_info": {
      "name": "python"
    }
  },
  "cells": [
    {
      "cell_type": "markdown",
      "metadata": {
        "id": "view-in-github",
        "colab_type": "text"
      },
      "source": [
        "<a href=\"https://colab.research.google.com/github/me-rsharma/explorepython/blob/master/018MilestoneOneProject.ipynb\" target=\"_parent\"><img src=\"https://colab.research.google.com/assets/colab-badge.svg\" alt=\"Open In Colab\"/></a>"
      ]
    },
    {
      "cell_type": "markdown",
      "source": [
        "## `MILESTONE PROJECT - I`"
      ],
      "metadata": {
        "id": "NGxN7BL9YWSA"
      }
    },
    {
      "cell_type": "markdown",
      "source": [
        "### `Accepting User Input`"
      ],
      "metadata": {
        "id": "vv9xrytDj1Zp"
      }
    },
    {
      "cell_type": "code",
      "execution_count": 1,
      "metadata": {
        "colab": {
          "base_uri": "https://localhost:8080/"
        },
        "id": "8PrczRhuYPxt",
        "outputId": "92e3948f-8eb8-4968-a07b-76e53a40ca4e"
      },
      "outputs": [
        {
          "name": "stdout",
          "output_type": "stream",
          "text": [
            "Enter the value: 12\n"
          ]
        }
      ],
      "source": [
        "result = input('Enter the value: ')"
      ]
    },
    {
      "cell_type": "code",
      "source": [
        "result"
      ],
      "metadata": {
        "colab": {
          "base_uri": "https://localhost:8080/",
          "height": 35
        },
        "id": "aHVSyOK9j9CJ",
        "outputId": "2185d859-0d83-4b56-fbbe-5743bc4418c5"
      },
      "execution_count": 2,
      "outputs": [
        {
          "output_type": "execute_result",
          "data": {
            "text/plain": [
              "'12'"
            ],
            "application/vnd.google.colaboratory.intrinsic+json": {
              "type": "string"
            }
          },
          "metadata": {},
          "execution_count": 2
        }
      ]
    },
    {
      "cell_type": "code",
      "source": [
        "int_result = int(result)"
      ],
      "metadata": {
        "id": "2i5-KgYDkFLO"
      },
      "execution_count": 3,
      "outputs": []
    },
    {
      "cell_type": "code",
      "source": [
        "int_result"
      ],
      "metadata": {
        "colab": {
          "base_uri": "https://localhost:8080/"
        },
        "id": "6X0beOx6kI9g",
        "outputId": "8123d689-32d8-45d3-dd5d-119f0a27ccdd"
      },
      "execution_count": 4,
      "outputs": [
        {
          "output_type": "execute_result",
          "data": {
            "text/plain": [
              "12"
            ]
          },
          "metadata": {},
          "execution_count": 4
        }
      ]
    },
    {
      "cell_type": "code",
      "source": [
        "result = int(input('Enter the value again: '))"
      ],
      "metadata": {
        "colab": {
          "base_uri": "https://localhost:8080/"
        },
        "id": "YWt2Lc3xkKdL",
        "outputId": "6b6b4633-e0d2-4c0e-f28c-2915ba91f1da"
      },
      "execution_count": 7,
      "outputs": [
        {
          "name": "stdout",
          "output_type": "stream",
          "text": [
            "Enter the value again: 23\n"
          ]
        }
      ]
    },
    {
      "cell_type": "code",
      "source": [
        "result = int(input('Enter the value again: '))"
      ],
      "metadata": {
        "colab": {
          "base_uri": "https://localhost:8080/",
          "height": 182
        },
        "id": "IElty9K8kOaf",
        "outputId": "41368ad1-ccd5-4e31-cef2-4b9a10130587"
      },
      "execution_count": 8,
      "outputs": [
        {
          "name": "stdout",
          "output_type": "stream",
          "text": [
            "Enter the value again: 23.67\n"
          ]
        },
        {
          "output_type": "error",
          "ename": "ValueError",
          "evalue": "ignored",
          "traceback": [
            "\u001b[0;31m---------------------------------------------------------------------------\u001b[0m",
            "\u001b[0;31mValueError\u001b[0m                                Traceback (most recent call last)",
            "\u001b[0;32m<ipython-input-8-78cdf2236bda>\u001b[0m in \u001b[0;36m<module>\u001b[0;34m\u001b[0m\n\u001b[0;32m----> 1\u001b[0;31m \u001b[0mresult\u001b[0m \u001b[0;34m=\u001b[0m \u001b[0mint\u001b[0m\u001b[0;34m(\u001b[0m\u001b[0minput\u001b[0m\u001b[0;34m(\u001b[0m\u001b[0;34m'Enter the value again: '\u001b[0m\u001b[0;34m)\u001b[0m\u001b[0;34m)\u001b[0m\u001b[0;34m\u001b[0m\u001b[0;34m\u001b[0m\u001b[0m\n\u001b[0m",
            "\u001b[0;31mValueError\u001b[0m: invalid literal for int() with base 10: '23.67'"
          ]
        }
      ]
    },
    {
      "cell_type": "code",
      "source": [
        "# passing float throws error\n",
        "# So need to handle this"
      ],
      "metadata": {
        "id": "g0FjLD1XleTx"
      },
      "execution_count": 9,
      "outputs": []
    },
    {
      "cell_type": "code",
      "source": [
        "result = int(input('Enter the value: '))"
      ],
      "metadata": {
        "colab": {
          "base_uri": "https://localhost:8080/",
          "height": 182
        },
        "id": "-BN86N11locp",
        "outputId": "7e35f026-8209-420f-a01a-80ba0a5decb8"
      },
      "execution_count": 10,
      "outputs": [
        {
          "name": "stdout",
          "output_type": "stream",
          "text": [
            "Enter the value: two\n"
          ]
        },
        {
          "output_type": "error",
          "ename": "ValueError",
          "evalue": "ignored",
          "traceback": [
            "\u001b[0;31m---------------------------------------------------------------------------\u001b[0m",
            "\u001b[0;31mValueError\u001b[0m                                Traceback (most recent call last)",
            "\u001b[0;32m<ipython-input-10-66bd88f7c637>\u001b[0m in \u001b[0;36m<module>\u001b[0;34m\u001b[0m\n\u001b[0;32m----> 1\u001b[0;31m \u001b[0mresult\u001b[0m \u001b[0;34m=\u001b[0m \u001b[0mint\u001b[0m\u001b[0;34m(\u001b[0m\u001b[0minput\u001b[0m\u001b[0;34m(\u001b[0m\u001b[0;34m'Enter the value: '\u001b[0m\u001b[0;34m)\u001b[0m\u001b[0;34m)\u001b[0m\u001b[0;34m\u001b[0m\u001b[0;34m\u001b[0m\u001b[0m\n\u001b[0m",
            "\u001b[0;31mValueError\u001b[0m: invalid literal for int() with base 10: 'two'"
          ]
        }
      ]
    },
    {
      "cell_type": "code",
      "source": [
        "# Passing string data throws error and hence we need to handle this"
      ],
      "metadata": {
        "id": "vxdj6znOlt4n"
      },
      "execution_count": 11,
      "outputs": []
    },
    {
      "cell_type": "markdown",
      "source": [
        "### `Validating User Input`"
      ],
      "metadata": {
        "id": "Kc4QM4rSpIps"
      }
    },
    {
      "cell_type": "code",
      "source": [
        "digit = '8'\n",
        "digit.isdigit()"
      ],
      "metadata": {
        "colab": {
          "base_uri": "https://localhost:8080/"
        },
        "id": "fzKUEnOjrpIC",
        "outputId": "8f2e5cf1-26ab-4027-d5a9-938400554488"
      },
      "execution_count": 12,
      "outputs": [
        {
          "output_type": "execute_result",
          "data": {
            "text/plain": [
              "True"
            ]
          },
          "metadata": {},
          "execution_count": 12
        }
      ]
    },
    {
      "cell_type": "code",
      "source": [
        "digit = 'eight'\n",
        "digit.isdigit()"
      ],
      "metadata": {
        "colab": {
          "base_uri": "https://localhost:8080/"
        },
        "id": "It37djyMruzV",
        "outputId": "0daa9868-f8b4-450b-d03f-4c1bf8188807"
      },
      "execution_count": 13,
      "outputs": [
        {
          "output_type": "execute_result",
          "data": {
            "text/plain": [
              "False"
            ]
          },
          "metadata": {},
          "execution_count": 13
        }
      ]
    },
    {
      "cell_type": "code",
      "source": [
        "digit = '12.34'\n",
        "digit.isdigit()"
      ],
      "metadata": {
        "colab": {
          "base_uri": "https://localhost:8080/"
        },
        "id": "3mAp8z8rswoF",
        "outputId": "0dcc301d-a9a7-4c35-d396-0333eb6f78f6"
      },
      "execution_count": 22,
      "outputs": [
        {
          "output_type": "execute_result",
          "data": {
            "text/plain": [
              "False"
            ]
          },
          "metadata": {},
          "execution_count": 22
        }
      ]
    },
    {
      "cell_type": "code",
      "source": [
        "def user_choice():\n",
        "  choice = 'WRONG'\n",
        "  while choice.isdigit() == False: # jab tak user valid digit pass nahi karta keep asking for input\n",
        "    choice = input('Please enter a number (0-10): ')\n",
        "    if choice.isdigit() == False:\n",
        "      print('Sorry that is not a digit!')\n",
        "  return int(choice)"
      ],
      "metadata": {
        "id": "mnO6IhU_l2_i"
      },
      "execution_count": 18,
      "outputs": []
    },
    {
      "cell_type": "code",
      "source": [
        "user_choice()"
      ],
      "metadata": {
        "colab": {
          "base_uri": "https://localhost:8080/"
        },
        "id": "IMMs9ar0r2v-",
        "outputId": "8da5e454-13de-4b92-ccf4-7ebcddd0f363"
      },
      "execution_count": 19,
      "outputs": [
        {
          "name": "stdout",
          "output_type": "stream",
          "text": [
            "Please enter a number (0-10): 34\n"
          ]
        },
        {
          "output_type": "execute_result",
          "data": {
            "text/plain": [
              "34"
            ]
          },
          "metadata": {},
          "execution_count": 19
        }
      ]
    },
    {
      "cell_type": "code",
      "source": [
        "user_choice()"
      ],
      "metadata": {
        "colab": {
          "base_uri": "https://localhost:8080/"
        },
        "id": "8MsUrKhXsMgA",
        "outputId": "5893cabf-e64e-42f1-d488-0c13799c399f"
      },
      "execution_count": 20,
      "outputs": [
        {
          "name": "stdout",
          "output_type": "stream",
          "text": [
            "Please enter a number (0-10): 3\n"
          ]
        },
        {
          "output_type": "execute_result",
          "data": {
            "text/plain": [
              "3"
            ]
          },
          "metadata": {},
          "execution_count": 20
        }
      ]
    },
    {
      "cell_type": "code",
      "source": [
        "user_choice()"
      ],
      "metadata": {
        "colab": {
          "base_uri": "https://localhost:8080/"
        },
        "id": "kcdJVPFysQyL",
        "outputId": "affe0264-7f02-4ec9-dd13-080451b81cda"
      },
      "execution_count": 21,
      "outputs": [
        {
          "name": "stdout",
          "output_type": "stream",
          "text": [
            "Please enter a number (0-10): 23.45\n",
            "Sorry that is not a digit!\n",
            "Please enter a number (0-10): 3\n"
          ]
        },
        {
          "output_type": "execute_result",
          "data": {
            "text/plain": [
              "3"
            ]
          },
          "metadata": {},
          "execution_count": 21
        }
      ]
    },
    {
      "cell_type": "code",
      "source": [
        "def user_choice():\n",
        "  choice = 'WRONG'\n",
        "  acceptable_range = range(0,10)\n",
        "  within_range = False\n",
        "  while choice.isdigit() == False or within_range==False: # jab tak user valid digit pass nahi karta keep asking for input\n",
        "    choice = input('Please enter a number (0-10): ')\n",
        "    # DIGIT CHECK\n",
        "    if choice.isdigit() == False:\n",
        "      print('Sorry that is not a digit!')\n",
        "    # RANGE CHECK\n",
        "    if choice.isdigit() == True:\n",
        "      if int(choice) in acceptable_range:\n",
        "        within_range = True\n",
        "      else:\n",
        "        print('Sorry you are out of acceptable range (0-10)')\n",
        "        within_range = False\n",
        "  return int(choice) "
      ],
      "metadata": {
        "id": "FXRUh5bmsrqZ"
      },
      "execution_count": 23,
      "outputs": []
    },
    {
      "cell_type": "code",
      "source": [
        "user_choice()"
      ],
      "metadata": {
        "colab": {
          "base_uri": "https://localhost:8080/"
        },
        "id": "X3vj-98vw7Xe",
        "outputId": "af4befb3-b462-4993-8fe6-a77c80ab849d"
      },
      "execution_count": 24,
      "outputs": [
        {
          "name": "stdout",
          "output_type": "stream",
          "text": [
            "Please enter a number (0-10): 2\n"
          ]
        },
        {
          "output_type": "execute_result",
          "data": {
            "text/plain": [
              "2"
            ]
          },
          "metadata": {},
          "execution_count": 24
        }
      ]
    },
    {
      "cell_type": "code",
      "source": [
        "user_choice()"
      ],
      "metadata": {
        "colab": {
          "base_uri": "https://localhost:8080/"
        },
        "id": "InPKsnZqw9rL",
        "outputId": "a46eccdb-c1f8-4431-c9d5-68e5199a2b91"
      },
      "execution_count": 25,
      "outputs": [
        {
          "name": "stdout",
          "output_type": "stream",
          "text": [
            "Please enter a number (0-10): two\n",
            "Sorry that is not a digit!\n",
            "Please enter a number (0-10): 29\n",
            "Sorry you are out of acceptable range (0-10)\n",
            "Please enter a number (0-10): 4\n"
          ]
        },
        {
          "output_type": "execute_result",
          "data": {
            "text/plain": [
              "4"
            ]
          },
          "metadata": {},
          "execution_count": 25
        }
      ]
    },
    {
      "cell_type": "markdown",
      "source": [
        "### `Making choice game`\n",
        "\n",
        "- `Display user current list`\n",
        "- `Make user choose index from list to replace`\n",
        "- `Pass new value to replace`\n",
        "- `Display updated list`\n",
        "- `Ask user if they would like to continue or end`"
      ],
      "metadata": {
        "id": "Bs6AFh31-Xa1"
      }
    },
    {
      "cell_type": "code",
      "source": [
        "def display_list(game_list):\n",
        "  print(game_list)"
      ],
      "metadata": {
        "id": "NT4nVgJCxAus"
      },
      "execution_count": 1,
      "outputs": []
    },
    {
      "cell_type": "code",
      "source": [
        "game_list = [0,1,2]\n",
        "display_list(game_list)"
      ],
      "metadata": {
        "colab": {
          "base_uri": "https://localhost:8080/"
        },
        "id": "QyO1U-t-_E_x",
        "outputId": "dae3feb5-eff3-463e-9e30-7a6e4219f0fa"
      },
      "execution_count": 2,
      "outputs": [
        {
          "output_type": "stream",
          "name": "stdout",
          "text": [
            "[0, 1, 2]\n"
          ]
        }
      ]
    },
    {
      "cell_type": "code",
      "source": [
        "def index_choice():\n",
        "  choice = 'wrong'\n",
        "  while choice not in ['0','1','2']:\n",
        "    choice = input('Please pass your choice from (0,1,2) ')\n",
        "    if choice not in ['0','1','2']:\n",
        "      print('Sorry, you made invalid choice!')\n",
        "  # if we make correct choice\n",
        "  return int(choice)"
      ],
      "metadata": {
        "id": "RpDt_ko2_LCf"
      },
      "execution_count": 5,
      "outputs": []
    },
    {
      "cell_type": "code",
      "source": [
        "index_choice()"
      ],
      "metadata": {
        "colab": {
          "base_uri": "https://localhost:8080/"
        },
        "id": "bXvxVXJY_uoI",
        "outputId": "093e2857-5dd4-43fb-da5f-fbadeec8289d"
      },
      "execution_count": 6,
      "outputs": [
        {
          "name": "stdout",
          "output_type": "stream",
          "text": [
            "Please pass your choice from (0,1,2) two\n",
            "Sorry, you made invalid choice!\n",
            "Please pass your choice from (0,1,2) 23\n",
            "Sorry, you made invalid choice!\n",
            "Please pass your choice from (0,1,2) 2\n"
          ]
        },
        {
          "output_type": "execute_result",
          "data": {
            "text/plain": [
              "2"
            ]
          },
          "metadata": {},
          "execution_count": 6
        }
      ]
    },
    {
      "cell_type": "code",
      "source": [
        "def choice_replacement(game_list, choice):\n",
        "  replacement = input('Enter the text to replace ')\n",
        "  game_list[choice] = replacement\n",
        "  return game_list"
      ],
      "metadata": {
        "id": "N4sqynxm_wg_"
      },
      "execution_count": 13,
      "outputs": []
    },
    {
      "cell_type": "code",
      "source": [
        "choice_replacement(game_list, 1)"
      ],
      "metadata": {
        "colab": {
          "base_uri": "https://localhost:8080/"
        },
        "id": "M2aMQsdNAaTD",
        "outputId": "aa47d6b2-1314-4686-9c17-adaca81e6786"
      },
      "execution_count": 14,
      "outputs": [
        {
          "name": "stdout",
          "output_type": "stream",
          "text": [
            "Enter the text to replace one\n"
          ]
        },
        {
          "output_type": "execute_result",
          "data": {
            "text/plain": [
              "[0, 'one', 'mychoice']"
            ]
          },
          "metadata": {},
          "execution_count": 14
        }
      ]
    },
    {
      "cell_type": "code",
      "source": [
        "def gameon_choice():\n",
        "  choice = 'NA'\n",
        "  while choice not in ['Y', 'N']:\n",
        "    choice = input('Would you like to continue/end (Y or N)? ')\n",
        "    if choice not in ['Y', 'N']:\n",
        "      print('Sorry, please make a valid call!')\n",
        "  if choice == 'Y':\n",
        "    return True\n",
        "  else:\n",
        "    print('Hope you enjoyed the game!')\n",
        "    return False"
      ],
      "metadata": {
        "id": "HiK72HDHAeUD"
      },
      "execution_count": 18,
      "outputs": []
    },
    {
      "cell_type": "code",
      "source": [
        "gameon_choice()"
      ],
      "metadata": {
        "colab": {
          "base_uri": "https://localhost:8080/"
        },
        "id": "XzQJCvJgBRTp",
        "outputId": "0c07f6dc-9027-47be-ce34-13cf413f8db2"
      },
      "execution_count": 19,
      "outputs": [
        {
          "name": "stdout",
          "output_type": "stream",
          "text": [
            "Would you like to continue/end (Y or N)? Y\n"
          ]
        },
        {
          "output_type": "execute_result",
          "data": {
            "text/plain": [
              "True"
            ]
          },
          "metadata": {},
          "execution_count": 19
        }
      ]
    },
    {
      "cell_type": "code",
      "source": [
        "# Now lets use these function to design our game\n",
        "game_on = True\n",
        "game_list = [0,1,2]\n",
        "\n",
        "while game_on:\n",
        "  # display list to user\n",
        "  display_list(game_list)\n",
        "  # make index choice\n",
        "  choice_idx = index_choice()\n",
        "  # replacement choice\n",
        "  game_list = choice_replacement(game_list, choice_idx)\n",
        "  print(game_list)\n",
        "  # to check if game continue / end\n",
        "  game_on = gameon_choice()"
      ],
      "metadata": {
        "colab": {
          "base_uri": "https://localhost:8080/"
        },
        "id": "ANU7UWrGBUJs",
        "outputId": "e6e09076-1bb2-4590-f5f7-c8f1328851de"
      },
      "execution_count": 20,
      "outputs": [
        {
          "output_type": "stream",
          "name": "stdout",
          "text": [
            "[0, 1, 2]\n",
            "Please pass your choice from (0,1,2) 2\n",
            "Enter the text to replace two\n",
            "[0, 1, 'two']\n",
            "Would you like to continue/end (Y or N)? N\n",
            "Hope you enjoyed the game!\n"
          ]
        }
      ]
    },
    {
      "cell_type": "markdown",
      "source": [
        "### `Lets extend this logic to create TIC TAC TOE game`"
      ],
      "metadata": {
        "id": "EpCAeJMZDs0_"
      }
    },
    {
      "cell_type": "code",
      "source": [],
      "metadata": {
        "id": "iKQsEwVUBwj5"
      },
      "execution_count": null,
      "outputs": []
    }
  ]
}