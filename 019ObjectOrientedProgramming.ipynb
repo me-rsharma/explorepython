{
  "nbformat": 4,
  "nbformat_minor": 0,
  "metadata": {
    "colab": {
      "provenance": [],
      "authorship_tag": "ABX9TyOWntl3x6tE9i67ulFnUIA2",
      "include_colab_link": true
    },
    "kernelspec": {
      "name": "python3",
      "display_name": "Python 3"
    },
    "language_info": {
      "name": "python"
    }
  },
  "cells": [
    {
      "cell_type": "markdown",
      "metadata": {
        "id": "view-in-github",
        "colab_type": "text"
      },
      "source": [
        "<a href=\"https://colab.research.google.com/github/me-rsharma/explorepython/blob/master/019ObjectOrientedProgramming.ipynb\" target=\"_parent\"><img src=\"https://colab.research.google.com/assets/colab-badge.svg\" alt=\"Open In Colab\"/></a>"
      ]
    },
    {
      "cell_type": "markdown",
      "source": [
        "## `OBJECT ORIENTED PROGRAMMING (OOPs)`\n",
        "\n",
        "`Object Oriented Programming is a pardigm of programming where we can define real life objects within code`\n",
        "\n",
        "`OOPs help us to define our custom objects and associate properties and behavior to the same`\n",
        "\n",
        "```python\n",
        "class ClassName():\n",
        "  def method_one(self):\n",
        "    # execution code\n",
        "\n",
        "  def method_two(self):\n",
        "    # execution code\n",
        "```"
      ],
      "metadata": {
        "id": "203mWkEhNw17"
      }
    },
    {
      "cell_type": "code",
      "source": [
        "# class is a blueprint of object. Class use to define the object"
      ],
      "metadata": {
        "id": "wnW5tHKqOud6"
      },
      "execution_count": null,
      "outputs": []
    },
    {
      "cell_type": "code",
      "execution_count": null,
      "metadata": {
        "id": "rnPu6-utNqCf"
      },
      "outputs": [],
      "source": [
        "class Sample():\n",
        "  pass"
      ]
    },
    {
      "cell_type": "code",
      "source": [
        "# creating object from class\n",
        "sample = Sample()"
      ],
      "metadata": {
        "id": "UguzE2I-PAPS"
      },
      "execution_count": null,
      "outputs": []
    },
    {
      "cell_type": "code",
      "source": [
        "class Vedas():\n",
        "  def __init__(self, name):\n",
        "    self.name = name"
      ],
      "metadata": {
        "id": "NDgh1qPGPEM3"
      },
      "execution_count": null,
      "outputs": []
    },
    {
      "cell_type": "code",
      "source": [
        "yajurveda = Vedas('Yajurveda')"
      ],
      "metadata": {
        "id": "fxO-fu4SPgK-"
      },
      "execution_count": null,
      "outputs": []
    },
    {
      "cell_type": "code",
      "source": [
        "yajurveda.name"
      ],
      "metadata": {
        "colab": {
          "base_uri": "https://localhost:8080/",
          "height": 35
        },
        "id": "joFzZniLPnWz",
        "outputId": "4a57fef4-1733-4256-c109-5239196efa15"
      },
      "execution_count": null,
      "outputs": [
        {
          "output_type": "execute_result",
          "data": {
            "text/plain": [
              "'Yajurveda'"
            ],
            "application/vnd.google.colaboratory.intrinsic+json": {
              "type": "string"
            }
          },
          "metadata": {},
          "execution_count": 6
        }
      ]
    },
    {
      "cell_type": "code",
      "source": [
        "rigveda = Vedas(name='Rigveda')"
      ],
      "metadata": {
        "id": "5n7Dik8bPpls"
      },
      "execution_count": null,
      "outputs": []
    },
    {
      "cell_type": "code",
      "source": [
        "rigveda.name"
      ],
      "metadata": {
        "colab": {
          "base_uri": "https://localhost:8080/",
          "height": 35
        },
        "id": "ECqCR4lvPw5G",
        "outputId": "4c667e97-7848-4f19-f2d9-c205aa7ad202"
      },
      "execution_count": null,
      "outputs": [
        {
          "output_type": "execute_result",
          "data": {
            "text/plain": [
              "'Rigveda'"
            ],
            "application/vnd.google.colaboratory.intrinsic+json": {
              "type": "string"
            }
          },
          "metadata": {},
          "execution_count": 8
        }
      ]
    },
    {
      "cell_type": "code",
      "source": [
        "type(rigveda)"
      ],
      "metadata": {
        "colab": {
          "base_uri": "https://localhost:8080/"
        },
        "id": "vdWhAFYzPyNp",
        "outputId": "a2ff0a7f-8b20-44c9-9127-ad8e1a55c5e1"
      },
      "execution_count": null,
      "outputs": [
        {
          "output_type": "execute_result",
          "data": {
            "text/plain": [
              "__main__.Vedas"
            ]
          },
          "metadata": {},
          "execution_count": 9
        }
      ]
    },
    {
      "cell_type": "code",
      "source": [
        "rigveda is Vedas"
      ],
      "metadata": {
        "colab": {
          "base_uri": "https://localhost:8080/"
        },
        "id": "wvL1qSK1P5MA",
        "outputId": "fa285364-454c-4c1e-93fb-ed50066f7e23"
      },
      "execution_count": null,
      "outputs": [
        {
          "output_type": "execute_result",
          "data": {
            "text/plain": [
              "False"
            ]
          },
          "metadata": {},
          "execution_count": 11
        }
      ]
    },
    {
      "cell_type": "code",
      "source": [
        "isinstance(rigveda, Vedas)"
      ],
      "metadata": {
        "colab": {
          "base_uri": "https://localhost:8080/"
        },
        "id": "rBRUizpDP7_h",
        "outputId": "0d47728f-2337-45b7-817d-1670633cad04"
      },
      "execution_count": null,
      "outputs": [
        {
          "output_type": "execute_result",
          "data": {
            "text/plain": [
              "True"
            ]
          },
          "metadata": {},
          "execution_count": 15
        }
      ]
    },
    {
      "cell_type": "code",
      "source": [
        "class Vedas():\n",
        "  # CLASS OBJECT ATTRIBUTES\n",
        "\n",
        "  # SAME FOR ALL INSTANCES OF CLASS and hence do not use self\n",
        "  composer = 'Bramha'\n",
        "\n",
        "  def __init__(self, name, verses):\n",
        "    self.name = name\n",
        "    self.verses = verses\n",
        "  \n",
        "  @staticmethod\n",
        "  def text_types(): # no self - important\n",
        "    types = ['Aranyakas', 'Brahmanas', 'Samhitas', 'Upanishads']\n",
        "    return types\n",
        "\n",
        "  def english_version(self):\n",
        "    if self.name.upper() == 'RIGVEDA':\n",
        "      return 'Mandalas'\n",
        "    elif self.name.upper() == 'SAMAVEDA':\n",
        "      return 'Song Knowledge'\n",
        "    elif self.name.upper() == 'YAJURVEDA':\n",
        "      return 'Ritual Knowledge'\n",
        "    else:\n",
        "      return 'Atharvan Knowledge'"
      ],
      "metadata": {
        "id": "jWeYdE-jQFxX"
      },
      "execution_count": null,
      "outputs": []
    },
    {
      "cell_type": "code",
      "source": [
        "rigveda = Vedas(name='Rigveda', verses=10600)"
      ],
      "metadata": {
        "id": "m0jNRz9NUiki"
      },
      "execution_count": null,
      "outputs": []
    },
    {
      "cell_type": "code",
      "source": [
        "rigveda.text_types()"
      ],
      "metadata": {
        "colab": {
          "base_uri": "https://localhost:8080/"
        },
        "id": "xNhqzpwSUhHq",
        "outputId": "60a098ec-585b-4928-9bf6-4c640f8dc7b8"
      },
      "execution_count": null,
      "outputs": [
        {
          "output_type": "execute_result",
          "data": {
            "text/plain": [
              "['Aranyakas', 'Brahmanas', 'Samhitas', 'Upanishads']"
            ]
          },
          "metadata": {},
          "execution_count": 36
        }
      ]
    },
    {
      "cell_type": "code",
      "source": [
        "rigveda.english_version()"
      ],
      "metadata": {
        "colab": {
          "base_uri": "https://localhost:8080/",
          "height": 35
        },
        "id": "Lj7q2F0nU0Kr",
        "outputId": "b4268234-10d1-492a-a415-17cc7af0ad30"
      },
      "execution_count": null,
      "outputs": [
        {
          "output_type": "execute_result",
          "data": {
            "text/plain": [
              "'Mandalas'"
            ],
            "application/vnd.google.colaboratory.intrinsic+json": {
              "type": "string"
            }
          },
          "metadata": {},
          "execution_count": 37
        }
      ]
    },
    {
      "cell_type": "code",
      "source": [
        "samaveda = Vedas(name='Samaveda', verses=1549)"
      ],
      "metadata": {
        "id": "ewvuGatNU2x4"
      },
      "execution_count": null,
      "outputs": []
    },
    {
      "cell_type": "code",
      "source": [
        "samaveda.text_types()"
      ],
      "metadata": {
        "colab": {
          "base_uri": "https://localhost:8080/"
        },
        "id": "3ycNmoJUVD2s",
        "outputId": "9fe475ae-c94f-4568-c05d-1eab3269d400"
      },
      "execution_count": null,
      "outputs": [
        {
          "output_type": "execute_result",
          "data": {
            "text/plain": [
              "['Aranyakas', 'Brahmanas', 'Samhitas', 'Upanishads']"
            ]
          },
          "metadata": {},
          "execution_count": 39
        }
      ]
    },
    {
      "cell_type": "code",
      "source": [
        "samaveda.english_version()"
      ],
      "metadata": {
        "colab": {
          "base_uri": "https://localhost:8080/",
          "height": 35
        },
        "id": "M14YJv4aVKBt",
        "outputId": "500d18eb-cc8f-4264-f1a9-9ccbb0e2aa06"
      },
      "execution_count": null,
      "outputs": [
        {
          "output_type": "execute_result",
          "data": {
            "text/plain": [
              "'Song Knowledge'"
            ],
            "application/vnd.google.colaboratory.intrinsic+json": {
              "type": "string"
            }
          },
          "metadata": {},
          "execution_count": 40
        }
      ]
    },
    {
      "cell_type": "code",
      "source": [
        "Vedas.text_types()"
      ],
      "metadata": {
        "colab": {
          "base_uri": "https://localhost:8080/"
        },
        "id": "LN8rlAWnVMwB",
        "outputId": "b253dc0a-87cf-40d2-9810-deba7e1a5653"
      },
      "execution_count": null,
      "outputs": [
        {
          "output_type": "execute_result",
          "data": {
            "text/plain": [
              "['Aranyakas', 'Brahmanas', 'Samhitas', 'Upanishads']"
            ]
          },
          "metadata": {},
          "execution_count": 41
        }
      ]
    },
    {
      "cell_type": "markdown",
      "source": [
        "## `Inheritance`\n",
        "\n",
        "- `Inheritance is way of forming new classes from already defined class`\n",
        "- `It helps in code reusability that already definded and tested`"
      ],
      "metadata": {
        "id": "NEqfgBDBXs5p"
      }
    },
    {
      "cell_type": "code",
      "source": [
        "class Rigveda(Vedas):\n",
        "  def __init__(self, hymns, name, verses):\n",
        "    Vedas.__init__(self, name, verses)\n",
        "    self.hymns = hymns"
      ],
      "metadata": {
        "id": "nBhyKw4aXJyt"
      },
      "execution_count": null,
      "outputs": []
    },
    {
      "cell_type": "code",
      "source": [
        "rigveda = Rigveda(hymns = 1024, name='Rigveda', verses=10600)"
      ],
      "metadata": {
        "id": "b8y8HwTGY2U_"
      },
      "execution_count": null,
      "outputs": []
    },
    {
      "cell_type": "code",
      "source": [
        "rigveda.name"
      ],
      "metadata": {
        "colab": {
          "base_uri": "https://localhost:8080/",
          "height": 35
        },
        "id": "5Y5CRkFYY8eC",
        "outputId": "e604d7ed-7cbe-4833-9c47-b01ae2ceb573"
      },
      "execution_count": null,
      "outputs": [
        {
          "output_type": "execute_result",
          "data": {
            "text/plain": [
              "'Rigveda'"
            ],
            "application/vnd.google.colaboratory.intrinsic+json": {
              "type": "string"
            }
          },
          "metadata": {},
          "execution_count": 51
        }
      ]
    },
    {
      "cell_type": "code",
      "source": [
        "rigveda.composer"
      ],
      "metadata": {
        "colab": {
          "base_uri": "https://localhost:8080/",
          "height": 35
        },
        "id": "KxGDqpjQY-Re",
        "outputId": "8e1c9fe1-ab62-4b36-b941-b22f8175f2ac"
      },
      "execution_count": null,
      "outputs": [
        {
          "output_type": "execute_result",
          "data": {
            "text/plain": [
              "'Bramha'"
            ],
            "application/vnd.google.colaboratory.intrinsic+json": {
              "type": "string"
            }
          },
          "metadata": {},
          "execution_count": 52
        }
      ]
    },
    {
      "cell_type": "code",
      "source": [
        "rigveda.text_types()"
      ],
      "metadata": {
        "colab": {
          "base_uri": "https://localhost:8080/"
        },
        "id": "pxNBXCoOaAsI",
        "outputId": "6633f3ff-7646-4031-85e5-38a14224e40a"
      },
      "execution_count": null,
      "outputs": [
        {
          "output_type": "execute_result",
          "data": {
            "text/plain": [
              "['Aranyakas', 'Brahmanas', 'Samhitas', 'Upanishads']"
            ]
          },
          "metadata": {},
          "execution_count": 53
        }
      ]
    },
    {
      "cell_type": "code",
      "source": [
        "Rigveda.text_types()"
      ],
      "metadata": {
        "colab": {
          "base_uri": "https://localhost:8080/"
        },
        "id": "vhMJPzuxaDvS",
        "outputId": "1ebaf521-38b2-44ae-c758-d81ba0d263b5"
      },
      "execution_count": null,
      "outputs": [
        {
          "output_type": "execute_result",
          "data": {
            "text/plain": [
              "['Aranyakas', 'Brahmanas', 'Samhitas', 'Upanishads']"
            ]
          },
          "metadata": {},
          "execution_count": 54
        }
      ]
    },
    {
      "cell_type": "code",
      "source": [
        "rigveda.english_version()"
      ],
      "metadata": {
        "id": "Zw5lu_zyaGgL",
        "outputId": "860162c9-f522-4aff-8d48-e0eacd561fb4",
        "colab": {
          "base_uri": "https://localhost:8080/",
          "height": 35
        }
      },
      "execution_count": null,
      "outputs": [
        {
          "output_type": "execute_result",
          "data": {
            "text/plain": [
              "'Mandalas'"
            ],
            "application/vnd.google.colaboratory.intrinsic+json": {
              "type": "string"
            }
          },
          "metadata": {},
          "execution_count": 55
        }
      ]
    },
    {
      "cell_type": "markdown",
      "source": [
        "## `Polymorphism`\n",
        "\n",
        "`Poly - many , morphism - form`\n",
        "\n",
        "`Polymorphism is a way in whihc different classes/object can share same method name`\n",
        "\n",
        "`Types of Polymorphism: `\n",
        "- `Compile time polymorphism - Method Overloading`\n",
        "- `Runtime Polymorphism - Method Overiding`"
      ],
      "metadata": {
        "id": "2qbheoCH4m9f"
      }
    },
    {
      "cell_type": "code",
      "source": [
        "class Flute():\n",
        "  def __init__(self, brand):\n",
        "    self.brand = brand\n",
        "\n",
        "  def play(self):\n",
        "    return 'soothing music.....'"
      ],
      "metadata": {
        "id": "ZH70rwB3aIwW"
      },
      "execution_count": null,
      "outputs": []
    },
    {
      "cell_type": "code",
      "source": [
        "class Mridanga():\n",
        "  def __init__(self, brand):\n",
        "    self.brand = brand\n",
        "\n",
        "  def play(self):\n",
        "    return 'loud music'"
      ],
      "metadata": {
        "id": "0ODjFgxUBahW"
      },
      "execution_count": null,
      "outputs": []
    },
    {
      "cell_type": "code",
      "source": [
        "fl = Flute('goloka')\n",
        "fl.play()"
      ],
      "metadata": {
        "colab": {
          "base_uri": "https://localhost:8080/",
          "height": 35
        },
        "id": "eLWQyKKGBsNG",
        "outputId": "ae2af6e6-1077-48d7-844f-e3ec3e5028ba"
      },
      "execution_count": null,
      "outputs": [
        {
          "output_type": "execute_result",
          "data": {
            "text/plain": [
              "'soothing music.....'"
            ],
            "application/vnd.google.colaboratory.intrinsic+json": {
              "type": "string"
            }
          },
          "metadata": {},
          "execution_count": 4
        }
      ]
    },
    {
      "cell_type": "code",
      "source": [
        "mr = Mridanga('goloka')\n",
        "mr.play()"
      ],
      "metadata": {
        "colab": {
          "base_uri": "https://localhost:8080/",
          "height": 35
        },
        "id": "XrIq6rERByJ3",
        "outputId": "3d71a81b-acc2-4a6f-f787-e3ee8ea0f238"
      },
      "execution_count": null,
      "outputs": [
        {
          "output_type": "execute_result",
          "data": {
            "text/plain": [
              "'loud music'"
            ],
            "application/vnd.google.colaboratory.intrinsic+json": {
              "type": "string"
            }
          },
          "metadata": {},
          "execution_count": 5
        }
      ]
    },
    {
      "cell_type": "code",
      "source": [
        "class MusicShop():\n",
        "  def __init__(self, shop_name):\n",
        "    self.shop_name = shop_name\n",
        "  \n",
        "  def item_stock(self):\n",
        "    return 'limited'"
      ],
      "metadata": {
        "id": "YFjyKjGYB8Sg"
      },
      "execution_count": null,
      "outputs": []
    },
    {
      "cell_type": "code",
      "source": [
        "class Harmonium(MusicShop):\n",
        "  def __init__(self, shop_name, brand):\n",
        "    MusicShop.__init__(self, shop_name)\n",
        "    self.brand = brand\n",
        "  \n",
        "  # item_Stock is overridden to show harmonium stock only\n",
        "  def item_stock(self):\n",
        "    return 'only 5'\n"
      ],
      "metadata": {
        "id": "r5PP1AhcDdN1"
      },
      "execution_count": null,
      "outputs": []
    },
    {
      "cell_type": "code",
      "source": [
        "music_shop = MusicShop('goloka')"
      ],
      "metadata": {
        "id": "LPAV92CKEBy2"
      },
      "execution_count": null,
      "outputs": []
    },
    {
      "cell_type": "code",
      "source": [
        "music_shop.item_stock()"
      ],
      "metadata": {
        "colab": {
          "base_uri": "https://localhost:8080/",
          "height": 35
        },
        "id": "TOSyAMMVEFdH",
        "outputId": "b897e51b-4c8a-492d-a403-d5f4ae3266cf"
      },
      "execution_count": null,
      "outputs": [
        {
          "output_type": "execute_result",
          "data": {
            "text/plain": [
              "'limited'"
            ],
            "application/vnd.google.colaboratory.intrinsic+json": {
              "type": "string"
            }
          },
          "metadata": {},
          "execution_count": 10
        }
      ]
    },
    {
      "cell_type": "code",
      "source": [
        "harmonium = Harmonium('goloka', 'barsana')"
      ],
      "metadata": {
        "id": "FfH9FtiQEL6W"
      },
      "execution_count": null,
      "outputs": []
    },
    {
      "cell_type": "code",
      "source": [
        "harmonium.item_stock()"
      ],
      "metadata": {
        "colab": {
          "base_uri": "https://localhost:8080/",
          "height": 35
        },
        "id": "wEylKjFsEVbz",
        "outputId": "caabbbdf-b1bd-4748-b8fc-9ddb85607526"
      },
      "execution_count": null,
      "outputs": [
        {
          "output_type": "execute_result",
          "data": {
            "text/plain": [
              "'only 5'"
            ],
            "application/vnd.google.colaboratory.intrinsic+json": {
              "type": "string"
            }
          },
          "metadata": {},
          "execution_count": 12
        }
      ]
    },
    {
      "cell_type": "markdown",
      "source": [
        "## `Abstract Class`"
      ],
      "metadata": {
        "id": "p1l68UfPFq1R"
      }
    },
    {
      "cell_type": "markdown",
      "source": [
        "## `Special / Dunder Methods`"
      ],
      "metadata": {
        "id": "w_pibFJxFwuL"
      }
    },
    {
      "cell_type": "code",
      "source": [
        "len(list(range(6)))"
      ],
      "metadata": {
        "colab": {
          "base_uri": "https://localhost:8080/"
        },
        "id": "6GKywSFAEX6t",
        "outputId": "687d1814-5ca1-481e-b969-781fe72a7324"
      },
      "execution_count": null,
      "outputs": [
        {
          "output_type": "execute_result",
          "data": {
            "text/plain": [
              "6"
            ]
          },
          "metadata": {},
          "execution_count": 13
        }
      ]
    },
    {
      "cell_type": "code",
      "source": [
        "class Book():\n",
        "  pass"
      ],
      "metadata": {
        "id": "T1E3VyjUF-kT"
      },
      "execution_count": null,
      "outputs": []
    },
    {
      "cell_type": "code",
      "source": [
        "# lets try len on custom class Box\n",
        "book = Book()"
      ],
      "metadata": {
        "id": "AW0pvYRQGBRM"
      },
      "execution_count": null,
      "outputs": []
    },
    {
      "cell_type": "code",
      "source": [
        "len(book)"
      ],
      "metadata": {
        "colab": {
          "base_uri": "https://localhost:8080/",
          "height": 164
        },
        "id": "j-WcG5Q_GHkZ",
        "outputId": "e20c114f-1cc5-406d-9153-1f3c7b071d9b"
      },
      "execution_count": null,
      "outputs": [
        {
          "output_type": "error",
          "ename": "TypeError",
          "evalue": "ignored",
          "traceback": [
            "\u001b[0;31m---------------------------------------------------------------------------\u001b[0m",
            "\u001b[0;31mTypeError\u001b[0m                                 Traceback (most recent call last)",
            "\u001b[0;32m<ipython-input-22-4a610d09afa0>\u001b[0m in \u001b[0;36m<module>\u001b[0;34m\u001b[0m\n\u001b[0;32m----> 1\u001b[0;31m \u001b[0mlen\u001b[0m\u001b[0;34m(\u001b[0m\u001b[0mbook\u001b[0m\u001b[0;34m)\u001b[0m\u001b[0;34m\u001b[0m\u001b[0;34m\u001b[0m\u001b[0m\n\u001b[0m",
            "\u001b[0;31mTypeError\u001b[0m: object of type 'Book' has no len()"
          ]
        }
      ]
    },
    {
      "cell_type": "code",
      "source": [
        "# lets define len() to Book\n",
        "class Book():\n",
        "  def __init__(self, title,author, pages):\n",
        "    self.title = title\n",
        "    self.author = author\n",
        "    self.pages = pages\n",
        "\n",
        "  def __len__(self):\n",
        "    return self.pages\n",
        "\n",
        "  def __str__(self):\n",
        "    return f'{self.title} by {self.author}'\n",
        "\n",
        "  def __del__(self):\n",
        "    print('A book object has been deleted')"
      ],
      "metadata": {
        "id": "UmpDkJKJGI-7"
      },
      "execution_count": null,
      "outputs": []
    },
    {
      "cell_type": "code",
      "source": [
        "#now if I do \n",
        "book = Book('Dynamic Programming', ' Angelia Hue', 300)"
      ],
      "metadata": {
        "id": "Qlz9uAlxHJaC"
      },
      "execution_count": null,
      "outputs": []
    },
    {
      "cell_type": "code",
      "source": [
        "len(book)"
      ],
      "metadata": {
        "colab": {
          "base_uri": "https://localhost:8080/"
        },
        "id": "c77F8dHdHRHI",
        "outputId": "7f97e3f5-d775-433c-e490-e4e0c11a5cc6"
      },
      "execution_count": null,
      "outputs": [
        {
          "output_type": "execute_result",
          "data": {
            "text/plain": [
              "300"
            ]
          },
          "metadata": {},
          "execution_count": 32
        }
      ]
    },
    {
      "cell_type": "code",
      "source": [
        "book"
      ],
      "metadata": {
        "colab": {
          "base_uri": "https://localhost:8080/"
        },
        "id": "axt7TwrDHTcX",
        "outputId": "08dd8e18-3d9b-4e01-c4c3-3f3399646f0e"
      },
      "execution_count": null,
      "outputs": [
        {
          "output_type": "execute_result",
          "data": {
            "text/plain": [
              "<__main__.Book at 0x7fea8a78a2d0>"
            ]
          },
          "metadata": {},
          "execution_count": 33
        }
      ]
    },
    {
      "cell_type": "code",
      "source": [
        "print(book)"
      ],
      "metadata": {
        "colab": {
          "base_uri": "https://localhost:8080/"
        },
        "id": "Y87vYd81HWeA",
        "outputId": "eda3097c-3874-49db-d239-9b37267142e2"
      },
      "execution_count": null,
      "outputs": [
        {
          "output_type": "stream",
          "name": "stdout",
          "text": [
            "Dynamic Programming by  Angelia Hue\n"
          ]
        }
      ]
    },
    {
      "cell_type": "code",
      "source": [
        "del book"
      ],
      "metadata": {
        "id": "LjuMRlSoHfjP"
      },
      "execution_count": null,
      "outputs": []
    },
    {
      "cell_type": "code",
      "source": [],
      "metadata": {
        "id": "hQT9rkosHhXH"
      },
      "execution_count": null,
      "outputs": []
    }
  ]
}