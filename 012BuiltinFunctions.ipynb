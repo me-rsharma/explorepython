{
  "nbformat": 4,
  "nbformat_minor": 0,
  "metadata": {
    "colab": {
      "provenance": [],
      "authorship_tag": "ABX9TyOIBy0PjwAs4f9ZHlv8ardy",
      "include_colab_link": true
    },
    "kernelspec": {
      "name": "python3",
      "display_name": "Python 3"
    },
    "language_info": {
      "name": "python"
    }
  },
  "cells": [
    {
      "cell_type": "markdown",
      "metadata": {
        "id": "view-in-github",
        "colab_type": "text"
      },
      "source": [
        "<a href=\"https://colab.research.google.com/github/me-rsharma/explorepython/blob/master/012BuiltinFunctions.ipynb\" target=\"_parent\"><img src=\"https://colab.research.google.com/assets/colab-badge.svg\" alt=\"Open In Colab\"/></a>"
      ]
    },
    {
      "cell_type": "markdown",
      "source": [
        "### `range`\n",
        "\n",
        "`range() operator is used to define the range of numbers`"
      ],
      "metadata": {
        "id": "f_lGEpWs6w8F"
      }
    },
    {
      "cell_type": "code",
      "execution_count": 2,
      "metadata": {
        "colab": {
          "base_uri": "https://localhost:8080/"
        },
        "id": "r6klhAog6sCe",
        "outputId": "50e0a138-0dea-46da-c918-7dbf8945cb3d"
      },
      "outputs": [
        {
          "output_type": "execute_result",
          "data": {
            "text/plain": [
              "range(0, 5)"
            ]
          },
          "metadata": {},
          "execution_count": 2
        }
      ],
      "source": [
        "range(0, 5) ## its a generator which generate numbers w/o saving in memory"
      ]
    },
    {
      "cell_type": "code",
      "source": [
        "list(range(0,5))"
      ],
      "metadata": {
        "colab": {
          "base_uri": "https://localhost:8080/"
        },
        "id": "lotfhE446_OZ",
        "outputId": "ae8f9a01-7d3f-4df2-f1e9-30f9a687f23b"
      },
      "execution_count": 4,
      "outputs": [
        {
          "output_type": "execute_result",
          "data": {
            "text/plain": [
              "[0, 1, 2, 3, 4]"
            ]
          },
          "metadata": {},
          "execution_count": 4
        }
      ]
    },
    {
      "cell_type": "code",
      "source": [
        "for i in range(2, 10, 2):\n",
        "  print(i)"
      ],
      "metadata": {
        "colab": {
          "base_uri": "https://localhost:8080/"
        },
        "id": "Pyr-306v7MMm",
        "outputId": "8743ff00-00df-45a2-a6b1-9388d654e15e"
      },
      "execution_count": 5,
      "outputs": [
        {
          "output_type": "stream",
          "name": "stdout",
          "text": [
            "2\n",
            "4\n",
            "6\n",
            "8\n"
          ]
        }
      ]
    },
    {
      "cell_type": "markdown",
      "source": [
        "### `enumerate()`\n",
        "\n",
        "`return index with value from iterables`"
      ],
      "metadata": {
        "id": "yJ-2KmcY7eH6"
      }
    },
    {
      "cell_type": "code",
      "source": [
        "index_count = 0\n",
        "\n",
        "for letter in 'srimad bhagvatam':\n",
        "  print(f'index of {letter} is {index_count}')\n",
        "  index_count+=1"
      ],
      "metadata": {
        "colab": {
          "base_uri": "https://localhost:8080/"
        },
        "id": "p8Rz1wdj7Zei",
        "outputId": "52dbc1ae-e108-4f24-a1c5-3a83fd4831a4"
      },
      "execution_count": 6,
      "outputs": [
        {
          "output_type": "stream",
          "name": "stdout",
          "text": [
            "index of s is 0\n",
            "index of r is 1\n",
            "index of i is 2\n",
            "index of m is 3\n",
            "index of a is 4\n",
            "index of d is 5\n",
            "index of   is 6\n",
            "index of b is 7\n",
            "index of h is 8\n",
            "index of a is 9\n",
            "index of g is 10\n",
            "index of v is 11\n",
            "index of a is 12\n",
            "index of t is 13\n",
            "index of a is 14\n",
            "index of m is 15\n"
          ]
        }
      ]
    },
    {
      "cell_type": "code",
      "source": [
        "# Same we can achieve using enumerator\n",
        "for idx, value in enumerate('srimad bhagvatam'):\n",
        "  print(idx, value)"
      ],
      "metadata": {
        "colab": {
          "base_uri": "https://localhost:8080/"
        },
        "id": "PEpRY9uc7-7p",
        "outputId": "de4815ce-fd61-4f17-95b5-8ceb7baf9ea1"
      },
      "execution_count": 7,
      "outputs": [
        {
          "output_type": "stream",
          "name": "stdout",
          "text": [
            "0 s\n",
            "1 r\n",
            "2 i\n",
            "3 m\n",
            "4 a\n",
            "5 d\n",
            "6  \n",
            "7 b\n",
            "8 h\n",
            "9 a\n",
            "10 g\n",
            "11 v\n",
            "12 a\n",
            "13 t\n",
            "14 a\n",
            "15 m\n"
          ]
        }
      ]
    },
    {
      "cell_type": "markdown",
      "source": [
        "### `zip()`\n",
        "\n",
        "`its oppsosite of enumerate - zip together with lists having index and values`"
      ],
      "metadata": {
        "id": "TrpyaX-B8Y6Q"
      }
    },
    {
      "cell_type": "code",
      "source": [
        "idx_list = [1,2,3,4,5]\n",
        "idx_value = ['Cow', 'Flute', 'Feather', 'Friends', 'Tulsi']"
      ],
      "metadata": {
        "id": "F4qW9nvF8O9V"
      },
      "execution_count": 8,
      "outputs": []
    },
    {
      "cell_type": "code",
      "source": [
        "for item in zip(idx_list, idx_value):\n",
        "  print(item)"
      ],
      "metadata": {
        "colab": {
          "base_uri": "https://localhost:8080/"
        },
        "id": "ePk-t18O80vt",
        "outputId": "929b2b4d-0d49-4083-de65-cae47720b68f"
      },
      "execution_count": 9,
      "outputs": [
        {
          "output_type": "stream",
          "name": "stdout",
          "text": [
            "(1, 'Cow')\n",
            "(2, 'Flute')\n",
            "(3, 'Feather')\n",
            "(4, 'Friends')\n",
            "(5, 'Tulsi')\n"
          ]
        }
      ]
    },
    {
      "cell_type": "code",
      "source": [
        "idx_list = [1,2,3,4,5]\n",
        "idx_value = ['Cow', 'Flute', 'Feather', 'Friends', 'Tulsi']\n",
        "idx_gopis = ['Lalita', 'Vishakha', 'Chandralata', 'Radha', 'Yamuna']"
      ],
      "metadata": {
        "id": "pG6xSPsc8_Yr"
      },
      "execution_count": 10,
      "outputs": []
    },
    {
      "cell_type": "code",
      "source": [
        "for item in zip(idx_list, idx_value, idx_gopis):\n",
        "  print(item)"
      ],
      "metadata": {
        "colab": {
          "base_uri": "https://localhost:8080/"
        },
        "id": "30UbIBNI9MgC",
        "outputId": "7e08ed3d-8347-41f6-b126-f558a802f731"
      },
      "execution_count": 11,
      "outputs": [
        {
          "output_type": "stream",
          "name": "stdout",
          "text": [
            "(1, 'Cow', 'Lalita')\n",
            "(2, 'Flute', 'Vishakha')\n",
            "(3, 'Feather', 'Chandralata')\n",
            "(4, 'Friends', 'Radha')\n",
            "(5, 'Tulsi', 'Yamuna')\n"
          ]
        }
      ]
    },
    {
      "cell_type": "code",
      "source": [
        "# we can unpack since xip return tuple\n",
        "for id, value, gopi in zip(idx_list, idx_value, idx_gopis):\n",
        "  print(id, value, gopi)"
      ],
      "metadata": {
        "colab": {
          "base_uri": "https://localhost:8080/"
        },
        "id": "2_9CVY4Q9TzH",
        "outputId": "a1fad02b-1647-40e0-cda9-69bc9ee20cf8"
      },
      "execution_count": 12,
      "outputs": [
        {
          "output_type": "stream",
          "name": "stdout",
          "text": [
            "1 Cow Lalita\n",
            "2 Flute Vishakha\n",
            "3 Feather Chandralata\n",
            "4 Friends Radha\n",
            "5 Tulsi Yamuna\n"
          ]
        }
      ]
    },
    {
      "cell_type": "markdown",
      "source": [
        "### `max & min`\n",
        "\n",
        "`return the maximum & minimum value from iterables`"
      ],
      "metadata": {
        "id": "ITibWFr7-Vsy"
      }
    },
    {
      "cell_type": "code",
      "source": [
        "numbers = list(range(2,19,5))"
      ],
      "metadata": {
        "id": "K9SW0gOP9d9y"
      },
      "execution_count": 13,
      "outputs": []
    },
    {
      "cell_type": "code",
      "source": [
        "max(numbers)"
      ],
      "metadata": {
        "colab": {
          "base_uri": "https://localhost:8080/"
        },
        "id": "pXPRBHWn-qKq",
        "outputId": "21b4eb01-05c1-4e97-a2e8-40319314b247"
      },
      "execution_count": 14,
      "outputs": [
        {
          "output_type": "execute_result",
          "data": {
            "text/plain": [
              "17"
            ]
          },
          "metadata": {},
          "execution_count": 14
        }
      ]
    },
    {
      "cell_type": "code",
      "source": [
        "min(numbers)"
      ],
      "metadata": {
        "colab": {
          "base_uri": "https://localhost:8080/"
        },
        "id": "9zvpNDo7-rb4",
        "outputId": "db3ca739-02f0-4b6a-eec1-50b972837e82"
      },
      "execution_count": 15,
      "outputs": [
        {
          "output_type": "execute_result",
          "data": {
            "text/plain": [
              "2"
            ]
          },
          "metadata": {},
          "execution_count": 15
        }
      ]
    },
    {
      "cell_type": "code",
      "source": [
        "numbers = tuple(range(2,19,5))"
      ],
      "metadata": {
        "id": "uRRDGfCK-tZg"
      },
      "execution_count": 16,
      "outputs": []
    },
    {
      "cell_type": "code",
      "source": [
        "numbers"
      ],
      "metadata": {
        "colab": {
          "base_uri": "https://localhost:8080/"
        },
        "id": "4jo13uUn-x-h",
        "outputId": "c5328b34-398b-4ae9-cbec-78d492dfa33c"
      },
      "execution_count": 17,
      "outputs": [
        {
          "output_type": "execute_result",
          "data": {
            "text/plain": [
              "(2, 7, 12, 17)"
            ]
          },
          "metadata": {},
          "execution_count": 17
        }
      ]
    },
    {
      "cell_type": "code",
      "source": [
        "max(numbers)"
      ],
      "metadata": {
        "colab": {
          "base_uri": "https://localhost:8080/"
        },
        "id": "39HBCAbw-zoh",
        "outputId": "efa12f89-64f2-4a60-b09c-1dd6c74664a6"
      },
      "execution_count": 18,
      "outputs": [
        {
          "output_type": "execute_result",
          "data": {
            "text/plain": [
              "17"
            ]
          },
          "metadata": {},
          "execution_count": 18
        }
      ]
    },
    {
      "cell_type": "code",
      "source": [
        "min(numbers)"
      ],
      "metadata": {
        "colab": {
          "base_uri": "https://localhost:8080/"
        },
        "id": "Icwl-yoF-2XB",
        "outputId": "e3c79b0d-0c3b-441c-e847-bd36eb34372d"
      },
      "execution_count": 19,
      "outputs": [
        {
          "output_type": "execute_result",
          "data": {
            "text/plain": [
              "2"
            ]
          },
          "metadata": {},
          "execution_count": 19
        }
      ]
    },
    {
      "cell_type": "code",
      "source": [
        "numbers = set(range(2,19,5))"
      ],
      "metadata": {
        "id": "DCRc6oG4-3vv"
      },
      "execution_count": 20,
      "outputs": []
    },
    {
      "cell_type": "code",
      "source": [
        "numbers"
      ],
      "metadata": {
        "colab": {
          "base_uri": "https://localhost:8080/"
        },
        "id": "G5BU_hP9-6IM",
        "outputId": "1499cc82-c5c2-4f5c-9cb2-4730d532b022"
      },
      "execution_count": 21,
      "outputs": [
        {
          "output_type": "execute_result",
          "data": {
            "text/plain": [
              "{2, 7, 12, 17}"
            ]
          },
          "metadata": {},
          "execution_count": 21
        }
      ]
    },
    {
      "cell_type": "code",
      "source": [
        "max(numbers)"
      ],
      "metadata": {
        "colab": {
          "base_uri": "https://localhost:8080/"
        },
        "id": "d06wjhci-8Kv",
        "outputId": "0eb6e0ae-d948-4422-ca83-bdcfe7357216"
      },
      "execution_count": 22,
      "outputs": [
        {
          "output_type": "execute_result",
          "data": {
            "text/plain": [
              "17"
            ]
          },
          "metadata": {},
          "execution_count": 22
        }
      ]
    },
    {
      "cell_type": "code",
      "source": [
        "min(numbers)"
      ],
      "metadata": {
        "colab": {
          "base_uri": "https://localhost:8080/"
        },
        "id": "IkdlsFb_-_Kv",
        "outputId": "e08afd03-268a-411d-c881-d78e71bf8406"
      },
      "execution_count": 23,
      "outputs": [
        {
          "output_type": "execute_result",
          "data": {
            "text/plain": [
              "2"
            ]
          },
          "metadata": {},
          "execution_count": 23
        }
      ]
    },
    {
      "cell_type": "code",
      "source": [
        "team_goals = {\n",
        "    'A' : 10,\n",
        "    'B' : 2,\n",
        "    'C' : 8\n",
        "}"
      ],
      "metadata": {
        "id": "3YTPlPrx_AiL"
      },
      "execution_count": 24,
      "outputs": []
    },
    {
      "cell_type": "code",
      "source": [
        "max(team_goals)"
      ],
      "metadata": {
        "colab": {
          "base_uri": "https://localhost:8080/",
          "height": 35
        },
        "id": "b_1RbPes_KEs",
        "outputId": "798ff9ba-3ac5-4c84-ab71-60a989fb84af"
      },
      "execution_count": 25,
      "outputs": [
        {
          "output_type": "execute_result",
          "data": {
            "text/plain": [
              "'C'"
            ],
            "application/vnd.google.colaboratory.intrinsic+json": {
              "type": "string"
            }
          },
          "metadata": {},
          "execution_count": 25
        }
      ]
    },
    {
      "cell_type": "code",
      "source": [
        "min(team_goals)"
      ],
      "metadata": {
        "colab": {
          "base_uri": "https://localhost:8080/",
          "height": 35
        },
        "id": "x0YEuYTK_L-H",
        "outputId": "07c40d2d-a3b6-42b6-86ff-7d8cc726a5bb"
      },
      "execution_count": 26,
      "outputs": [
        {
          "output_type": "execute_result",
          "data": {
            "text/plain": [
              "'A'"
            ],
            "application/vnd.google.colaboratory.intrinsic+json": {
              "type": "string"
            }
          },
          "metadata": {},
          "execution_count": 26
        }
      ]
    },
    {
      "cell_type": "markdown",
      "source": [
        "### `suffle`\n",
        "\n",
        "`shuffle the list inplace`"
      ],
      "metadata": {
        "id": "Sju-2sUP_ZH4"
      }
    },
    {
      "cell_type": "code",
      "source": [
        "from random import shuffle"
      ],
      "metadata": {
        "id": "wRFKef1E_OPr"
      },
      "execution_count": 27,
      "outputs": []
    },
    {
      "cell_type": "code",
      "source": [
        "numbers = list(range(2,10))"
      ],
      "metadata": {
        "id": "M0cbyB4z_la2"
      },
      "execution_count": 28,
      "outputs": []
    },
    {
      "cell_type": "code",
      "source": [
        "shuffle(numbers) # NOTE: Make sure to pass only mutable iterables and ordered"
      ],
      "metadata": {
        "id": "RrH1gumd_rj5"
      },
      "execution_count": 29,
      "outputs": []
    },
    {
      "cell_type": "code",
      "source": [
        "numbers"
      ],
      "metadata": {
        "colab": {
          "base_uri": "https://localhost:8080/"
        },
        "id": "NIP_2SQF_vbU",
        "outputId": "5fe824a9-cc38-447b-c2fb-65baaa87135b"
      },
      "execution_count": 30,
      "outputs": [
        {
          "output_type": "execute_result",
          "data": {
            "text/plain": [
              "[6, 8, 4, 5, 9, 2, 7, 3]"
            ]
          },
          "metadata": {},
          "execution_count": 30
        }
      ]
    },
    {
      "cell_type": "code",
      "source": [
        "shuffle(tuple(range(5)))"
      ],
      "metadata": {
        "colab": {
          "base_uri": "https://localhost:8080/",
          "height": 286
        },
        "id": "NvYncvEv_wgX",
        "outputId": "066bf810-e68b-4d1a-8d00-015d3ac434de"
      },
      "execution_count": 32,
      "outputs": [
        {
          "output_type": "error",
          "ename": "TypeError",
          "evalue": "ignored",
          "traceback": [
            "\u001b[0;31m---------------------------------------------------------------------------\u001b[0m",
            "\u001b[0;31mTypeError\u001b[0m                                 Traceback (most recent call last)",
            "\u001b[0;32m<ipython-input-32-ac9b7fa04ed2>\u001b[0m in \u001b[0;36m<module>\u001b[0;34m\u001b[0m\n\u001b[0;32m----> 1\u001b[0;31m \u001b[0mshuffle\u001b[0m\u001b[0;34m(\u001b[0m\u001b[0mtuple\u001b[0m\u001b[0;34m(\u001b[0m\u001b[0mrange\u001b[0m\u001b[0;34m(\u001b[0m\u001b[0;36m5\u001b[0m\u001b[0;34m)\u001b[0m\u001b[0;34m)\u001b[0m\u001b[0;34m)\u001b[0m\u001b[0;34m\u001b[0m\u001b[0;34m\u001b[0m\u001b[0m\n\u001b[0m",
            "\u001b[0;32m/usr/lib/python3.7/random.py\u001b[0m in \u001b[0;36mshuffle\u001b[0;34m(self, x, random)\u001b[0m\n\u001b[1;32m    276\u001b[0m                 \u001b[0;31m# pick an element in x[:i+1] with which to exchange x[i]\u001b[0m\u001b[0;34m\u001b[0m\u001b[0;34m\u001b[0m\u001b[0;34m\u001b[0m\u001b[0m\n\u001b[1;32m    277\u001b[0m                 \u001b[0mj\u001b[0m \u001b[0;34m=\u001b[0m \u001b[0mrandbelow\u001b[0m\u001b[0;34m(\u001b[0m\u001b[0mi\u001b[0m\u001b[0;34m+\u001b[0m\u001b[0;36m1\u001b[0m\u001b[0;34m)\u001b[0m\u001b[0;34m\u001b[0m\u001b[0;34m\u001b[0m\u001b[0m\n\u001b[0;32m--> 278\u001b[0;31m                 \u001b[0mx\u001b[0m\u001b[0;34m[\u001b[0m\u001b[0mi\u001b[0m\u001b[0;34m]\u001b[0m\u001b[0;34m,\u001b[0m \u001b[0mx\u001b[0m\u001b[0;34m[\u001b[0m\u001b[0mj\u001b[0m\u001b[0;34m]\u001b[0m \u001b[0;34m=\u001b[0m \u001b[0mx\u001b[0m\u001b[0;34m[\u001b[0m\u001b[0mj\u001b[0m\u001b[0;34m]\u001b[0m\u001b[0;34m,\u001b[0m \u001b[0mx\u001b[0m\u001b[0;34m[\u001b[0m\u001b[0mi\u001b[0m\u001b[0;34m]\u001b[0m\u001b[0;34m\u001b[0m\u001b[0;34m\u001b[0m\u001b[0m\n\u001b[0m\u001b[1;32m    279\u001b[0m         \u001b[0;32melse\u001b[0m\u001b[0;34m:\u001b[0m\u001b[0;34m\u001b[0m\u001b[0;34m\u001b[0m\u001b[0m\n\u001b[1;32m    280\u001b[0m             \u001b[0m_int\u001b[0m \u001b[0;34m=\u001b[0m \u001b[0mint\u001b[0m\u001b[0;34m\u001b[0m\u001b[0;34m\u001b[0m\u001b[0m\n",
            "\u001b[0;31mTypeError\u001b[0m: 'tuple' object does not support item assignment"
          ]
        }
      ]
    },
    {
      "cell_type": "code",
      "source": [
        "set(range(6))"
      ],
      "metadata": {
        "colab": {
          "base_uri": "https://localhost:8080/"
        },
        "id": "FeCPguIu_8Pi",
        "outputId": "34a10cea-0dd1-4ced-cdba-518a543d7008"
      },
      "execution_count": 33,
      "outputs": [
        {
          "output_type": "execute_result",
          "data": {
            "text/plain": [
              "{0, 1, 2, 3, 4, 5}"
            ]
          },
          "metadata": {},
          "execution_count": 33
        }
      ]
    },
    {
      "cell_type": "markdown",
      "source": [
        "### `randint`\n",
        "\n",
        "`return random integers`\n"
      ],
      "metadata": {
        "id": "LrsKlhIFAWqj"
      }
    },
    {
      "cell_type": "code",
      "source": [
        "from random import randint"
      ],
      "metadata": {
        "id": "w5yLJzj1AJGD"
      },
      "execution_count": 34,
      "outputs": []
    },
    {
      "cell_type": "code",
      "source": [
        "randint(2,9)"
      ],
      "metadata": {
        "colab": {
          "base_uri": "https://localhost:8080/"
        },
        "id": "Mr69QFgmAhS3",
        "outputId": "e188b46f-c463-4d0c-8458-cd7e6671a87a"
      },
      "execution_count": 37,
      "outputs": [
        {
          "output_type": "execute_result",
          "data": {
            "text/plain": [
              "6"
            ]
          },
          "metadata": {},
          "execution_count": 37
        }
      ]
    },
    {
      "cell_type": "code",
      "source": [
        "randint(7,15) # random int between 7 and 15"
      ],
      "metadata": {
        "colab": {
          "base_uri": "https://localhost:8080/"
        },
        "id": "mqipBYFNAiWf",
        "outputId": "1423826e-4ad0-40a6-a10d-adaaaa8fef0d"
      },
      "execution_count": 40,
      "outputs": [
        {
          "output_type": "execute_result",
          "data": {
            "text/plain": [
              "14"
            ]
          },
          "metadata": {},
          "execution_count": 40
        }
      ]
    },
    {
      "cell_type": "markdown",
      "source": [
        "### `input()`\n",
        "\n",
        "`to pass input from keyboard/input device`\n",
        "\n",
        "`always accept input as string`"
      ],
      "metadata": {
        "id": "U23tUZt3A1RA"
      }
    },
    {
      "cell_type": "code",
      "source": [
        "input('Enter your input: ')"
      ],
      "metadata": {
        "colab": {
          "base_uri": "https://localhost:8080/",
          "height": 52
        },
        "id": "vn_cDh06AtgK",
        "outputId": "077d5acb-ff94-418d-c324-1624ef6d5b02"
      },
      "execution_count": 41,
      "outputs": [
        {
          "name": "stdout",
          "output_type": "stream",
          "text": [
            "Enter your input: 12\n"
          ]
        },
        {
          "output_type": "execute_result",
          "data": {
            "text/plain": [
              "'12'"
            ],
            "application/vnd.google.colaboratory.intrinsic+json": {
              "type": "string"
            }
          },
          "metadata": {},
          "execution_count": 41
        }
      ]
    },
    {
      "cell_type": "code",
      "source": [
        "num_one = input('Enter num one: ')\n",
        "num_two = input('Enter num two: ')\n",
        "num_one + num_two"
      ],
      "metadata": {
        "colab": {
          "base_uri": "https://localhost:8080/",
          "height": 70
        },
        "id": "f5wVD8MIBKC7",
        "outputId": "6cd08ecf-16e7-4ef3-f8e4-5a0a6e599fcf"
      },
      "execution_count": 43,
      "outputs": [
        {
          "name": "stdout",
          "output_type": "stream",
          "text": [
            "Enter num one: 12\n",
            "Enter num two: 12\n"
          ]
        },
        {
          "output_type": "execute_result",
          "data": {
            "text/plain": [
              "'1212'"
            ],
            "application/vnd.google.colaboratory.intrinsic+json": {
              "type": "string"
            }
          },
          "metadata": {},
          "execution_count": 43
        }
      ]
    },
    {
      "cell_type": "code",
      "source": [
        "num_one = int(input('Enter num one: '))\n",
        "num_two = int(input('Enter num two: '))\n",
        "num_one + num_two"
      ],
      "metadata": {
        "colab": {
          "base_uri": "https://localhost:8080/"
        },
        "id": "onplSta5BVLe",
        "outputId": "87a7778e-fe24-40c9-84f3-6a45e49c45cf"
      },
      "execution_count": 44,
      "outputs": [
        {
          "name": "stdout",
          "output_type": "stream",
          "text": [
            "Enter num one: 12\n",
            "Enter num two: 23\n"
          ]
        },
        {
          "output_type": "execute_result",
          "data": {
            "text/plain": [
              "35"
            ]
          },
          "metadata": {},
          "execution_count": 44
        }
      ]
    },
    {
      "cell_type": "code",
      "source": [],
      "metadata": {
        "id": "u1IsNUs8Bf6o"
      },
      "execution_count": null,
      "outputs": []
    }
  ]
}