{
  "nbformat": 4,
  "nbformat_minor": 0,
  "metadata": {
    "colab": {
      "provenance": [],
      "authorship_tag": "ABX9TyNqKJt3Mh6uMyen/47aKvXC",
      "include_colab_link": true
    },
    "kernelspec": {
      "name": "python3",
      "display_name": "Python 3"
    },
    "language_info": {
      "name": "python"
    }
  },
  "cells": [
    {
      "cell_type": "markdown",
      "metadata": {
        "id": "view-in-github",
        "colab_type": "text"
      },
      "source": [
        "<a href=\"https://colab.research.google.com/github/me-rsharma/explorepython/blob/master/008LogicalOperators.ipynb\" target=\"_parent\"><img src=\"https://colab.research.google.com/assets/colab-badge.svg\" alt=\"Open In Colab\"/></a>"
      ]
    },
    {
      "cell_type": "markdown",
      "source": [
        "## `Logical Operators`\n",
        "\n",
        "`Logical operators are mostly used to chain operators`\n",
        "\n",
        "`and` `or` `not` "
      ],
      "metadata": {
        "id": "0fN5A9mMjUol"
      }
    },
    {
      "cell_type": "code",
      "execution_count": 1,
      "metadata": {
        "colab": {
          "base_uri": "https://localhost:8080/"
        },
        "id": "HqidMH34tv_S",
        "outputId": "11515961-4586-4423-b950-52bf5b696d4c"
      },
      "outputs": [
        {
          "output_type": "execute_result",
          "data": {
            "text/plain": [
              "False"
            ]
          },
          "metadata": {},
          "execution_count": 1
        }
      ],
      "source": [
        "# and operator\n",
        "x = 20 \n",
        "y = 40\n",
        "\n",
        "x > y and y > 100"
      ]
    },
    {
      "cell_type": "code",
      "source": [
        "# Here if the left expression is false it will not validate right"
      ],
      "metadata": {
        "id": "_R7uQ4Zvjrij"
      },
      "execution_count": 2,
      "outputs": []
    },
    {
      "cell_type": "code",
      "source": [
        "x > y or y > 30"
      ],
      "metadata": {
        "colab": {
          "base_uri": "https://localhost:8080/"
        },
        "id": "EX4sN3Fyj3b4",
        "outputId": "34a9a6ce-48b5-48ea-9a1c-9dd1466ddc60"
      },
      "execution_count": 4,
      "outputs": [
        {
          "output_type": "execute_result",
          "data": {
            "text/plain": [
              "True"
            ]
          },
          "metadata": {},
          "execution_count": 4
        }
      ]
    },
    {
      "cell_type": "code",
      "source": [
        "'h' == 'h' and 'h'.islower()"
      ],
      "metadata": {
        "colab": {
          "base_uri": "https://localhost:8080/"
        },
        "id": "genfdT0aj7WJ",
        "outputId": "ee37fc08-0c77-41a4-adb4-98b9ab63e926"
      },
      "execution_count": 5,
      "outputs": [
        {
          "output_type": "execute_result",
          "data": {
            "text/plain": [
              "True"
            ]
          },
          "metadata": {},
          "execution_count": 5
        }
      ]
    },
    {
      "cell_type": "code",
      "source": [
        "# not\n",
        "isTrue = True\n",
        "not isTrue"
      ],
      "metadata": {
        "colab": {
          "base_uri": "https://localhost:8080/"
        },
        "id": "QHLzkfmdkNBH",
        "outputId": "c9e65d53-c741-4440-cfbf-8ac0cc904046"
      },
      "execution_count": 6,
      "outputs": [
        {
          "output_type": "execute_result",
          "data": {
            "text/plain": [
              "False"
            ]
          },
          "metadata": {},
          "execution_count": 6
        }
      ]
    },
    {
      "cell_type": "code",
      "source": [
        "characters = ['c', 'h', 'e']\n",
        "if 'x' not in characters:\n",
        "  print('Not found!')"
      ],
      "metadata": {
        "colab": {
          "base_uri": "https://localhost:8080/"
        },
        "id": "4FsYE-9VkUSZ",
        "outputId": "5c8f66a9-f2dc-4c28-eaa6-333f6fcc1303"
      },
      "execution_count": 7,
      "outputs": [
        {
          "output_type": "stream",
          "name": "stdout",
          "text": [
            "Not found!\n"
          ]
        }
      ]
    },
    {
      "cell_type": "code",
      "source": [
        "if 'h' not in characters:\n",
        "  print('Not found!')\n",
        "else:\n",
        "  print('Found!')"
      ],
      "metadata": {
        "colab": {
          "base_uri": "https://localhost:8080/"
        },
        "id": "q3kPHrjOkkx3",
        "outputId": "d9826141-b009-4ec6-e397-3d22392cfbcb"
      },
      "execution_count": 9,
      "outputs": [
        {
          "output_type": "stream",
          "name": "stdout",
          "text": [
            "Found!\n"
          ]
        }
      ]
    },
    {
      "cell_type": "code",
      "source": [],
      "metadata": {
        "id": "tgj0T8U1koM1"
      },
      "execution_count": null,
      "outputs": []
    }
  ]
}