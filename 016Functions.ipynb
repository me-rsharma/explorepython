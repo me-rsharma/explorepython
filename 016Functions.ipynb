{
  "nbformat": 4,
  "nbformat_minor": 0,
  "metadata": {
    "colab": {
      "provenance": [],
      "collapsed_sections": [],
      "authorship_tag": "ABX9TyNFYaalICC4UdlDA4nA41cn",
      "include_colab_link": true
    },
    "kernelspec": {
      "name": "python3",
      "display_name": "Python 3"
    },
    "language_info": {
      "name": "python"
    }
  },
  "cells": [
    {
      "cell_type": "markdown",
      "metadata": {
        "id": "view-in-github",
        "colab_type": "text"
      },
      "source": [
        "<a href=\"https://colab.research.google.com/github/me-rsharma/explorepython/blob/master/016Functions.ipynb\" target=\"_parent\"><img src=\"https://colab.research.google.com/assets/colab-badge.svg\" alt=\"Open In Colab\"/></a>"
      ]
    },
    {
      "cell_type": "markdown",
      "source": [
        "## `FUNCTIONS in Python`\n",
        "\n",
        "`Function helps to wrap a block of code that needs to be executed repeatedly without rewriting the same code block again & again`\n",
        "\n",
        "`Function helps to execute same bolck of code with different set of data`\n",
        "\n",
        "`Creating function in python needs specific set of syntax - def & indentation`\n",
        "\n",
        "`Naming function uses snake_casing - words seperated with _`\n",
        "\n",
        "```python\n",
        "def function_name():\n",
        "  '''\n",
        "  Doc string\n",
        "  '''\n",
        "  # perform someting\n",
        "```"
      ],
      "metadata": {
        "id": "N7n1Gu7ZKoq1"
      }
    },
    {
      "cell_type": "code",
      "execution_count": 3,
      "metadata": {
        "id": "aZsR9DGlKhxa"
      },
      "outputs": [],
      "source": [
        "# Creating a function\n",
        "def greet():\n",
        "  '''\n",
        "  I greet people\n",
        "  '''\n",
        "  print('Hare Krishna')"
      ]
    },
    {
      "cell_type": "code",
      "source": [
        "greet()"
      ],
      "metadata": {
        "colab": {
          "base_uri": "https://localhost:8080/"
        },
        "id": "SnkZrE6xMQVE",
        "outputId": "f49468ac-975b-4282-f4e5-cd996f463c8e"
      },
      "execution_count": 4,
      "outputs": [
        {
          "output_type": "stream",
          "name": "stdout",
          "text": [
            "Hare Krishna\n"
          ]
        }
      ]
    },
    {
      "cell_type": "code",
      "source": [
        "help(greet)"
      ],
      "metadata": {
        "colab": {
          "base_uri": "https://localhost:8080/"
        },
        "id": "sdLersSDMVIx",
        "outputId": "0fd78743-ce6a-400e-9157-f1deb0a8f680"
      },
      "execution_count": 5,
      "outputs": [
        {
          "output_type": "stream",
          "name": "stdout",
          "text": [
            "Help on function greet in module __main__:\n",
            "\n",
            "greet()\n",
            "    I greet people\n",
            "\n"
          ]
        }
      ]
    },
    {
      "cell_type": "code",
      "source": [
        "# function with parameter\n",
        "def greet_someone(name):\n",
        "  '''\n",
        "  Help me with person name and I will greet that person\n",
        "  '''\n",
        "  print(f'Hare Krishna, {name}')\n"
      ],
      "metadata": {
        "id": "bPx3yu5IMm-6"
      },
      "execution_count": 11,
      "outputs": []
    },
    {
      "cell_type": "code",
      "source": [
        "greet_someone(name='Prabhuji')"
      ],
      "metadata": {
        "colab": {
          "base_uri": "https://localhost:8080/"
        },
        "id": "EOzfmkJGM92L",
        "outputId": "196c55dc-e677-4489-87d8-275b8559ff4a"
      },
      "execution_count": 12,
      "outputs": [
        {
          "output_type": "stream",
          "name": "stdout",
          "text": [
            "Hare Krishna, Prabhuji\n"
          ]
        }
      ]
    },
    {
      "cell_type": "code",
      "source": [
        "help(greet_someone)"
      ],
      "metadata": {
        "colab": {
          "base_uri": "https://localhost:8080/"
        },
        "id": "HLB9ghIHNArg",
        "outputId": "de34423d-8800-4aa3-b018-df6787d21455"
      },
      "execution_count": 13,
      "outputs": [
        {
          "output_type": "stream",
          "name": "stdout",
          "text": [
            "Help on function greet_someone in module __main__:\n",
            "\n",
            "greet_someone(name)\n",
            "    Help me with person name and I will greet that person\n",
            "\n"
          ]
        }
      ]
    },
    {
      "cell_type": "code",
      "source": [
        "def add(num_one, num_two):\n",
        "  '''\n",
        "  Pass me numbers and I will add them and return output\n",
        "  '''\n",
        "  return num_one + num_two"
      ],
      "metadata": {
        "id": "Wmk-E8sMNDHJ"
      },
      "execution_count": 14,
      "outputs": []
    },
    {
      "cell_type": "code",
      "source": [
        "output = add(10, 20)\n",
        "output"
      ],
      "metadata": {
        "colab": {
          "base_uri": "https://localhost:8080/"
        },
        "id": "tIdxv_BNN0HN",
        "outputId": "f5840718-2fd2-4490-8787-4fc055d9bc66"
      },
      "execution_count": 15,
      "outputs": [
        {
          "output_type": "execute_result",
          "data": {
            "text/plain": [
              "30"
            ]
          },
          "metadata": {},
          "execution_count": 15
        }
      ]
    },
    {
      "cell_type": "code",
      "source": [
        "help(add)"
      ],
      "metadata": {
        "colab": {
          "base_uri": "https://localhost:8080/"
        },
        "id": "0fNak8q2N5Xu",
        "outputId": "c0d8915a-b954-42f7-e931-0576af4304e5"
      },
      "execution_count": 16,
      "outputs": [
        {
          "output_type": "stream",
          "name": "stdout",
          "text": [
            "Help on function add in module __main__:\n",
            "\n",
            "add(num_one, num_two)\n",
            "    Pass me numbers and I will add them and return output\n",
            "\n"
          ]
        }
      ]
    },
    {
      "cell_type": "code",
      "source": [
        "def is_even(num):\n",
        "  '''\n",
        "  Return True if number is even else False\n",
        "  '''\n",
        "  if num % 2==0:\n",
        "    return True\n",
        "  else:\n",
        "    return False"
      ],
      "metadata": {
        "id": "6sTS6jbCN76I"
      },
      "execution_count": 17,
      "outputs": []
    },
    {
      "cell_type": "code",
      "source": [
        "is_even(4)"
      ],
      "metadata": {
        "colab": {
          "base_uri": "https://localhost:8080/"
        },
        "id": "PHEXNvo0THbF",
        "outputId": "d756b4d1-3fd8-4baf-b541-26b8b262c522"
      },
      "execution_count": 18,
      "outputs": [
        {
          "output_type": "execute_result",
          "data": {
            "text/plain": [
              "True"
            ]
          },
          "metadata": {},
          "execution_count": 18
        }
      ]
    },
    {
      "cell_type": "code",
      "source": [
        "is_even(5)"
      ],
      "metadata": {
        "colab": {
          "base_uri": "https://localhost:8080/"
        },
        "id": "1a-4T8uZTJyJ",
        "outputId": "6599d64a-5df4-4d52-eb08-dd0939bf4930"
      },
      "execution_count": 19,
      "outputs": [
        {
          "output_type": "execute_result",
          "data": {
            "text/plain": [
              "False"
            ]
          },
          "metadata": {},
          "execution_count": 19
        }
      ]
    },
    {
      "cell_type": "code",
      "source": [
        "from random import randint\n",
        "is_even(randint(2,50))"
      ],
      "metadata": {
        "colab": {
          "base_uri": "https://localhost:8080/"
        },
        "id": "baPfMN6qTLrR",
        "outputId": "d6b271e5-9ade-4cd6-db0a-538bb7657590"
      },
      "execution_count": 24,
      "outputs": [
        {
          "output_type": "execute_result",
          "data": {
            "text/plain": [
              "True"
            ]
          },
          "metadata": {},
          "execution_count": 24
        }
      ]
    },
    {
      "cell_type": "code",
      "source": [
        "def even_list(num_list):\n",
        "  '''\n",
        "  Accepts number list and return True if finds even number\n",
        "  '''\n",
        "  for num in num_list:\n",
        "    if num%2==0:\n",
        "      return True"
      ],
      "metadata": {
        "id": "jTdabHWHTZYo"
      },
      "execution_count": 26,
      "outputs": []
    },
    {
      "cell_type": "code",
      "source": [
        "even_list([1,2,3])"
      ],
      "metadata": {
        "colab": {
          "base_uri": "https://localhost:8080/"
        },
        "id": "cip2HLbZT-S_",
        "outputId": "9e8d7363-0e15-4704-db65-fadadd335490"
      },
      "execution_count": 27,
      "outputs": [
        {
          "output_type": "execute_result",
          "data": {
            "text/plain": [
              "True"
            ]
          },
          "metadata": {},
          "execution_count": 27
        }
      ]
    },
    {
      "cell_type": "code",
      "source": [
        "even_list([1,3,5])"
      ],
      "metadata": {
        "id": "huN8x8zDUXzL"
      },
      "execution_count": 29,
      "outputs": []
    },
    {
      "cell_type": "code",
      "source": [
        "# not returning anything-lets return flase if no even\n",
        "def even_list(num_list):\n",
        "  '''\n",
        "  Accepts number list and return True if finds even number\n",
        "  '''\n",
        "  for num in num_list:\n",
        "    if num%2==0:\n",
        "      return True\n",
        "    else:\n",
        "      return False"
      ],
      "metadata": {
        "id": "vWtG0yvTUbVy"
      },
      "execution_count": 30,
      "outputs": []
    },
    {
      "cell_type": "code",
      "source": [
        "even_list([1,3,5])"
      ],
      "metadata": {
        "colab": {
          "base_uri": "https://localhost:8080/"
        },
        "id": "c-qoTVtNUmGG",
        "outputId": "46ce2000-9f00-4105-8a76-4e9703070234"
      },
      "execution_count": 31,
      "outputs": [
        {
          "output_type": "execute_result",
          "data": {
            "text/plain": [
              "False"
            ]
          },
          "metadata": {},
          "execution_count": 31
        }
      ]
    },
    {
      "cell_type": "code",
      "source": [
        "even_list([2,3,5])"
      ],
      "metadata": {
        "colab": {
          "base_uri": "https://localhost:8080/"
        },
        "id": "NlPuLRK9UnnU",
        "outputId": "dd1f9abf-c1fb-4013-d60b-e88c46aeb7d3"
      },
      "execution_count": 32,
      "outputs": [
        {
          "output_type": "execute_result",
          "data": {
            "text/plain": [
              "True"
            ]
          },
          "metadata": {},
          "execution_count": 32
        }
      ]
    },
    {
      "cell_type": "code",
      "source": [
        "even_list([2,4,6])"
      ],
      "metadata": {
        "colab": {
          "base_uri": "https://localhost:8080/"
        },
        "id": "Fja-trpoUqoe",
        "outputId": "508e0dd3-39c6-4e5e-a6f4-ff1ba2ca0950"
      },
      "execution_count": 34,
      "outputs": [
        {
          "output_type": "execute_result",
          "data": {
            "text/plain": [
              "True"
            ]
          },
          "metadata": {},
          "execution_count": 34
        }
      ]
    },
    {
      "cell_type": "code",
      "source": [
        "def even_list(num_list):\n",
        "  '''\n",
        "  Accepts number list and return True if finds even number\n",
        "  '''\n",
        "  for num in num_list:\n",
        "    if num%2==0:\n",
        "      return True\n",
        "    else:\n",
        "      return False ## WRONG!! since when we hit this line program stops and may not compare other elements"
      ],
      "metadata": {
        "id": "ZICFFc2GUs9C"
      },
      "execution_count": 35,
      "outputs": []
    },
    {
      "cell_type": "code",
      "source": [
        "# We want function should return False only when all the numbers are checked\n",
        "def even_list(num_list):\n",
        "  '''\n",
        "  Accepts number list and return True if finds even number\n",
        "  '''\n",
        "  for num in num_list:\n",
        "    if num%2==0:\n",
        "      return True\n",
        "  return False"
      ],
      "metadata": {
        "id": "ConM4tSJVAjI"
      },
      "execution_count": 36,
      "outputs": []
    },
    {
      "cell_type": "code",
      "source": [
        "even_list([2,4,6])"
      ],
      "metadata": {
        "colab": {
          "base_uri": "https://localhost:8080/"
        },
        "id": "2AFsLmnJVNPU",
        "outputId": "71d8fc56-296a-43e4-c87d-438331fd5c68"
      },
      "execution_count": 37,
      "outputs": [
        {
          "output_type": "execute_result",
          "data": {
            "text/plain": [
              "True"
            ]
          },
          "metadata": {},
          "execution_count": 37
        }
      ]
    },
    {
      "cell_type": "code",
      "source": [
        "even_list([1,2,3])"
      ],
      "metadata": {
        "colab": {
          "base_uri": "https://localhost:8080/"
        },
        "id": "NapBaEnGVPod",
        "outputId": "b0a262ae-040a-44b4-a30f-37f00e251029"
      },
      "execution_count": 38,
      "outputs": [
        {
          "output_type": "execute_result",
          "data": {
            "text/plain": [
              "True"
            ]
          },
          "metadata": {},
          "execution_count": 38
        }
      ]
    },
    {
      "cell_type": "code",
      "source": [
        "even_list([1,3,7])"
      ],
      "metadata": {
        "colab": {
          "base_uri": "https://localhost:8080/"
        },
        "id": "9ZuA-kbJVRa_",
        "outputId": "816750f7-fba8-47cb-932b-fcc2f574a900"
      },
      "execution_count": 39,
      "outputs": [
        {
          "output_type": "execute_result",
          "data": {
            "text/plain": [
              "False"
            ]
          },
          "metadata": {},
          "execution_count": 39
        }
      ]
    },
    {
      "cell_type": "markdown",
      "source": [
        "### `return multiple items from function using tuple unpacking`"
      ],
      "metadata": {
        "id": "G8rYvdQsVdWk"
      }
    },
    {
      "cell_type": "code",
      "source": [
        "stock_prices = [('APL', 234), ('GOOL',536), ('MS', 340)]"
      ],
      "metadata": {
        "id": "JX6zBHnxVUCa"
      },
      "execution_count": 40,
      "outputs": []
    },
    {
      "cell_type": "code",
      "source": [
        "for ticker, price in stock_prices:\n",
        "  print(ticker, price)"
      ],
      "metadata": {
        "colab": {
          "base_uri": "https://localhost:8080/"
        },
        "id": "sCOf7ITMV1Tb",
        "outputId": "ba756349-aa62-48f6-e546-7701e0488f17"
      },
      "execution_count": 41,
      "outputs": [
        {
          "output_type": "stream",
          "name": "stdout",
          "text": [
            "APL 234\n",
            "GOOL 536\n",
            "MS 340\n"
          ]
        }
      ]
    },
    {
      "cell_type": "code",
      "source": [
        "def employee_check(work_hours):\n",
        "  current_max = 0\n",
        "  employee_of_month = ''\n",
        "  for employee, hours in work_hours:\n",
        "    if hours > current_max:\n",
        "      current_max = hours\n",
        "      employee_of_month = employee\n",
        "    else:\n",
        "      pass\n",
        "  return (employee_of_month, current_max)"
      ],
      "metadata": {
        "id": "IqWEHikhV_R7"
      },
      "execution_count": 42,
      "outputs": []
    },
    {
      "cell_type": "code",
      "source": [
        "work_hours = [('Rama', 120), ('Krishna', 300), ('Balaram', 200)]\n",
        "employee_check(work_hours)"
      ],
      "metadata": {
        "colab": {
          "base_uri": "https://localhost:8080/"
        },
        "id": "MRT2aT1GWr9I",
        "outputId": "9f685fcd-681a-4aef-bc3e-891d886352b9"
      },
      "execution_count": 48,
      "outputs": [
        {
          "output_type": "execute_result",
          "data": {
            "text/plain": [
              "('Krishna', 300)"
            ]
          },
          "metadata": {},
          "execution_count": 48
        }
      ]
    },
    {
      "cell_type": "code",
      "source": [
        "employee, hours = employee_check(work_hours)"
      ],
      "metadata": {
        "id": "sTSCnucEW5WI"
      },
      "execution_count": 49,
      "outputs": []
    },
    {
      "cell_type": "code",
      "source": [
        "employee"
      ],
      "metadata": {
        "colab": {
          "base_uri": "https://localhost:8080/",
          "height": 35
        },
        "id": "9F1SSgdpXA2u",
        "outputId": "53501fce-ba3e-492a-8001-33bc9c88488a"
      },
      "execution_count": 50,
      "outputs": [
        {
          "output_type": "execute_result",
          "data": {
            "text/plain": [
              "'Krishna'"
            ],
            "application/vnd.google.colaboratory.intrinsic+json": {
              "type": "string"
            }
          },
          "metadata": {},
          "execution_count": 50
        }
      ]
    },
    {
      "cell_type": "code",
      "source": [
        "hours"
      ],
      "metadata": {
        "colab": {
          "base_uri": "https://localhost:8080/"
        },
        "id": "NcAeWgGkXCZB",
        "outputId": "f4e4fe7e-666f-4db2-8107-55c0b851e53d"
      },
      "execution_count": 51,
      "outputs": [
        {
          "output_type": "execute_result",
          "data": {
            "text/plain": [
              "300"
            ]
          },
          "metadata": {},
          "execution_count": 51
        }
      ]
    },
    {
      "cell_type": "markdown",
      "source": [
        "### `GAME CHALLENGE - Three Cup Monte`"
      ],
      "metadata": {
        "id": "N6_8b6nt3QAz"
      }
    },
    {
      "cell_type": "code",
      "source": [
        "from random import shuffle"
      ],
      "metadata": {
        "id": "_AFzsAhLXDOf"
      },
      "execution_count": 1,
      "outputs": []
    },
    {
      "cell_type": "code",
      "source": [
        "rounds = [3,2,7,1,4]"
      ],
      "metadata": {
        "id": "7awpn7vN3aoW"
      },
      "execution_count": 2,
      "outputs": []
    },
    {
      "cell_type": "code",
      "source": [
        "shuffle(rounds)"
      ],
      "metadata": {
        "id": "R_l29ObF3gXQ"
      },
      "execution_count": 7,
      "outputs": []
    },
    {
      "cell_type": "code",
      "source": [
        "rounds"
      ],
      "metadata": {
        "colab": {
          "base_uri": "https://localhost:8080/"
        },
        "id": "N-cXFtW73h4u",
        "outputId": "3b8a0402-25be-4025-b702-41c5eb371222"
      },
      "execution_count": 8,
      "outputs": [
        {
          "output_type": "execute_result",
          "data": {
            "text/plain": [
              "[4, 3, 7, 2, 1]"
            ]
          },
          "metadata": {},
          "execution_count": 8
        }
      ]
    },
    {
      "cell_type": "code",
      "source": [
        "def shuffle_list(my_list):\n",
        "  shuffle(my_list)\n",
        "  return my_list"
      ],
      "metadata": {
        "id": "P7XtNGKx3jO1"
      },
      "execution_count": 9,
      "outputs": []
    },
    {
      "cell_type": "code",
      "source": [
        "result = shuffle_list(rounds)"
      ],
      "metadata": {
        "id": "2kljYI8E3vCv"
      },
      "execution_count": 10,
      "outputs": []
    },
    {
      "cell_type": "code",
      "source": [
        "result"
      ],
      "metadata": {
        "colab": {
          "base_uri": "https://localhost:8080/"
        },
        "id": "XHwHBdHV3ySd",
        "outputId": "f5933815-35b2-4156-d9fb-03efc3434019"
      },
      "execution_count": 11,
      "outputs": [
        {
          "output_type": "execute_result",
          "data": {
            "text/plain": [
              "[1, 2, 7, 3, 4]"
            ]
          },
          "metadata": {},
          "execution_count": 11
        }
      ]
    },
    {
      "cell_type": "code",
      "source": [
        "def player_guess():\n",
        "  guess=''\n",
        "  while guess not in ['0','1','2']:\n",
        "    guess = input('Pick a number 0, 1 or 2: ')\n",
        "  return int(guess)"
      ],
      "metadata": {
        "id": "Hao-e2as30cJ"
      },
      "execution_count": 15,
      "outputs": []
    },
    {
      "cell_type": "code",
      "source": [
        "guess = player_guess()"
      ],
      "metadata": {
        "colab": {
          "base_uri": "https://localhost:8080/"
        },
        "id": "nbAwG_A04YHe",
        "outputId": "65e79d61-84f8-4f40-83d9-a3671702fc84"
      },
      "execution_count": 16,
      "outputs": [
        {
          "name": "stdout",
          "output_type": "stream",
          "text": [
            "Pick a number 0, 1 or 2: 2\n"
          ]
        }
      ]
    },
    {
      "cell_type": "code",
      "source": [
        "def check_guess(my_list, guess):\n",
        "  if my_list[guess] == 'O':\n",
        "    print('Correct')\n",
        "  else:\n",
        "    print('Wrong guess')\n",
        "    print(my_list)"
      ],
      "metadata": {
        "id": "OB1ocWW14d-O"
      },
      "execution_count": 17,
      "outputs": []
    },
    {
      "cell_type": "code",
      "source": [
        "# Initial list\n",
        "my_list = ['O', '', '']\n",
        "\n",
        "# shuffle\n",
        "shuffle(my_list)\n",
        "print(my_list)\n",
        "\n",
        "# guess \n",
        "guess = player_guess()\n",
        "# check_guess\n",
        "check_guess(my_list, guess)"
      ],
      "metadata": {
        "colab": {
          "base_uri": "https://localhost:8080/"
        },
        "id": "6EO24dQk49M1",
        "outputId": "3d1cfa39-29e1-4c51-9f2b-fa2d61f45b8c"
      },
      "execution_count": 23,
      "outputs": [
        {
          "output_type": "stream",
          "name": "stdout",
          "text": [
            "['O', '', '']\n",
            "Pick a number 0, 1 or 2: 2\n",
            "Wrong guess\n",
            "['O', '', '']\n"
          ]
        }
      ]
    },
    {
      "cell_type": "markdown",
      "source": [
        "### `* args & **kwargs`"
      ],
      "metadata": {
        "id": "nnbIy4X48QkW"
      }
    },
    {
      "cell_type": "code",
      "source": [
        "# lets consider we have a function to add numbers\n",
        "def add(a, b, c):\n",
        "  print(a +b+c)"
      ],
      "metadata": {
        "id": "VhvBaskB5hTA"
      },
      "execution_count": 28,
      "outputs": []
    },
    {
      "cell_type": "code",
      "source": [
        "add(21,10,19)"
      ],
      "metadata": {
        "colab": {
          "base_uri": "https://localhost:8080/"
        },
        "id": "UNm71XRiKCQH",
        "outputId": "b4c28958-d558-4d9f-c3d9-444593c359e9"
      },
      "execution_count": 29,
      "outputs": [
        {
          "output_type": "stream",
          "name": "stdout",
          "text": [
            "50\n"
          ]
        }
      ]
    },
    {
      "cell_type": "code",
      "source": [
        "# if we have to add 50 numbers then\n",
        "def add(*args):\n",
        "  output = 0\n",
        "  for n in args:\n",
        "    output = output+n\n",
        "  print(output)"
      ],
      "metadata": {
        "id": "mDnSb-DTKHe6"
      },
      "execution_count": 30,
      "outputs": []
    },
    {
      "cell_type": "code",
      "source": [
        "add(10,10,40,89,45)"
      ],
      "metadata": {
        "colab": {
          "base_uri": "https://localhost:8080/"
        },
        "id": "Cu_xE_gKKuab",
        "outputId": "78766fcf-9ff2-4402-9ce3-b3ac469f1d86"
      },
      "execution_count": 33,
      "outputs": [
        {
          "output_type": "stream",
          "name": "stdout",
          "text": [
            "194\n"
          ]
        }
      ]
    },
    {
      "cell_type": "code",
      "source": [
        "def get_price(**kwargs):\n",
        "  print(kwargs)"
      ],
      "metadata": {
        "id": "vb_gEhkFKv-C"
      },
      "execution_count": 34,
      "outputs": []
    },
    {
      "cell_type": "code",
      "source": [
        "get_price(**{'apple':30, 'mango':10})"
      ],
      "metadata": {
        "colab": {
          "base_uri": "https://localhost:8080/"
        },
        "id": "X9z9nPrtLWd7",
        "outputId": "fdeb14d5-da4b-41b5-9c90-74f8a49502df"
      },
      "execution_count": 36,
      "outputs": [
        {
          "output_type": "stream",
          "name": "stdout",
          "text": [
            "{'apple': 30, 'mango': 10}\n"
          ]
        }
      ]
    },
    {
      "cell_type": "code",
      "source": [
        "get_price(apple=30, mango=89)"
      ],
      "metadata": {
        "colab": {
          "base_uri": "https://localhost:8080/"
        },
        "id": "k62Wx2vHLbdD",
        "outputId": "fe68229d-66ca-4f55-b33d-7f128c406cb3"
      },
      "execution_count": 37,
      "outputs": [
        {
          "output_type": "stream",
          "name": "stdout",
          "text": [
            "{'apple': 30, 'mango': 89}\n"
          ]
        }
      ]
    },
    {
      "cell_type": "code",
      "source": [],
      "metadata": {
        "id": "7NL0z0AcLqF6"
      },
      "execution_count": null,
      "outputs": []
    }
  ]
}