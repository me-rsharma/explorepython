{
  "nbformat": 4,
  "nbformat_minor": 0,
  "metadata": {
    "colab": {
      "provenance": [],
      "mount_file_id": "16VfMOIH4QKTuYCJRz1M9a4ziF74LwYTC",
      "authorship_tag": "ABX9TyPbMHfvJnBWl20Q45ZueJ0X",
      "include_colab_link": true
    },
    "kernelspec": {
      "name": "python3",
      "display_name": "Python 3"
    },
    "language_info": {
      "name": "python"
    }
  },
  "cells": [
    {
      "cell_type": "markdown",
      "metadata": {
        "id": "view-in-github",
        "colab_type": "text"
      },
      "source": [
        "<a href=\"https://colab.research.google.com/github/me-rsharma/explorepython/blob/master/005FileOperations.ipynb\" target=\"_parent\"><img src=\"https://colab.research.google.com/assets/colab-badge.svg\" alt=\"Open In Colab\"/></a>"
      ]
    },
    {
      "cell_type": "markdown",
      "source": [
        "## `I/O File Operations Using Python`"
      ],
      "metadata": {
        "id": "n_iNfbixpMK5"
      }
    },
    {
      "cell_type": "code",
      "execution_count": 1,
      "metadata": {
        "colab": {
          "base_uri": "https://localhost:8080/",
          "height": 35
        },
        "id": "w5XFzN3gUoSD",
        "outputId": "a8efdbd3-f216-49cd-c47d-ecedfb8481d2"
      },
      "outputs": [
        {
          "output_type": "execute_result",
          "data": {
            "text/plain": [
              "'/content'"
            ],
            "application/vnd.google.colaboratory.intrinsic+json": {
              "type": "string"
            }
          },
          "metadata": {},
          "execution_count": 1
        }
      ],
      "source": [
        "%pwd"
      ]
    },
    {
      "cell_type": "code",
      "source": [
        "myfile = open(file='./drive/MyDrive/data/bookofparis.txt')"
      ],
      "metadata": {
        "id": "NmgSUR8OVIGK"
      },
      "execution_count": 2,
      "outputs": []
    },
    {
      "cell_type": "code",
      "source": [
        "myfile"
      ],
      "metadata": {
        "colab": {
          "base_uri": "https://localhost:8080/"
        },
        "id": "1zI-U_-vVZAu",
        "outputId": "b0248ecb-5d94-478f-b7b9-5b32e92bacfb"
      },
      "execution_count": 3,
      "outputs": [
        {
          "output_type": "execute_result",
          "data": {
            "text/plain": [
              "<_io.TextIOWrapper name='./drive/MyDrive/data/bookofparis.txt' mode='r' encoding='UTF-8'>"
            ]
          },
          "metadata": {},
          "execution_count": 3
        }
      ]
    },
    {
      "cell_type": "code",
      "source": [
        "myfile.read()"
      ],
      "metadata": {
        "colab": {
          "base_uri": "https://localhost:8080/",
          "height": 157
        },
        "id": "C5i_2_ffVaTT",
        "outputId": "4562f789-93f2-41db-edc5-27bfc003c42d"
      },
      "execution_count": 4,
      "outputs": [
        {
          "output_type": "execute_result",
          "data": {
            "text/plain": [
              "\"The Project Gutenberg EBook of Paris as it is, by Jules Noriac\\n\\nThis eBook is for the use of anyone anywhere in the United States and\\nmost other parts of the world at no cost and with almost no restrictions\\nwhatsoever. You may copy it, give it away or re-use it under the terms\\nof the Project Gutenberg License included with this eBook or online at\\nwww.gutenberg.org. If you are not located in the United States, you'll\\nhave to check the laws of the country where you are located before using\\nthis ebook.\\n\\n\\n\\nTitle: Paris as it is\\n\\nAuthor: Jules Noriac\\n\\nRelease Date: December 14, 2019 [EBook\\n\\nLanguage: French\\n\\nCharacter set encoding: UTF-8\\n\\n*** START OF THIS PROJECT GUTENBERG EBOOK PARIS AS IT IS ***\\n\\n\\n\\n\\nProduced by Clarity, Christian Boissonnas and the Online\\nDistributed Proofreading Team at http://www.pgdp.net (This\\nfile was produced from images generously made available\\nby The Internet Archive / Canadian Libraries)\""
            ],
            "application/vnd.google.colaboratory.intrinsic+json": {
              "type": "string"
            }
          },
          "metadata": {},
          "execution_count": 4
        }
      ]
    },
    {
      "cell_type": "code",
      "source": [
        "myfile.read()"
      ],
      "metadata": {
        "colab": {
          "base_uri": "https://localhost:8080/",
          "height": 35
        },
        "id": "MjEDn9CNVdDE",
        "outputId": "831f18f8-9186-4bd0-9096-5641fd578d8e"
      },
      "execution_count": 5,
      "outputs": [
        {
          "output_type": "execute_result",
          "data": {
            "text/plain": [
              "''"
            ],
            "application/vnd.google.colaboratory.intrinsic+json": {
              "type": "string"
            }
          },
          "metadata": {},
          "execution_count": 5
        }
      ]
    },
    {
      "cell_type": "code",
      "source": [
        "# The reasonw e aregeeting blank onsecond read. The pointer which is used for trversing\n",
        "# from first character to last reaches at the last and next to that when its trying it found nothing ans hence return blank\n",
        "# to get pointer at start\n",
        "myfile.seek(0)\n"
      ],
      "metadata": {
        "colab": {
          "base_uri": "https://localhost:8080/"
        },
        "id": "BuQXsqczVhEc",
        "outputId": "c3935fdd-7e9e-4f98-f3bd-84a7f02bae00"
      },
      "execution_count": 6,
      "outputs": [
        {
          "output_type": "execute_result",
          "data": {
            "text/plain": [
              "0"
            ]
          },
          "metadata": {},
          "execution_count": 6
        }
      ]
    },
    {
      "cell_type": "code",
      "source": [
        "myfile.read()"
      ],
      "metadata": {
        "colab": {
          "base_uri": "https://localhost:8080/",
          "height": 157
        },
        "id": "rT6UtShbfPmE",
        "outputId": "c7774deb-04f8-4788-f9e1-7b5538915888"
      },
      "execution_count": 7,
      "outputs": [
        {
          "output_type": "execute_result",
          "data": {
            "text/plain": [
              "\"The Project Gutenberg EBook of Paris as it is, by Jules Noriac\\n\\nThis eBook is for the use of anyone anywhere in the United States and\\nmost other parts of the world at no cost and with almost no restrictions\\nwhatsoever. You may copy it, give it away or re-use it under the terms\\nof the Project Gutenberg License included with this eBook or online at\\nwww.gutenberg.org. If you are not located in the United States, you'll\\nhave to check the laws of the country where you are located before using\\nthis ebook.\\n\\n\\n\\nTitle: Paris as it is\\n\\nAuthor: Jules Noriac\\n\\nRelease Date: December 14, 2019 [EBook\\n\\nLanguage: French\\n\\nCharacter set encoding: UTF-8\\n\\n*** START OF THIS PROJECT GUTENBERG EBOOK PARIS AS IT IS ***\\n\\n\\n\\n\\nProduced by Clarity, Christian Boissonnas and the Online\\nDistributed Proofreading Team at http://www.pgdp.net (This\\nfile was produced from images generously made available\\nby The Internet Archive / Canadian Libraries)\""
            ],
            "application/vnd.google.colaboratory.intrinsic+json": {
              "type": "string"
            }
          },
          "metadata": {},
          "execution_count": 7
        }
      ]
    },
    {
      "cell_type": "code",
      "source": [
        "myfile.read()"
      ],
      "metadata": {
        "colab": {
          "base_uri": "https://localhost:8080/",
          "height": 35
        },
        "id": "jIJ1pDkVfRSL",
        "outputId": "1403b4a1-24ab-47a8-bd86-a15b5817d2f7"
      },
      "execution_count": 8,
      "outputs": [
        {
          "output_type": "execute_result",
          "data": {
            "text/plain": [
              "''"
            ],
            "application/vnd.google.colaboratory.intrinsic+json": {
              "type": "string"
            }
          },
          "metadata": {},
          "execution_count": 8
        }
      ]
    },
    {
      "cell_type": "code",
      "source": [
        "myfile.seek(0)"
      ],
      "metadata": {
        "colab": {
          "base_uri": "https://localhost:8080/"
        },
        "id": "j_e1--M7fT_M",
        "outputId": "7ba679d7-7dc8-4709-d76c-c575fcbc0076"
      },
      "execution_count": 9,
      "outputs": [
        {
          "output_type": "execute_result",
          "data": {
            "text/plain": [
              "0"
            ]
          },
          "metadata": {},
          "execution_count": 9
        }
      ]
    },
    {
      "cell_type": "code",
      "source": [
        "myfile.readlines()"
      ],
      "metadata": {
        "colab": {
          "base_uri": "https://localhost:8080/"
        },
        "id": "Waaqwr0PiFMt",
        "outputId": "60f187e3-c31f-4216-b710-b27f9846555a"
      },
      "execution_count": 10,
      "outputs": [
        {
          "output_type": "execute_result",
          "data": {
            "text/plain": [
              "['The Project Gutenberg EBook of Paris as it is, by Jules Noriac\\n',\n",
              " '\\n',\n",
              " 'This eBook is for the use of anyone anywhere in the United States and\\n',\n",
              " 'most other parts of the world at no cost and with almost no restrictions\\n',\n",
              " 'whatsoever. You may copy it, give it away or re-use it under the terms\\n',\n",
              " 'of the Project Gutenberg License included with this eBook or online at\\n',\n",
              " \"www.gutenberg.org. If you are not located in the United States, you'll\\n\",\n",
              " 'have to check the laws of the country where you are located before using\\n',\n",
              " 'this ebook.\\n',\n",
              " '\\n',\n",
              " '\\n',\n",
              " '\\n',\n",
              " 'Title: Paris as it is\\n',\n",
              " '\\n',\n",
              " 'Author: Jules Noriac\\n',\n",
              " '\\n',\n",
              " 'Release Date: December 14, 2019 [EBook\\n',\n",
              " '\\n',\n",
              " 'Language: French\\n',\n",
              " '\\n',\n",
              " 'Character set encoding: UTF-8\\n',\n",
              " '\\n',\n",
              " '*** START OF THIS PROJECT GUTENBERG EBOOK PARIS AS IT IS ***\\n',\n",
              " '\\n',\n",
              " '\\n',\n",
              " '\\n',\n",
              " '\\n',\n",
              " 'Produced by Clarity, Christian Boissonnas and the Online\\n',\n",
              " 'Distributed Proofreading Team at http://www.pgdp.net (This\\n',\n",
              " 'file was produced from images generously made available\\n',\n",
              " 'by The Internet Archive / Canadian Libraries)']"
            ]
          },
          "metadata": {},
          "execution_count": 10
        }
      ]
    },
    {
      "cell_type": "code",
      "source": [
        "myfile.readline() # return the list of lines from file"
      ],
      "metadata": {
        "colab": {
          "base_uri": "https://localhost:8080/",
          "height": 35
        },
        "id": "HU2PWy0MiHHJ",
        "outputId": "3948393d-e917-41a1-8eac-42ec1d5ed3ce"
      },
      "execution_count": 11,
      "outputs": [
        {
          "output_type": "execute_result",
          "data": {
            "text/plain": [
              "''"
            ],
            "application/vnd.google.colaboratory.intrinsic+json": {
              "type": "string"
            }
          },
          "metadata": {},
          "execution_count": 11
        }
      ]
    },
    {
      "cell_type": "code",
      "source": [
        "myfile.seek(0)"
      ],
      "metadata": {
        "colab": {
          "base_uri": "https://localhost:8080/"
        },
        "id": "4PCOXyKDiMfc",
        "outputId": "2089a8e2-6422-4c27-abc5-8559c1479ba5"
      },
      "execution_count": 13,
      "outputs": [
        {
          "output_type": "execute_result",
          "data": {
            "text/plain": [
              "0"
            ]
          },
          "metadata": {},
          "execution_count": 13
        }
      ]
    },
    {
      "cell_type": "code",
      "source": [
        "myfile.readline() # read first line only"
      ],
      "metadata": {
        "colab": {
          "base_uri": "https://localhost:8080/",
          "height": 35
        },
        "id": "8lqGXXLDiO-j",
        "outputId": "e1de6b78-6056-42de-9f67-da6635bdc79e"
      },
      "execution_count": 14,
      "outputs": [
        {
          "output_type": "execute_result",
          "data": {
            "text/plain": [
              "'The Project Gutenberg EBook of Paris as it is, by Jules Noriac\\n'"
            ],
            "application/vnd.google.colaboratory.intrinsic+json": {
              "type": "string"
            }
          },
          "metadata": {},
          "execution_count": 14
        }
      ]
    },
    {
      "cell_type": "code",
      "source": [
        "# finally we should close the file\n",
        "myfile.close()"
      ],
      "metadata": {
        "id": "iFnH-AoTiRqJ"
      },
      "execution_count": 15,
      "outputs": []
    },
    {
      "cell_type": "code",
      "source": [
        "# To avoid manually closing the file we can use context manager `with` \n",
        "with open(file='./drive/MyDrive/data/bookofparis.txt') as myfile:\n",
        "  content = myfile.read()"
      ],
      "metadata": {
        "id": "cEq_0kjJic_V"
      },
      "execution_count": 16,
      "outputs": []
    },
    {
      "cell_type": "code",
      "source": [
        "content"
      ],
      "metadata": {
        "colab": {
          "base_uri": "https://localhost:8080/",
          "height": 157
        },
        "id": "6na-msXgi-df",
        "outputId": "25250f36-9d2e-4f3a-cf6a-a139b7f85528"
      },
      "execution_count": 17,
      "outputs": [
        {
          "output_type": "execute_result",
          "data": {
            "text/plain": [
              "\"The Project Gutenberg EBook of Paris as it is, by Jules Noriac\\n\\nThis eBook is for the use of anyone anywhere in the United States and\\nmost other parts of the world at no cost and with almost no restrictions\\nwhatsoever. You may copy it, give it away or re-use it under the terms\\nof the Project Gutenberg License included with this eBook or online at\\nwww.gutenberg.org. If you are not located in the United States, you'll\\nhave to check the laws of the country where you are located before using\\nthis ebook.\\n\\n\\n\\nTitle: Paris as it is\\n\\nAuthor: Jules Noriac\\n\\nRelease Date: December 14, 2019 [EBook\\n\\nLanguage: French\\n\\nCharacter set encoding: UTF-8\\n\\n*** START OF THIS PROJECT GUTENBERG EBOOK PARIS AS IT IS ***\\n\\n\\n\\n\\nProduced by Clarity, Christian Boissonnas and the Online\\nDistributed Proofreading Team at http://www.pgdp.net (This\\nfile was produced from images generously made available\\nby The Internet Archive / Canadian Libraries)\""
            ],
            "application/vnd.google.colaboratory.intrinsic+json": {
              "type": "string"
            }
          },
          "metadata": {},
          "execution_count": 17
        }
      ]
    },
    {
      "cell_type": "code",
      "source": [
        "content.split('\\n')"
      ],
      "metadata": {
        "colab": {
          "base_uri": "https://localhost:8080/"
        },
        "id": "T6qhdjAhi_s8",
        "outputId": "81b2e769-e074-4e72-8284-982e3bec7a60"
      },
      "execution_count": 19,
      "outputs": [
        {
          "output_type": "execute_result",
          "data": {
            "text/plain": [
              "['The Project Gutenberg EBook of Paris as it is, by Jules Noriac',\n",
              " '',\n",
              " 'This eBook is for the use of anyone anywhere in the United States and',\n",
              " 'most other parts of the world at no cost and with almost no restrictions',\n",
              " 'whatsoever. You may copy it, give it away or re-use it under the terms',\n",
              " 'of the Project Gutenberg License included with this eBook or online at',\n",
              " \"www.gutenberg.org. If you are not located in the United States, you'll\",\n",
              " 'have to check the laws of the country where you are located before using',\n",
              " 'this ebook.',\n",
              " '',\n",
              " '',\n",
              " '',\n",
              " 'Title: Paris as it is',\n",
              " '',\n",
              " 'Author: Jules Noriac',\n",
              " '',\n",
              " 'Release Date: December 14, 2019 [EBook',\n",
              " '',\n",
              " 'Language: French',\n",
              " '',\n",
              " 'Character set encoding: UTF-8',\n",
              " '',\n",
              " '*** START OF THIS PROJECT GUTENBERG EBOOK PARIS AS IT IS ***',\n",
              " '',\n",
              " '',\n",
              " '',\n",
              " '',\n",
              " 'Produced by Clarity, Christian Boissonnas and the Online',\n",
              " 'Distributed Proofreading Team at http://www.pgdp.net (This',\n",
              " 'file was produced from images generously made available',\n",
              " 'by The Internet Archive / Canadian Libraries)']"
            ]
          },
          "metadata": {},
          "execution_count": 19
        }
      ]
    },
    {
      "cell_type": "code",
      "source": [
        "with open('./drive/MyDrive/data/bookofparis.txt', mode='r') as myfile:\n",
        "  content = myfile.read()"
      ],
      "metadata": {
        "id": "AamBT7uDjB8W"
      },
      "execution_count": 20,
      "outputs": []
    },
    {
      "cell_type": "code",
      "source": [
        "content"
      ],
      "metadata": {
        "colab": {
          "base_uri": "https://localhost:8080/",
          "height": 157
        },
        "id": "ITHWeJ_hjYQ9",
        "outputId": "4411ed95-0cc1-41fd-a3dd-5440e8f27d12"
      },
      "execution_count": 21,
      "outputs": [
        {
          "output_type": "execute_result",
          "data": {
            "text/plain": [
              "\"The Project Gutenberg EBook of Paris as it is, by Jules Noriac\\n\\nThis eBook is for the use of anyone anywhere in the United States and\\nmost other parts of the world at no cost and with almost no restrictions\\nwhatsoever. You may copy it, give it away or re-use it under the terms\\nof the Project Gutenberg License included with this eBook or online at\\nwww.gutenberg.org. If you are not located in the United States, you'll\\nhave to check the laws of the country where you are located before using\\nthis ebook.\\n\\n\\n\\nTitle: Paris as it is\\n\\nAuthor: Jules Noriac\\n\\nRelease Date: December 14, 2019 [EBook\\n\\nLanguage: French\\n\\nCharacter set encoding: UTF-8\\n\\n*** START OF THIS PROJECT GUTENBERG EBOOK PARIS AS IT IS ***\\n\\n\\n\\n\\nProduced by Clarity, Christian Boissonnas and the Online\\nDistributed Proofreading Team at http://www.pgdp.net (This\\nfile was produced from images generously made available\\nby The Internet Archive / Canadian Libraries)\""
            ],
            "application/vnd.google.colaboratory.intrinsic+json": {
              "type": "string"
            }
          },
          "metadata": {},
          "execution_count": 21
        }
      ]
    },
    {
      "cell_type": "code",
      "source": [
        "with open('./drive/MyDrive/data/bookofparis.txt', mode='w') as myfile:\n",
        "  content = myfile.read()"
      ],
      "metadata": {
        "colab": {
          "base_uri": "https://localhost:8080/",
          "height": 182
        },
        "id": "n76ByWBAjZff",
        "outputId": "82a53564-e8c2-4738-eaca-b1fab3a56647"
      },
      "execution_count": 22,
      "outputs": [
        {
          "output_type": "error",
          "ename": "UnsupportedOperation",
          "evalue": "ignored",
          "traceback": [
            "\u001b[0;31m---------------------------------------------------------------------------\u001b[0m",
            "\u001b[0;31mUnsupportedOperation\u001b[0m                      Traceback (most recent call last)",
            "\u001b[0;32m<ipython-input-22-db088d3b7576>\u001b[0m in \u001b[0;36m<module>\u001b[0;34m\u001b[0m\n\u001b[1;32m      1\u001b[0m \u001b[0;32mwith\u001b[0m \u001b[0mopen\u001b[0m\u001b[0;34m(\u001b[0m\u001b[0;34m'./drive/MyDrive/data/bookofparis.txt'\u001b[0m\u001b[0;34m,\u001b[0m \u001b[0mmode\u001b[0m\u001b[0;34m=\u001b[0m\u001b[0;34m'w'\u001b[0m\u001b[0;34m)\u001b[0m \u001b[0;32mas\u001b[0m \u001b[0mmyfile\u001b[0m\u001b[0;34m:\u001b[0m\u001b[0;34m\u001b[0m\u001b[0;34m\u001b[0m\u001b[0m\n\u001b[0;32m----> 2\u001b[0;31m   \u001b[0mcontent\u001b[0m \u001b[0;34m=\u001b[0m \u001b[0mmyfile\u001b[0m\u001b[0;34m.\u001b[0m\u001b[0mread\u001b[0m\u001b[0;34m(\u001b[0m\u001b[0;34m)\u001b[0m\u001b[0;34m\u001b[0m\u001b[0;34m\u001b[0m\u001b[0m\n\u001b[0m",
            "\u001b[0;31mUnsupportedOperation\u001b[0m: not readable"
          ]
        }
      ]
    },
    {
      "cell_type": "code",
      "source": [
        "%%writefile ./drive/MyDrive/data/my_new_file.txt\n",
        "ONE ON first\n",
        "SECOND on SECOND\n",
        "Third on Third"
      ],
      "metadata": {
        "colab": {
          "base_uri": "https://localhost:8080/"
        },
        "id": "CKTi-EX_jcgq",
        "outputId": "cab0b9ae-f8fe-49da-ebe5-2f4d2286d993"
      },
      "execution_count": 23,
      "outputs": [
        {
          "output_type": "stream",
          "name": "stdout",
          "text": [
            "Writing ./drive/MyDrive/data/my_new_file.txt\n"
          ]
        }
      ]
    },
    {
      "cell_type": "code",
      "source": [
        "with open(file='./drive/MyDrive/data/my_new_file.txt', mode='r') as readfile:\n",
        "  content = readfile.read()"
      ],
      "metadata": {
        "id": "wPfN6P3Aj63_"
      },
      "execution_count": 24,
      "outputs": []
    },
    {
      "cell_type": "code",
      "source": [
        "content"
      ],
      "metadata": {
        "colab": {
          "base_uri": "https://localhost:8080/",
          "height": 35
        },
        "id": "L4m8DmujkM_3",
        "outputId": "71b1359a-41e8-415d-8ef3-10dc9a8f2edc"
      },
      "execution_count": 25,
      "outputs": [
        {
          "output_type": "execute_result",
          "data": {
            "text/plain": [
              "'ONE ON first\\nSECOND on SECOND\\nThird on Third\\n'"
            ],
            "application/vnd.google.colaboratory.intrinsic+json": {
              "type": "string"
            }
          },
          "metadata": {},
          "execution_count": 25
        }
      ]
    },
    {
      "cell_type": "code",
      "source": [
        "with open(file='./drive/MyDrive/data/my_new_file.txt', mode='a') as readfile:\n",
        "  content = readfile.write('FOURTH on Fourth')"
      ],
      "metadata": {
        "id": "176dFAc9kODC"
      },
      "execution_count": 27,
      "outputs": []
    },
    {
      "cell_type": "code",
      "source": [
        "with open(file='./drive/MyDrive/data/my_new_file.txt', mode='r') as readfile:\n",
        "  content = readfile.read()"
      ],
      "metadata": {
        "id": "8Sm4iaAKkYj5"
      },
      "execution_count": 28,
      "outputs": []
    },
    {
      "cell_type": "code",
      "source": [
        "content"
      ],
      "metadata": {
        "colab": {
          "base_uri": "https://localhost:8080/",
          "height": 35
        },
        "id": "JysFVsIzkgB3",
        "outputId": "1062b368-1beb-4a1f-8017-35c635ce0a98"
      },
      "execution_count": 29,
      "outputs": [
        {
          "output_type": "execute_result",
          "data": {
            "text/plain": [
              "'ONE ON first\\nSECOND on SECOND\\nThird on Third\\nFOURTH on Fourth'"
            ],
            "application/vnd.google.colaboratory.intrinsic+json": {
              "type": "string"
            }
          },
          "metadata": {},
          "execution_count": 29
        }
      ]
    },
    {
      "cell_type": "code",
      "source": [
        "with open(file='./drive/MyDrive/data/create_file.txt', mode='w') as readfile:\n",
        "  content = readfile.write('created file using python code')"
      ],
      "metadata": {
        "id": "wAmCMlDCkhEK"
      },
      "execution_count": 30,
      "outputs": []
    },
    {
      "cell_type": "code",
      "source": [
        "with open(file='./drive/MyDrive/data/create_file.txt', mode='r') as readfile:\n",
        "  content = readfile.read()"
      ],
      "metadata": {
        "id": "IJNisSuFkufN"
      },
      "execution_count": 31,
      "outputs": []
    },
    {
      "cell_type": "code",
      "source": [
        "content"
      ],
      "metadata": {
        "colab": {
          "base_uri": "https://localhost:8080/",
          "height": 35
        },
        "id": "qWRveq5HkxNe",
        "outputId": "e526fa2e-b4ae-49a4-f1a4-1051a08656a4"
      },
      "execution_count": 32,
      "outputs": [
        {
          "output_type": "execute_result",
          "data": {
            "text/plain": [
              "'created file using python code'"
            ],
            "application/vnd.google.colaboratory.intrinsic+json": {
              "type": "string"
            }
          },
          "metadata": {},
          "execution_count": 32
        }
      ]
    },
    {
      "cell_type": "markdown",
      "source": [
        "##`DIFFERENT MODES - Reading, Writing & Appending`\n",
        "\n",
        "`mode=r` `(is read only)`\n",
        "\n",
        "`mode=w` `(is write only/ overwrite current file or create new if file not exists)`\n",
        "\n",
        "`mode=a` `(is append only)`\n",
        "\n",
        "`mode=r+` `(is reading & writing)`\n",
        "\n",
        "`mode=w+` `(is reading & writing - oerwrite current file or create new file if not exists)`"
      ],
      "metadata": {
        "id": "Ec_UF53Hk6n1"
      }
    },
    {
      "cell_type": "code",
      "source": [
        "with open(file='./drive/MyDrive/data/create_file.txt', mode='w+') as myfile:\n",
        "  myfile.write('I am adding content to existing file')\n",
        "  content_read = myfile.read()"
      ],
      "metadata": {
        "id": "zqhIZhHakyE_"
      },
      "execution_count": 37,
      "outputs": []
    },
    {
      "cell_type": "code",
      "source": [
        "content_read"
      ],
      "metadata": {
        "colab": {
          "base_uri": "https://localhost:8080/",
          "height": 35
        },
        "id": "3lEScJ5dmCcS",
        "outputId": "5b406272-8f0e-4787-e59f-c3661cc422e0"
      },
      "execution_count": 38,
      "outputs": [
        {
          "output_type": "execute_result",
          "data": {
            "text/plain": [
              "''"
            ],
            "application/vnd.google.colaboratory.intrinsic+json": {
              "type": "string"
            }
          },
          "metadata": {},
          "execution_count": 38
        }
      ]
    },
    {
      "cell_type": "code",
      "source": [
        "with open(file='./drive/MyDrive/data/create_file.txt', mode='w+') as myfile:\n",
        "  myfile.write('I am adding content to existing file')\n",
        "  #print(myfile.read())"
      ],
      "metadata": {
        "id": "TXlcmPtomDa_"
      },
      "execution_count": 43,
      "outputs": []
    },
    {
      "cell_type": "code",
      "source": [
        "with open(file='./drive/MyDrive/data/create_file.txt', mode='w+') as myfile:\n",
        "  #myfile.write('I am adding content to existing file')\n",
        "  content_read = myfile.read()"
      ],
      "metadata": {
        "id": "DuxzaydFmnQ4"
      },
      "execution_count": 44,
      "outputs": []
    },
    {
      "cell_type": "code",
      "source": [
        "content_read"
      ],
      "metadata": {
        "colab": {
          "base_uri": "https://localhost:8080/",
          "height": 35
        },
        "id": "G2urvJ20mvXa",
        "outputId": "9403c57d-f8ad-4218-eeda-28be3f4915d0"
      },
      "execution_count": 45,
      "outputs": [
        {
          "output_type": "execute_result",
          "data": {
            "text/plain": [
              "''"
            ],
            "application/vnd.google.colaboratory.intrinsic+json": {
              "type": "string"
            }
          },
          "metadata": {},
          "execution_count": 45
        }
      ]
    },
    {
      "cell_type": "markdown",
      "source": [
        "## `Resources for More Basic Practice`\n",
        "\n",
        "`Before you begin your assessment, I wanted to point out some helpful links for practice (don't worry about being able to do these exercises, I just want you to be aware of the links so you can visit them later, since we still haven't discussed functions, you won't be able to utilize a lot of these resources yet!):`\n",
        "\n",
        "#### `Basic Practice:`\n",
        "\n",
        "[`http://codingbat.com/python`](http://codingbat.com/python)\n",
        "\n",
        "#### `More Mathematical (and Harder) Practice:`\n",
        "\n",
        "[`https://projecteuler.net/archives`](https://projecteuler.net/archives)\n",
        "\n",
        "#### `List of Practice Problems:`\n",
        "\n",
        "[`http://www.codeabbey.com/index/task_list`](http://www.codeabbey.com/index/task_list)\n",
        "\n",
        "#### `A SubReddit Devoted to Daily Practice` \n",
        "`Problems:`\n",
        "\n",
        "[`https://www.reddit.com/r/dailyprogrammer`](https://www.reddit.com/r/dailyprogrammer)\n",
        "\n",
        "`A very tricky website with very few hints and touch problems (Not for beginners but still interesting)`\n",
        "\n",
        "[`http://www.pythonchallenge.com/`](http://www.pythonchallenge.com/)"
      ],
      "metadata": {
        "id": "KEkipCqNnpQG"
      }
    },
    {
      "cell_type": "code",
      "source": [],
      "metadata": {
        "id": "LidFpGdRmwuC"
      },
      "execution_count": null,
      "outputs": []
    }
  ]
}